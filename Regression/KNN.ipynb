{
  "nbformat": 4,
  "nbformat_minor": 0,
  "metadata": {
    "colab": {
      "name": "KNN.ipynb",
      "provenance": [],
      "collapsed_sections": [],
      "authorship_tag": "ABX9TyM/LKfq1So57Xz6Nk1KERYL",
      "include_colab_link": true
    },
    "kernelspec": {
      "name": "python3",
      "display_name": "Python 3"
    }
  },
  "cells": [
    {
      "cell_type": "markdown",
      "metadata": {
        "id": "view-in-github",
        "colab_type": "text"
      },
      "source": [
        "<a href=\"https://colab.research.google.com/github/crsimmons1/lifeexpectancy/blob/master/Regression/KNN.ipynb\" target=\"_parent\"><img src=\"https://colab.research.google.com/assets/colab-badge.svg\" alt=\"Open In Colab\"/></a>"
      ]
    },
    {
      "cell_type": "markdown",
      "metadata": {
        "id": "FTUXc7m9opr7",
        "colab_type": "text"
      },
      "source": [
        "# **KNN with Regression**"
      ]
    },
    {
      "cell_type": "code",
      "metadata": {
        "id": "B1xBWGPaooCK",
        "colab_type": "code",
        "colab": {}
      },
      "source": [
        "import pandas as pd\n",
        "import numpy as np\n",
        "\n",
        "# Import data\n",
        "data= pd.read_csv(\"cleaned_data.csv\")\n",
        "\n",
        "# Split in X and y \n",
        "y = pd.DataFrame(data.LifeExpectancy)\n",
        "X = data.drop(columns=['LifeExpectancy','TExp', 'Year'])\n",
        "\n",
        "#Train-test split \n",
        "from sklearn.model_selection import train_test_split\n",
        "X_train, X_test, y_train, y_test = train_test_split(X, y, test_size = 0.2, random_state=33)"
      ],
      "execution_count": 0,
      "outputs": []
    },
    {
      "cell_type": "markdown",
      "metadata": {
        "id": "bNusfYLLpeqk",
        "colab_type": "text"
      },
      "source": [
        "## KNN for a Row, by Hand (Numpy/Pandas) "
      ]
    },
    {
      "cell_type": "code",
      "metadata": {
        "id": "X3E_3C6WyOyi",
        "colab_type": "code",
        "outputId": "94d7402b-91ab-455b-c2b8-a2600a1b3256",
        "colab": {
          "base_uri": "https://localhost:8080/",
          "height": 34
        }
      },
      "source": [
        "# Define a distance metric\n",
        "def euclidean_distance(row1, row2):\n",
        "    instance1 = np.array(row1) \n",
        "    instance2 = np.array(row2)\n",
        "    return np.linalg.norm(row1 - row2)\n",
        "\n",
        "# Verify on two rows \n",
        "print(euclidean_distance(X_train.iloc[3], X_test.iloc[44]))"
      ],
      "execution_count": 2,
      "outputs": [
        {
          "output_type": "stream",
          "text": [
            "3873551.8350223997\n"
          ],
          "name": "stdout"
        }
      ]
    },
    {
      "cell_type": "code",
      "metadata": {
        "id": "gLJ6HOhqCYx4",
        "colab_type": "code",
        "colab": {}
      },
      "source": [
        "distances = [] \n",
        "def get_neighbors(training_X, training_y, test_row, k, distance):\n",
        "    for index in range(len(training_X)): #for every training row ...\n",
        "        dist = distance(test_row, training_X.iloc[index]) # ... find the distance between that and the test row \n",
        "        distances.append((training_X.iloc[index], dist, training_y.iloc[index])) #...append it to an empty list \n",
        "    distances.sort(key=lambda x: x[1]) # sort these distances\n",
        "    neighbors = distances[:k] #take the top most k distances\n",
        "    return(neighbors) #return the list"
      ],
      "execution_count": 0,
      "outputs": []
    },
    {
      "cell_type": "code",
      "metadata": {
        "id": "p7B5UDADKEUS",
        "colab_type": "code",
        "outputId": "29ebc6e4-7d97-4a7e-efe4-f2923d73d246",
        "colab": {
          "base_uri": "https://localhost:8080/",
          "height": 357
        }
      },
      "source": [
        "X_train.iloc[5]"
      ],
      "execution_count": 4,
      "outputs": [
        {
          "output_type": "execute_result",
          "data": {
            "text/plain": [
              "Status            0.000000e+00\n",
              "AdultMortality    1.200000e+01\n",
              "InfantDeaths      0.000000e+00\n",
              "Alcohol           4.140000e+00\n",
              "Expenditure       3.986518e+01\n",
              "HepB              8.204859e+01\n",
              "Measles           1.800000e+01\n",
              "BMI               4.940000e+01\n",
              "5deaths           0.000000e+00\n",
              "Polio             8.700000e+01\n",
              "TExpenditure      7.940000e+00\n",
              "Diphtheria        8.700000e+01\n",
              "HIV               1.000000e-01\n",
              "GDP               2.214732e+03\n",
              "Population        3.779247e+06\n",
              "ThinJuvenile      3.000000e+00\n",
              "ThinChild         3.000000e+00\n",
              "IncomeComp        0.000000e+00\n",
              "Schooling         1.210000e+01\n",
              "Name: 312, dtype: float64"
            ]
          },
          "metadata": {
            "tags": []
          },
          "execution_count": 4
        }
      ]
    },
    {
      "cell_type": "code",
      "metadata": {
        "id": "dEwmyhouCqd1",
        "colab_type": "code",
        "outputId": "e53dbacc-5de0-4d23-9cab-275570d52eb1",
        "colab": {
          "base_uri": "https://localhost:8080/",
          "height": 1000
        }
      },
      "source": [
        "get_neighbors(X_train, # input variables \n",
        "              y_train, # the output variables \n",
        "              X_test.iloc[5], # what \n",
        "              3, #K\n",
        "              distance=euclidean_distance) #some distance metric"
      ],
      "execution_count": 5,
      "outputs": [
        {
          "output_type": "execute_result",
          "data": {
            "text/plain": [
              "[(Status            0.000000e+00\n",
              "  AdultMortality    8.800000e+01\n",
              "  InfantDeaths      1.000000e+00\n",
              "  Alcohol           3.000000e-02\n",
              "  Expenditure       2.078393e+03\n",
              "  HepB              9.900000e+01\n",
              "  Measles           0.000000e+00\n",
              "  BMI               6.750000e+01\n",
              "  5deaths           1.000000e+00\n",
              "  Polio             9.900000e+01\n",
              "  TExpenditure      1.930000e+00\n",
              "  Diphtheria        9.900000e+01\n",
              "  HIV               1.000000e-01\n",
              "  GDP               5.557200e+04\n",
              "  Population        5.465236e+06\n",
              "  ThinJuvenile      3.300000e+00\n",
              "  ThinChild         3.100000e+00\n",
              "  IncomeComp        7.870000e-01\n",
              "  Schooling         1.380000e+01\n",
              "  Name: 1242, dtype: float64, 22442.176115492563, LifeExpectancy    73.8\n",
              "  Name: 1242, dtype: float64), (Status            1.000000e+00\n",
              "  AdultMortality    9.300000e+01\n",
              "  InfantDeaths      0.000000e+00\n",
              "  Alcohol           1.099000e+01\n",
              "  Expenditure       9.703068e+03\n",
              "  HepB              7.096505e+01\n",
              "  Measles           2.000000e+00\n",
              "  BMI               5.590000e+01\n",
              "  5deaths           0.000000e+00\n",
              "  Polio             8.700000e+01\n",
              "  TExpenditure      9.990000e+00\n",
              "  Diphtheria        8.700000e+01\n",
              "  HIV               1.000000e-01\n",
              "  GDP               5.848745e+04\n",
              "  Population        5.461438e+06\n",
              "  ThinJuvenile      1.200000e+00\n",
              "  ThinChild         9.000000e-01\n",
              "  IncomeComp        9.040000e-01\n",
              "  Schooling         1.670000e+01\n",
              "  Name: 631, dtype: float64, 27811.14900712881, LifeExpectancy    78.4\n",
              "  Name: 631, dtype: float64), (Status            0.000000e+00\n",
              "  AdultMortality    7.900000e+01\n",
              "  InfantDeaths      0.000000e+00\n",
              "  Alcohol           1.110000e+00\n",
              "  Expenditure       3.688694e+03\n",
              "  HepB              9.900000e+01\n",
              "  Measles           1.120000e+02\n",
              "  BMI               6.560000e+01\n",
              "  5deaths           0.000000e+00\n",
              "  Polio             9.800000e+01\n",
              "  TExpenditure      2.630000e+00\n",
              "  Diphtheria        9.900000e+01\n",
              "  HIV               1.000000e-01\n",
              "  GDP               6.147824e+04\n",
              "  Population        5.458387e+06\n",
              "  ThinJuvenile      5.000000e+00\n",
              "  ThinChild         4.600000e+00\n",
              "  IncomeComp        8.280000e-01\n",
              "  Schooling         1.180000e+01\n",
              "  Name: 1862, dtype: float64, 31402.956429057795, LifeExpectancy    77.0\n",
              "  Name: 1862, dtype: float64)]"
            ]
          },
          "metadata": {
            "tags": []
          },
          "execution_count": 5
        }
      ]
    },
    {
      "cell_type": "markdown",
      "metadata": {
        "id": "C22GK3ADMFl2",
        "colab_type": "text"
      },
      "source": [
        "## KNN via sklearn\n",
        "\n",
        "### Initial Model"
      ]
    },
    {
      "cell_type": "code",
      "metadata": {
        "id": "4fDjgdt_eaJO",
        "colab_type": "code",
        "outputId": "9d7d0d09-5f27-4368-93bd-153c4237bb12",
        "colab": {
          "base_uri": "https://localhost:8080/",
          "height": 68
        }
      },
      "source": [
        "from sklearn.neighbors import KNeighborsRegressor\n",
        "\n",
        "# instantiate the model, set the number of neighbors to consider to 3\n",
        "reg_unscale = KNeighborsRegressor(n_neighbors=3)\n",
        "\n",
        "# fit the model to training data\n",
        "reg_unscale.fit(X_train, y_train)"
      ],
      "execution_count": 8,
      "outputs": [
        {
          "output_type": "execute_result",
          "data": {
            "text/plain": [
              "KNeighborsRegressor(algorithm='auto', leaf_size=30, metric='minkowski',\n",
              "                    metric_params=None, n_jobs=None, n_neighbors=3, p=2,\n",
              "                    weights='uniform')"
            ]
          },
          "metadata": {
            "tags": []
          },
          "execution_count": 8
        }
      ]
    },
    {
      "cell_type": "code",
      "metadata": {
        "id": "5wn1bFVHeaVT",
        "colab_type": "code",
        "outputId": "7e43bff8-6286-45e9-eb8d-4d559c866513",
        "colab": {
          "base_uri": "https://localhost:8080/",
          "height": 51
        }
      },
      "source": [
        "# Predict for X_test\n",
        "y_pred = reg_unscale.predict(X_test)\n",
        "\n",
        "# MSE\n",
        "(((y_pred - y_test) ** 2).sum()) / len(y_pred)"
      ],
      "execution_count": 9,
      "outputs": [
        {
          "output_type": "execute_result",
          "data": {
            "text/plain": [
              "LifeExpectancy    88.281026\n",
              "dtype: float64"
            ]
          },
          "metadata": {
            "tags": []
          },
          "execution_count": 9
        }
      ]
    },
    {
      "cell_type": "code",
      "metadata": {
        "id": "vmWAQn09jDoR",
        "colab_type": "code",
        "colab": {
          "base_uri": "https://localhost:8080/",
          "height": 204
        },
        "outputId": "1f79f441-62d0-4e3b-bb21-971e2bd871df"
      },
      "source": [
        "from sklearn import metrics\n",
        "from math import sqrt \n",
        "\n",
        "RESULTS = {}\n",
        "def evaluate_model(y_true, y_pred):# Function to evaluate model \n",
        "    return {\n",
        "        \"MAE\": metrics.mean_absolute_error(y_true, y_pred),\n",
        "        \"exp_var\": metrics.explained_variance_score(y_true, y_pred),\n",
        "        \"MSE\" : metrics.mean_squared_error(y_true, y_pred),\n",
        "        \"RMSE\" : sqrt(metrics.mean_squared_error(y_true, y_pred)),\n",
        "        \"r^2\" : metrics.r2_score(y_true, y_pred),\n",
        "           }\n",
        "\n",
        "# Metrics for the training \n",
        "y_pred = reg_unscale.predict(X_train)\n",
        "RESULTS[\"MLR_train\"] = evaluate_model(y_train, y_pred)\n",
        "\n",
        "# Metrics for the testing \n",
        "y_pred = reg_unscale.predict(X_test)\n",
        "RESULTS[\"MLR_test\"] = evaluate_model(y_test, y_pred)\n",
        "\n",
        "pd.DataFrame(RESULTS)\n",
        "\n"
      ],
      "execution_count": 13,
      "outputs": [
        {
          "output_type": "execute_result",
          "data": {
            "text/html": [
              "<div>\n",
              "<style scoped>\n",
              "    .dataframe tbody tr th:only-of-type {\n",
              "        vertical-align: middle;\n",
              "    }\n",
              "\n",
              "    .dataframe tbody tr th {\n",
              "        vertical-align: top;\n",
              "    }\n",
              "\n",
              "    .dataframe thead th {\n",
              "        text-align: right;\n",
              "    }\n",
              "</style>\n",
              "<table border=\"1\" class=\"dataframe\">\n",
              "  <thead>\n",
              "    <tr style=\"text-align: right;\">\n",
              "      <th></th>\n",
              "      <th>MLR_train</th>\n",
              "      <th>MLR_test</th>\n",
              "    </tr>\n",
              "  </thead>\n",
              "  <tbody>\n",
              "    <tr>\n",
              "      <th>MAE</th>\n",
              "      <td>4.926453</td>\n",
              "      <td>7.210388</td>\n",
              "    </tr>\n",
              "    <tr>\n",
              "      <th>exp_var</th>\n",
              "      <td>0.491991</td>\n",
              "      <td>0.076402</td>\n",
              "    </tr>\n",
              "    <tr>\n",
              "      <th>MSE</th>\n",
              "      <td>43.839515</td>\n",
              "      <td>88.281026</td>\n",
              "    </tr>\n",
              "    <tr>\n",
              "      <th>RMSE</th>\n",
              "      <td>6.621142</td>\n",
              "      <td>9.395798</td>\n",
              "    </tr>\n",
              "    <tr>\n",
              "      <th>r^2</th>\n",
              "      <td>0.491944</td>\n",
              "      <td>0.076369</td>\n",
              "    </tr>\n",
              "  </tbody>\n",
              "</table>\n",
              "</div>"
            ],
            "text/plain": [
              "         MLR_train   MLR_test\n",
              "MAE       4.926453   7.210388\n",
              "exp_var   0.491991   0.076402\n",
              "MSE      43.839515  88.281026\n",
              "RMSE      6.621142   9.395798\n",
              "r^2       0.491944   0.076369"
            ]
          },
          "metadata": {
            "tags": []
          },
          "execution_count": 13
        }
      ]
    },
    {
      "cell_type": "markdown",
      "metadata": {
        "id": "ANjm6htEeauN",
        "colab_type": "text"
      },
      "source": [
        "### Initial Scaled Model\n"
      ]
    },
    {
      "cell_type": "code",
      "metadata": {
        "id": "bddjrlmDIu2_",
        "colab_type": "code",
        "colab": {}
      },
      "source": [
        "# Scale the Features\n",
        "from sklearn.preprocessing import StandardScaler\n",
        "scaler = StandardScaler()\n",
        "scaler.fit(X_train)\n",
        "\n",
        "X_train = scaler.transform(X_train)\n",
        "X_test = scaler.transform(X_test)"
      ],
      "execution_count": 0,
      "outputs": []
    },
    {
      "cell_type": "code",
      "metadata": {
        "id": "snkHba3DMge0",
        "colab_type": "code",
        "outputId": "ce0a3b42-171f-44a5-a34f-9a25de058fe7",
        "colab": {
          "base_uri": "https://localhost:8080/",
          "height": 68
        }
      },
      "source": [
        "from sklearn.neighbors import KNeighborsRegressor\n",
        "\n",
        "# instantiate the model, set the number of neighbors to consider to 5\n",
        "reg5 = KNeighborsRegressor(n_neighbors=3)\n",
        "\n",
        "# fit the model to training data\n",
        "reg5.fit(X_train, y_train)"
      ],
      "execution_count": 15,
      "outputs": [
        {
          "output_type": "execute_result",
          "data": {
            "text/plain": [
              "KNeighborsRegressor(algorithm='auto', leaf_size=30, metric='minkowski',\n",
              "                    metric_params=None, n_jobs=None, n_neighbors=3, p=2,\n",
              "                    weights='uniform')"
            ]
          },
          "metadata": {
            "tags": []
          },
          "execution_count": 15
        }
      ]
    },
    {
      "cell_type": "code",
      "metadata": {
        "id": "EKr--HuAM2rm",
        "colab_type": "code",
        "outputId": "db212894-c072-42bc-aae1-12fde4916830",
        "colab": {
          "base_uri": "https://localhost:8080/",
          "height": 204
        }
      },
      "source": [
        "# Metrics for the training \n",
        "y_pred = reg5.predict(X_train)\n",
        "RESULTS[\"s5_train\"] = evaluate_model(y_train, y_pred)\n",
        "\n",
        "# Metrics for the testing \n",
        "y_pred = reg5.predict(X_test)\n",
        "RESULTS[\"5s_test\"] = evaluate_model(y_test, y_pred)\n",
        "\n",
        "pd.DataFrame(RESULTS)"
      ],
      "execution_count": 16,
      "outputs": [
        {
          "output_type": "execute_result",
          "data": {
            "text/html": [
              "<div>\n",
              "<style scoped>\n",
              "    .dataframe tbody tr th:only-of-type {\n",
              "        vertical-align: middle;\n",
              "    }\n",
              "\n",
              "    .dataframe tbody tr th {\n",
              "        vertical-align: top;\n",
              "    }\n",
              "\n",
              "    .dataframe thead th {\n",
              "        text-align: right;\n",
              "    }\n",
              "</style>\n",
              "<table border=\"1\" class=\"dataframe\">\n",
              "  <thead>\n",
              "    <tr style=\"text-align: right;\">\n",
              "      <th></th>\n",
              "      <th>MLR_train</th>\n",
              "      <th>MLR_test</th>\n",
              "      <th>s5_train</th>\n",
              "      <th>5s_test</th>\n",
              "    </tr>\n",
              "  </thead>\n",
              "  <tbody>\n",
              "    <tr>\n",
              "      <th>MAE</th>\n",
              "      <td>4.926453</td>\n",
              "      <td>7.210388</td>\n",
              "      <td>1.125580</td>\n",
              "      <td>1.889415</td>\n",
              "    </tr>\n",
              "    <tr>\n",
              "      <th>exp_var</th>\n",
              "      <td>0.491991</td>\n",
              "      <td>0.076402</td>\n",
              "      <td>0.963792</td>\n",
              "      <td>0.913563</td>\n",
              "    </tr>\n",
              "    <tr>\n",
              "      <th>MSE</th>\n",
              "      <td>43.839515</td>\n",
              "      <td>88.281026</td>\n",
              "      <td>3.130317</td>\n",
              "      <td>8.266277</td>\n",
              "    </tr>\n",
              "    <tr>\n",
              "      <th>RMSE</th>\n",
              "      <td>6.621142</td>\n",
              "      <td>9.395798</td>\n",
              "      <td>1.769270</td>\n",
              "      <td>2.875113</td>\n",
              "    </tr>\n",
              "    <tr>\n",
              "      <th>r^2</th>\n",
              "      <td>0.491944</td>\n",
              "      <td>0.076369</td>\n",
              "      <td>0.963723</td>\n",
              "      <td>0.913515</td>\n",
              "    </tr>\n",
              "  </tbody>\n",
              "</table>\n",
              "</div>"
            ],
            "text/plain": [
              "         MLR_train   MLR_test  s5_train   5s_test\n",
              "MAE       4.926453   7.210388  1.125580  1.889415\n",
              "exp_var   0.491991   0.076402  0.963792  0.913563\n",
              "MSE      43.839515  88.281026  3.130317  8.266277\n",
              "RMSE      6.621142   9.395798  1.769270  2.875113\n",
              "r^2       0.491944   0.076369  0.963723  0.913515"
            ]
          },
          "metadata": {
            "tags": []
          },
          "execution_count": 16
        }
      ]
    },
    {
      "cell_type": "markdown",
      "metadata": {
        "id": "748i_8-BZoDb",
        "colab_type": "text"
      },
      "source": [
        "### Find best K value\n",
        "\n",
        "RSME is the metric which was used to evaluate which value of K is best. Based on the plot of K vs. RSME of test data, 7-9 would be optimal choices. Grid search identified 9 as the optimal value. \n",
        "\n",
        "#### Using RSME on Test Data"
      ]
    },
    {
      "cell_type": "code",
      "metadata": {
        "id": "CS6Xio-eNIax",
        "colab_type": "code",
        "colab": {}
      },
      "source": [
        "from sklearn.metrics import mean_squared_error \n",
        "from math import sqrt\n",
        "import matplotlib.pyplot as plt\n",
        "from sklearn import neighbors\n",
        "\n",
        "\n",
        "rmse_val = [] #to store rmse values for different k\n",
        "for K in range(20):\n",
        "    K = K+1\n",
        "    model = neighbors.KNeighborsRegressor(n_neighbors = K)\n",
        "\n",
        "    model.fit(X_train, y_train)  #fit the model\n",
        "    pred=model.predict(X_test) #make prediction on test set\n",
        "    error = sqrt(mean_squared_error(y_test,pred)) #calculate rmse\n",
        "    rmse_val.append(error) #store rmse values"
      ],
      "execution_count": 0,
      "outputs": []
    },
    {
      "cell_type": "code",
      "metadata": {
        "id": "4ZUvUXZzVlx1",
        "colab_type": "code",
        "outputId": "1cee1662-4315-4915-f64d-abd281d8bafc",
        "colab": {
          "base_uri": "https://localhost:8080/",
          "height": 282
        }
      },
      "source": [
        "#plotting the rmse values against k values\n",
        "RSMEp = pd.DataFrame(rmse_val) #elbow curve \n",
        "RSMEp.plot()"
      ],
      "execution_count": 18,
      "outputs": [
        {
          "output_type": "execute_result",
          "data": {
            "text/plain": [
              "<matplotlib.axes._subplots.AxesSubplot at 0x7f600924af60>"
            ]
          },
          "metadata": {
            "tags": []
          },
          "execution_count": 18
        },
        {
          "output_type": "display_data",
          "data": {
            "image/png": "[encoded data removed]",
            "text/plain": [
              "<Figure size 432x288 with 1 Axes>"
            ]
          },
          "metadata": {
            "tags": [],
            "needs_background": "light"
          }
        }
      ]
    },
    {
      "cell_type": "markdown",
      "metadata": {
        "id": "K2yvhd6lZ1t9",
        "colab_type": "text"
      },
      "source": [
        "#### Using Grid Search"
      ]
    },
    {
      "cell_type": "code",
      "metadata": {
        "id": "tvv7NVUwVvuj",
        "colab_type": "code",
        "outputId": "98ff93f8-63d6-4d07-88f5-a45d44aa8e06",
        "colab": {
          "base_uri": "https://localhost:8080/",
          "height": 34
        }
      },
      "source": [
        "from sklearn.model_selection import GridSearchCV\n",
        "params = {'n_neighbors':[2,3,4,5,6,7,8,9]}\n",
        "\n",
        "knn = neighbors.KNeighborsRegressor()\n",
        "\n",
        "model = GridSearchCV(knn, params, cv=5)\n",
        "model.fit(X_train,y_train)\n",
        "model.best_params_"
      ],
      "execution_count": 19,
      "outputs": [
        {
          "output_type": "execute_result",
          "data": {
            "text/plain": [
              "{'n_neighbors': 2}"
            ]
          },
          "metadata": {
            "tags": []
          },
          "execution_count": 19
        }
      ]
    },
    {
      "cell_type": "markdown",
      "metadata": {
        "id": "NQdknr4Rbi4V",
        "colab_type": "text"
      },
      "source": [
        "## Fit the Model "
      ]
    },
    {
      "cell_type": "code",
      "metadata": {
        "id": "0sjeODyebg3H",
        "colab_type": "code",
        "colab": {
          "base_uri": "https://localhost:8080/",
          "height": 68
        },
        "outputId": "037d1bf7-d1e3-409e-af1c-9e0da5f6d4b5"
      },
      "source": [
        "from sklearn.neighbors import KNeighborsRegressor\n",
        "\n",
        "# instantiate the model, k=2\n",
        "reg2 = KNeighborsRegressor(n_neighbors=2)\n",
        "\n",
        "# fit the model to training data\n",
        "reg2.fit(X_train, y_train)"
      ],
      "execution_count": 21,
      "outputs": [
        {
          "output_type": "execute_result",
          "data": {
            "text/plain": [
              "KNeighborsRegressor(algorithm='auto', leaf_size=30, metric='minkowski',\n",
              "                    metric_params=None, n_jobs=None, n_neighbors=2, p=2,\n",
              "                    weights='uniform')"
            ]
          },
          "metadata": {
            "tags": []
          },
          "execution_count": 21
        }
      ]
    },
    {
      "cell_type": "code",
      "metadata": {
        "id": "fonB2Fw2Zynu",
        "colab_type": "code",
        "outputId": "c2d31f47-353c-40e8-d98a-a9f45c031a51",
        "colab": {
          "base_uri": "https://localhost:8080/",
          "height": 204
        }
      },
      "source": [
        "# Metrics for the training \n",
        "y_pred = reg2.predict(X_train)\n",
        "RESULTS[\"s2_train\"] = evaluate_model(y_train, y_pred)\n",
        "\n",
        "# Metrics for the testing \n",
        "y_pred = reg2.predict(X_test)\n",
        "RESULTS[\"s2_test\"] = evaluate_model(y_test, y_pred)\n",
        "\n",
        "pd.DataFrame(RESULTS)"
      ],
      "execution_count": 22,
      "outputs": [
        {
          "output_type": "execute_result",
          "data": {
            "text/html": [
              "<div>\n",
              "<style scoped>\n",
              "    .dataframe tbody tr th:only-of-type {\n",
              "        vertical-align: middle;\n",
              "    }\n",
              "\n",
              "    .dataframe tbody tr th {\n",
              "        vertical-align: top;\n",
              "    }\n",
              "\n",
              "    .dataframe thead th {\n",
              "        text-align: right;\n",
              "    }\n",
              "</style>\n",
              "<table border=\"1\" class=\"dataframe\">\n",
              "  <thead>\n",
              "    <tr style=\"text-align: right;\">\n",
              "      <th></th>\n",
              "      <th>MLR_train</th>\n",
              "      <th>MLR_test</th>\n",
              "      <th>s5_train</th>\n",
              "      <th>5s_test</th>\n",
              "      <th>s2_train</th>\n",
              "      <th>s2_test</th>\n",
              "    </tr>\n",
              "  </thead>\n",
              "  <tbody>\n",
              "    <tr>\n",
              "      <th>MAE</th>\n",
              "      <td>4.926453</td>\n",
              "      <td>7.210388</td>\n",
              "      <td>1.125580</td>\n",
              "      <td>1.889415</td>\n",
              "      <td>0.876963</td>\n",
              "      <td>1.773964</td>\n",
              "    </tr>\n",
              "    <tr>\n",
              "      <th>exp_var</th>\n",
              "      <td>0.491991</td>\n",
              "      <td>0.076402</td>\n",
              "      <td>0.963792</td>\n",
              "      <td>0.913563</td>\n",
              "      <td>0.974916</td>\n",
              "      <td>0.915630</td>\n",
              "    </tr>\n",
              "    <tr>\n",
              "      <th>MSE</th>\n",
              "      <td>43.839515</td>\n",
              "      <td>88.281026</td>\n",
              "      <td>3.130317</td>\n",
              "      <td>8.266277</td>\n",
              "      <td>2.165559</td>\n",
              "      <td>8.066815</td>\n",
              "    </tr>\n",
              "    <tr>\n",
              "      <th>RMSE</th>\n",
              "      <td>6.621142</td>\n",
              "      <td>9.395798</td>\n",
              "      <td>1.769270</td>\n",
              "      <td>2.875113</td>\n",
              "      <td>1.471584</td>\n",
              "      <td>2.840214</td>\n",
              "    </tr>\n",
              "    <tr>\n",
              "      <th>r^2</th>\n",
              "      <td>0.491944</td>\n",
              "      <td>0.076369</td>\n",
              "      <td>0.963723</td>\n",
              "      <td>0.913515</td>\n",
              "      <td>0.974903</td>\n",
              "      <td>0.915602</td>\n",
              "    </tr>\n",
              "  </tbody>\n",
              "</table>\n",
              "</div>"
            ],
            "text/plain": [
              "         MLR_train   MLR_test  s5_train   5s_test  s2_train   s2_test\n",
              "MAE       4.926453   7.210388  1.125580  1.889415  0.876963  1.773964\n",
              "exp_var   0.491991   0.076402  0.963792  0.913563  0.974916  0.915630\n",
              "MSE      43.839515  88.281026  3.130317  8.266277  2.165559  8.066815\n",
              "RMSE      6.621142   9.395798  1.769270  2.875113  1.471584  2.840214\n",
              "r^2       0.491944   0.076369  0.963723  0.913515  0.974903  0.915602"
            ]
          },
          "metadata": {
            "tags": []
          },
          "execution_count": 22
        }
      ]
    },
    {
      "cell_type": "code",
      "metadata": {
        "id": "dR-prs2uhd7L",
        "colab_type": "code",
        "colab": {}
      },
      "source": [
        ""
      ],
      "execution_count": 0,
      "outputs": []
    }
  ]
}
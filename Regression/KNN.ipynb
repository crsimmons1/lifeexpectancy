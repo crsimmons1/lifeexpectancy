{
  "nbformat": 4,
  "nbformat_minor": 0,
  "metadata": {
    "colab": {
      "name": "KNN.ipynb",
      "provenance": [],
      "collapsed_sections": [],
      "authorship_tag": "ABX9TyO4I+KevP59aR4yC6JEzGNY",
      "include_colab_link": true
    },
    "kernelspec": {
      "name": "python3",
      "display_name": "Python 3"
    }
  },
  "cells": [
    {
      "cell_type": "markdown",
      "metadata": {
        "id": "view-in-github",
        "colab_type": "text"
      },
      "source": [
        "<a href=\"https://colab.research.google.com/github/crsimmons1/lifeexpectancy/blob/master/Regression/KNN.ipynb\" target=\"_parent\"><img src=\"https://colab.research.google.com/assets/colab-badge.svg\" alt=\"Open In Colab\"/></a>"
      ]
    },
    {
      "cell_type": "markdown",
      "metadata": {
        "id": "FTUXc7m9opr7",
        "colab_type": "text"
      },
      "source": [
        "# **KNN - Predicting Life Expectancy**\n",
        "This data can be found [here](https://www.kaggle.com/kumarajarshi/life-expectancy-who) on Kaggle. Please see this git [repository](https://github.com/crsimmons1/lifeexpectancy) for more information on the data cleaning that was done. \n",
        "\n",
        "The explanatory variables included are:\n",
        "* **TExpenditure** (Total Expenditure) - General government expenditure on health as a percentage of total government expenditure (%)\n",
        "* **AdultMortality** Adult Mortality Rates of both sexes (probability of dying between 15 and 60 years per 1000 population)\n",
        "* **InfantDeaths** Number of Infant Deaths per 1,000 population\n",
        "* **Alcohol**, recorded per capita (15+) consumption (in litres of pure alcohol)\n",
        "* **HepB** (Hepatitis B) immunization coverage among 1-year-olds (%)\n",
        "* **Measles** - number of reported cases per 1000 population\n",
        "* **BMI** Average Body Mass Index of entire population\n",
        "* **5deaths** Number of under-five deaths per 1000 population\n",
        "* **Polio** (Pol3) immunization coverage among 1-year-olds (%)\n",
        "* **Diphtheria** tetanus toxoid and pertussis (DTP3) immunization coverage among 1-year-olds (%)\n",
        "* **HIV** Deaths per 1,000 live births HIV/AIDS (0-4 years)\n",
        "* **GDP** Gross Domestic Product per capita (in USD)\n",
        "* **Population** of the country\n",
        "* **ThinJuvenile** Prevalence of thinness among children and adolescents for Age 10 to 19 (% )\n",
        "* **ThinChild** Prevalence of thinness among children for Age 5 to 9(%)\n",
        "##**Import Data**\n"
      ]
    },
    {
      "cell_type": "code",
      "metadata": {
        "id": "B1xBWGPaooCK",
        "colab_type": "code",
        "colab": {}
      },
      "source": [
        "import pandas as pd\n",
        "import numpy as np\n",
        "\n",
        "# Import data\n",
        "data= pd.read_csv(\"cleaned_data.csv\")\n",
        "\n",
        "# Split in X and y \n",
        "y = pd.DataFrame(data.LifeExpectancy)\n",
        "X = data.drop(columns=['LifeExpectancy','TExp', 'Year', 'Status'])\n",
        "\n",
        "#Train-test split \n",
        "from sklearn.model_selection import train_test_split\n",
        "X_train, X_test, y_train, y_test = train_test_split(X, y, test_size = 0.2, random_state=33)"
      ],
      "execution_count": 0,
      "outputs": []
    },
    {
      "cell_type": "markdown",
      "metadata": {
        "id": "bNusfYLLpeqk",
        "colab_type": "text"
      },
      "source": [
        "## **KNN for a Row, by Hand (Numpy/Pandas)**"
      ]
    },
    {
      "cell_type": "code",
      "metadata": {
        "id": "X3E_3C6WyOyi",
        "colab_type": "code",
        "outputId": "2930cdfc-97bf-4ef7-e25a-27af7dd514d9",
        "colab": {
          "base_uri": "https://localhost:8080/",
          "height": 34
        }
      },
      "source": [
        "# Define a distance metric\n",
        "def euclidean_distance(row1, row2):\n",
        "    instance1 = np.array(row1) \n",
        "    instance2 = np.array(row2)\n",
        "    return np.linalg.norm(row1 - row2)\n",
        "\n",
        "# Verify on two rows \n",
        "print(euclidean_distance(X_train.iloc[3], X_test.iloc[44]))"
      ],
      "execution_count": 11,
      "outputs": [
        {
          "output_type": "stream",
          "text": [
            "3873551.8350223997\n"
          ],
          "name": "stdout"
        }
      ]
    },
    {
      "cell_type": "code",
      "metadata": {
        "id": "gLJ6HOhqCYx4",
        "colab_type": "code",
        "colab": {}
      },
      "source": [
        "distances = [] \n",
        "def get_neighbors(training_X, training_y, test_row, k, distance):\n",
        "    for index in range(len(training_X)): #for every training row ...\n",
        "        dist = distance(test_row, training_X.iloc[index]) # ... find the distance between that and the test row \n",
        "        distances.append((training_X.iloc[index], dist, training_y.iloc[index])) #...append it to an empty list \n",
        "    distances.sort(key=lambda x: x[1]) # sort these distances\n",
        "    neighbors = distances[:k] #take the top most k distances\n",
        "    return(neighbors) #return the list"
      ],
      "execution_count": 0,
      "outputs": []
    },
    {
      "cell_type": "code",
      "metadata": {
        "id": "p7B5UDADKEUS",
        "colab_type": "code",
        "outputId": "29ebc6e4-7d97-4a7e-efe4-f2923d73d246",
        "colab": {
          "base_uri": "https://localhost:8080/",
          "height": 357
        }
      },
      "source": [
        "X_train.iloc[5]"
      ],
      "execution_count": 0,
      "outputs": [
        {
          "output_type": "execute_result",
          "data": {
            "text/plain": [
              "Status            0.000000e+00\n",
              "AdultMortality    1.200000e+01\n",
              "InfantDeaths      0.000000e+00\n",
              "Alcohol           4.140000e+00\n",
              "Expenditure       3.986518e+01\n",
              "HepB              8.204859e+01\n",
              "Measles           1.800000e+01\n",
              "BMI               4.940000e+01\n",
              "5deaths           0.000000e+00\n",
              "Polio             8.700000e+01\n",
              "TExpenditure      7.940000e+00\n",
              "Diphtheria        8.700000e+01\n",
              "HIV               1.000000e-01\n",
              "GDP               2.214732e+03\n",
              "Population        3.779247e+06\n",
              "ThinJuvenile      3.000000e+00\n",
              "ThinChild         3.000000e+00\n",
              "IncomeComp        0.000000e+00\n",
              "Schooling         1.210000e+01\n",
              "Name: 312, dtype: float64"
            ]
          },
          "metadata": {
            "tags": []
          },
          "execution_count": 4
        }
      ]
    },
    {
      "cell_type": "code",
      "metadata": {
        "id": "dEwmyhouCqd1",
        "colab_type": "code",
        "outputId": "e53dbacc-5de0-4d23-9cab-275570d52eb1",
        "colab": {
          "base_uri": "https://localhost:8080/",
          "height": 1000
        }
      },
      "source": [
        "get_neighbors(X_train, # input variables \n",
        "              y_train, # the output variables \n",
        "              X_test.iloc[5], # what \n",
        "              3, #K\n",
        "              distance=euclidean_distance) #some distance metric"
      ],
      "execution_count": 0,
      "outputs": [
        {
          "output_type": "execute_result",
          "data": {
            "text/plain": [
              "[(Status            0.000000e+00\n",
              "  AdultMortality    8.800000e+01\n",
              "  InfantDeaths      1.000000e+00\n",
              "  Alcohol           3.000000e-02\n",
              "  Expenditure       2.078393e+03\n",
              "  HepB              9.900000e+01\n",
              "  Measles           0.000000e+00\n",
              "  BMI               6.750000e+01\n",
              "  5deaths           1.000000e+00\n",
              "  Polio             9.900000e+01\n",
              "  TExpenditure      1.930000e+00\n",
              "  Diphtheria        9.900000e+01\n",
              "  HIV               1.000000e-01\n",
              "  GDP               5.557200e+04\n",
              "  Population        5.465236e+06\n",
              "  ThinJuvenile      3.300000e+00\n",
              "  ThinChild         3.100000e+00\n",
              "  IncomeComp        7.870000e-01\n",
              "  Schooling         1.380000e+01\n",
              "  Name: 1242, dtype: float64, 22442.176115492563, LifeExpectancy    73.8\n",
              "  Name: 1242, dtype: float64), (Status            1.000000e+00\n",
              "  AdultMortality    9.300000e+01\n",
              "  InfantDeaths      0.000000e+00\n",
              "  Alcohol           1.099000e+01\n",
              "  Expenditure       9.703068e+03\n",
              "  HepB              7.096505e+01\n",
              "  Measles           2.000000e+00\n",
              "  BMI               5.590000e+01\n",
              "  5deaths           0.000000e+00\n",
              "  Polio             8.700000e+01\n",
              "  TExpenditure      9.990000e+00\n",
              "  Diphtheria        8.700000e+01\n",
              "  HIV               1.000000e-01\n",
              "  GDP               5.848745e+04\n",
              "  Population        5.461438e+06\n",
              "  ThinJuvenile      1.200000e+00\n",
              "  ThinChild         9.000000e-01\n",
              "  IncomeComp        9.040000e-01\n",
              "  Schooling         1.670000e+01\n",
              "  Name: 631, dtype: float64, 27811.14900712881, LifeExpectancy    78.4\n",
              "  Name: 631, dtype: float64), (Status            0.000000e+00\n",
              "  AdultMortality    7.900000e+01\n",
              "  InfantDeaths      0.000000e+00\n",
              "  Alcohol           1.110000e+00\n",
              "  Expenditure       3.688694e+03\n",
              "  HepB              9.900000e+01\n",
              "  Measles           1.120000e+02\n",
              "  BMI               6.560000e+01\n",
              "  5deaths           0.000000e+00\n",
              "  Polio             9.800000e+01\n",
              "  TExpenditure      2.630000e+00\n",
              "  Diphtheria        9.900000e+01\n",
              "  HIV               1.000000e-01\n",
              "  GDP               6.147824e+04\n",
              "  Population        5.458387e+06\n",
              "  ThinJuvenile      5.000000e+00\n",
              "  ThinChild         4.600000e+00\n",
              "  IncomeComp        8.280000e-01\n",
              "  Schooling         1.180000e+01\n",
              "  Name: 1862, dtype: float64, 31402.956429057795, LifeExpectancy    77.0\n",
              "  Name: 1862, dtype: float64)]"
            ]
          },
          "metadata": {
            "tags": []
          },
          "execution_count": 5
        }
      ]
    },
    {
      "cell_type": "markdown",
      "metadata": {
        "id": "C22GK3ADMFl2",
        "colab_type": "text"
      },
      "source": [
        "## **KNN via sklearn**\n",
        "\n",
        "### Model 1 - Initial Fitting "
      ]
    },
    {
      "cell_type": "code",
      "metadata": {
        "id": "4fDjgdt_eaJO",
        "colab_type": "code",
        "outputId": "1e492418-bb0c-4532-8819-cede5da9c11c",
        "colab": {
          "base_uri": "https://localhost:8080/",
          "height": 68
        }
      },
      "source": [
        "from sklearn.neighbors import KNeighborsRegressor\n",
        "\n",
        "# instantiate the model, set the number of neighbors to consider to 3\n",
        "knn = KNeighborsRegressor(n_neighbors=3)\n",
        "\n",
        "# fit the model to training data\n",
        "knn.fit(X_train, y_train)"
      ],
      "execution_count": 18,
      "outputs": [
        {
          "output_type": "execute_result",
          "data": {
            "text/plain": [
              "KNeighborsRegressor(algorithm='auto', leaf_size=30, metric='minkowski',\n",
              "                    metric_params=None, n_jobs=None, n_neighbors=3, p=2,\n",
              "                    weights='uniform')"
            ]
          },
          "metadata": {
            "tags": []
          },
          "execution_count": 18
        }
      ]
    },
    {
      "cell_type": "code",
      "metadata": {
        "id": "vmWAQn09jDoR",
        "colab_type": "code",
        "outputId": "a766fa63-e4eb-48f9-8601-48c1aed2c9e4",
        "colab": {
          "base_uri": "https://localhost:8080/",
          "height": 359
        }
      },
      "source": [
        "from sklearn import metrics\n",
        "from math import sqrt\n",
        "\n",
        "RESULTS = {}\n",
        "def evaluate_model(y_test, y_train, y_pred_test, y_pred_train):# Function to evaluate model \n",
        "    return { # First test, then training \n",
        "        # Mean Squared Error \n",
        "        \"MSE\" : metrics.mean_squared_error(y_test, y_pred_test),\n",
        "        \"MSE_train\" : metrics.mean_squared_error(y_train, y_pred_train),\n",
        "        # Root Mean Squared Error \n",
        "        \"RMSE\" : sqrt(metrics.mean_squared_error(y_test, y_pred_test)),\n",
        "        \"RMSE_train\" : sqrt(metrics.mean_squared_error(y_train, y_pred_train)),\n",
        "        # Mean Absolute Error \n",
        "        \"MAE\": metrics.mean_absolute_error(y_test, y_pred_test),\n",
        "        \"MAE_train\": metrics.mean_absolute_error(y_train, y_pred_train),\n",
        "        # Explained Variance \n",
        "        \"exp_var\": metrics.explained_variance_score(y_test, y_pred_test),\n",
        "        \"exp_var_train\": metrics.explained_variance_score(y_train, y_pred_train),\n",
        "        # Coefficient of Determination\n",
        "        \"r^2\" : metrics.r2_score(y_test, y_pred_test),\n",
        "        \"r^2_train\" : metrics.r2_score(y_train, y_pred_train)}\n",
        "\n",
        "# Evaluation Metrics \n",
        "y_pred_train = knn.predict(X_train)\n",
        "y_pred_test = knn.predict(X_test)\n",
        "RESULTS[\"KNN3\"] = evaluate_model(y_test, y_train, y_pred_test,y_pred_train)\n",
        "\n",
        "pd.DataFrame(RESULTS)\n",
        "\n",
        "\n"
      ],
      "execution_count": 19,
      "outputs": [
        {
          "output_type": "execute_result",
          "data": {
            "text/html": [
              "<div>\n",
              "<style scoped>\n",
              "    .dataframe tbody tr th:only-of-type {\n",
              "        vertical-align: middle;\n",
              "    }\n",
              "\n",
              "    .dataframe tbody tr th {\n",
              "        vertical-align: top;\n",
              "    }\n",
              "\n",
              "    .dataframe thead th {\n",
              "        text-align: right;\n",
              "    }\n",
              "</style>\n",
              "<table border=\"1\" class=\"dataframe\">\n",
              "  <thead>\n",
              "    <tr style=\"text-align: right;\">\n",
              "      <th></th>\n",
              "      <th>KNN3</th>\n",
              "    </tr>\n",
              "  </thead>\n",
              "  <tbody>\n",
              "    <tr>\n",
              "      <th>MAE</th>\n",
              "      <td>7.210388</td>\n",
              "    </tr>\n",
              "    <tr>\n",
              "      <th>MAE_train</th>\n",
              "      <td>4.926453</td>\n",
              "    </tr>\n",
              "    <tr>\n",
              "      <th>MSE</th>\n",
              "      <td>88.281026</td>\n",
              "    </tr>\n",
              "    <tr>\n",
              "      <th>MSE_train</th>\n",
              "      <td>43.839515</td>\n",
              "    </tr>\n",
              "    <tr>\n",
              "      <th>RMSE</th>\n",
              "      <td>9.395798</td>\n",
              "    </tr>\n",
              "    <tr>\n",
              "      <th>RMSE_train</th>\n",
              "      <td>6.621142</td>\n",
              "    </tr>\n",
              "    <tr>\n",
              "      <th>exp_var</th>\n",
              "      <td>0.076402</td>\n",
              "    </tr>\n",
              "    <tr>\n",
              "      <th>exp_var_train</th>\n",
              "      <td>0.491991</td>\n",
              "    </tr>\n",
              "    <tr>\n",
              "      <th>r^2</th>\n",
              "      <td>0.076369</td>\n",
              "    </tr>\n",
              "    <tr>\n",
              "      <th>r^2_train</th>\n",
              "      <td>0.491944</td>\n",
              "    </tr>\n",
              "  </tbody>\n",
              "</table>\n",
              "</div>"
            ],
            "text/plain": [
              "                    KNN3\n",
              "MAE             7.210388\n",
              "MAE_train       4.926453\n",
              "MSE            88.281026\n",
              "MSE_train      43.839515\n",
              "RMSE            9.395798\n",
              "RMSE_train      6.621142\n",
              "exp_var         0.076402\n",
              "exp_var_train   0.491991\n",
              "r^2             0.076369\n",
              "r^2_train       0.491944"
            ]
          },
          "metadata": {
            "tags": []
          },
          "execution_count": 19
        }
      ]
    },
    {
      "cell_type": "markdown",
      "metadata": {
        "id": "ANjm6htEeauN",
        "colab_type": "text"
      },
      "source": [
        "### Model 2- Initial Scaled Model\n"
      ]
    },
    {
      "cell_type": "code",
      "metadata": {
        "id": "bddjrlmDIu2_",
        "colab_type": "code",
        "colab": {}
      },
      "source": [
        "# Scale the Features\n",
        "from sklearn.preprocessing import StandardScaler\n",
        "# Create a scaler object\n",
        "sc = StandardScaler()\n",
        "\n",
        "# Fit the scaler to the training data and transform\n",
        "X_train = pd.DataFrame(sc.fit_transform(X_train), columns=X_train.columns)\n",
        "\n",
        "# Apply the scaler to the test data\n",
        "X_test = pd.DataFrame(sc.transform(X_test), columns=X_train.columns)"
      ],
      "execution_count": 0,
      "outputs": []
    },
    {
      "cell_type": "code",
      "metadata": {
        "id": "snkHba3DMge0",
        "colab_type": "code",
        "colab": {}
      },
      "source": [
        "from sklearn.neighbors import KNeighborsRegressor\n",
        "\n",
        "# instantiate the model, set the number of neighbors to consider to 3\n",
        "knn_scale = KNeighborsRegressor(n_neighbors=3)"
      ],
      "execution_count": 0,
      "outputs": []
    },
    {
      "cell_type": "code",
      "metadata": {
        "id": "EKr--HuAM2rm",
        "colab_type": "code",
        "outputId": "8e708c6d-e61f-4158-828b-1962fb3d858d",
        "colab": {
          "base_uri": "https://localhost:8080/",
          "height": 359
        }
      },
      "source": [
        "# fit the model to training data\n",
        "knn_scale.fit(X_train, y_train)\n",
        "\n",
        "# Evaluation Metrics \n",
        "y_pred_train = knn_scale.predict(X_train)\n",
        "y_pred_test = knn_scale.predict(X_test)\n",
        "RESULTS[\"KNN3_scaled\"] = evaluate_model(y_test, y_train, y_pred_test,y_pred_train)\n",
        "\n",
        "pd.DataFrame(RESULTS)"
      ],
      "execution_count": 22,
      "outputs": [
        {
          "output_type": "execute_result",
          "data": {
            "text/html": [
              "<div>\n",
              "<style scoped>\n",
              "    .dataframe tbody tr th:only-of-type {\n",
              "        vertical-align: middle;\n",
              "    }\n",
              "\n",
              "    .dataframe tbody tr th {\n",
              "        vertical-align: top;\n",
              "    }\n",
              "\n",
              "    .dataframe thead th {\n",
              "        text-align: right;\n",
              "    }\n",
              "</style>\n",
              "<table border=\"1\" class=\"dataframe\">\n",
              "  <thead>\n",
              "    <tr style=\"text-align: right;\">\n",
              "      <th></th>\n",
              "      <th>KNN3</th>\n",
              "      <th>KNN3_scaled</th>\n",
              "    </tr>\n",
              "  </thead>\n",
              "  <tbody>\n",
              "    <tr>\n",
              "      <th>MSE</th>\n",
              "      <td>88.281026</td>\n",
              "      <td>8.099936</td>\n",
              "    </tr>\n",
              "    <tr>\n",
              "      <th>MSE_train</th>\n",
              "      <td>43.839515</td>\n",
              "      <td>3.134596</td>\n",
              "    </tr>\n",
              "    <tr>\n",
              "      <th>RMSE</th>\n",
              "      <td>9.395798</td>\n",
              "      <td>2.846039</td>\n",
              "    </tr>\n",
              "    <tr>\n",
              "      <th>RMSE_train</th>\n",
              "      <td>6.621142</td>\n",
              "      <td>1.770479</td>\n",
              "    </tr>\n",
              "    <tr>\n",
              "      <th>MAE</th>\n",
              "      <td>7.210388</td>\n",
              "      <td>1.860421</td>\n",
              "    </tr>\n",
              "    <tr>\n",
              "      <th>MAE_train</th>\n",
              "      <td>4.926453</td>\n",
              "      <td>1.131029</td>\n",
              "    </tr>\n",
              "    <tr>\n",
              "      <th>exp_var</th>\n",
              "      <td>0.076402</td>\n",
              "      <td>0.915326</td>\n",
              "    </tr>\n",
              "    <tr>\n",
              "      <th>exp_var_train</th>\n",
              "      <td>0.491991</td>\n",
              "      <td>0.963769</td>\n",
              "    </tr>\n",
              "    <tr>\n",
              "      <th>r^2</th>\n",
              "      <td>0.076369</td>\n",
              "      <td>0.915255</td>\n",
              "    </tr>\n",
              "    <tr>\n",
              "      <th>r^2_train</th>\n",
              "      <td>0.491944</td>\n",
              "      <td>0.963673</td>\n",
              "    </tr>\n",
              "  </tbody>\n",
              "</table>\n",
              "</div>"
            ],
            "text/plain": [
              "                    KNN3  KNN3_scaled\n",
              "MSE            88.281026     8.099936\n",
              "MSE_train      43.839515     3.134596\n",
              "RMSE            9.395798     2.846039\n",
              "RMSE_train      6.621142     1.770479\n",
              "MAE             7.210388     1.860421\n",
              "MAE_train       4.926453     1.131029\n",
              "exp_var         0.076402     0.915326\n",
              "exp_var_train   0.491991     0.963769\n",
              "r^2             0.076369     0.915255\n",
              "r^2_train       0.491944     0.963673"
            ]
          },
          "metadata": {
            "tags": []
          },
          "execution_count": 22
        }
      ]
    },
    {
      "cell_type": "markdown",
      "metadata": {
        "id": "748i_8-BZoDb",
        "colab_type": "text"
      },
      "source": [
        "### Model 3 - Find best K value\n",
        "\n",
        "RSME is the metric which was used to evaluate which value of K is best. Based on the plot of K vs. RSME of test data, 7-9 would be optimal choices. Grid search identified 9 as the optimal value. "
      ]
    },
    {
      "cell_type": "code",
      "metadata": {
        "id": "CS6Xio-eNIax",
        "colab_type": "code",
        "colab": {}
      },
      "source": [
        "from sklearn.metrics import mean_squared_error \n",
        "from math import sqrt\n",
        "import matplotlib.pyplot as plt\n",
        "from sklearn import neighbors\n",
        "\n",
        "\n",
        "rmse_val = [] #to store rmse values for different k\n",
        "for K in range(20):\n",
        "    K = K+1\n",
        "    model = neighbors.KNeighborsRegressor(n_neighbors = K)\n",
        "\n",
        "    model.fit(X_train, y_train)  #fit the model\n",
        "    pred=model.predict(X_test) #make prediction on test set\n",
        "    error = sqrt(mean_squared_error(y_test,pred)) #calculate rmse\n",
        "    rmse_val.append(error) #store rmse values"
      ],
      "execution_count": 0,
      "outputs": []
    },
    {
      "cell_type": "code",
      "metadata": {
        "id": "4ZUvUXZzVlx1",
        "colab_type": "code",
        "outputId": "e7df68d7-a79f-4a56-acd0-eaf7534860cd",
        "colab": {
          "base_uri": "https://localhost:8080/",
          "height": 282
        }
      },
      "source": [
        "#plotting the rmse values against k values\n",
        "RSMEp = pd.DataFrame(rmse_val) #elbow curve \n",
        "RSMEp.plot()"
      ],
      "execution_count": 24,
      "outputs": [
        {
          "output_type": "execute_result",
          "data": {
            "text/plain": [
              "<matplotlib.axes._subplots.AxesSubplot at 0x7f3e1fde66a0>"
            ]
          },
          "metadata": {
            "tags": []
          },
          "execution_count": 24
        },
        {
          "output_type": "display_data",
          "data": {
            "image/png": "[encoded data removed]",
            "text/plain": [
              "<Figure size 432x288 with 1 Axes>"
            ]
          },
          "metadata": {
            "tags": [],
            "needs_background": "light"
          }
        }
      ]
    },
    {
      "cell_type": "code",
      "metadata": {
        "id": "tvv7NVUwVvuj",
        "colab_type": "code",
        "outputId": "5c041c02-2dec-4dd7-872b-7a32fc79502c",
        "colab": {
          "base_uri": "https://localhost:8080/",
          "height": 34
        }
      },
      "source": [
        "# Grid Search\n",
        "from sklearn.model_selection import GridSearchCV\n",
        "params = {'n_neighbors':[2,3,4,5,6,7,8,9]}\n",
        "\n",
        "knn = neighbors.KNeighborsRegressor()\n",
        "\n",
        "model = GridSearchCV(knn, params, cv=5)\n",
        "model.fit(X_train,y_train)\n",
        "model.best_params_"
      ],
      "execution_count": 25,
      "outputs": [
        {
          "output_type": "execute_result",
          "data": {
            "text/plain": [
              "{'n_neighbors': 2}"
            ]
          },
          "metadata": {
            "tags": []
          },
          "execution_count": 25
        }
      ]
    },
    {
      "cell_type": "code",
      "metadata": {
        "id": "0sjeODyebg3H",
        "colab_type": "code",
        "outputId": "f03e39e8-777d-40fc-ea45-bd4fa908c4b2",
        "colab": {
          "base_uri": "https://localhost:8080/",
          "height": 68
        }
      },
      "source": [
        "from sklearn.neighbors import KNeighborsRegressor\n",
        "\n",
        "# instantiate the model, k=2\n",
        "knn2 = KNeighborsRegressor(n_neighbors=2)\n",
        "\n",
        "# fit the model to training data\n",
        "knn2.fit(X_train, y_train)"
      ],
      "execution_count": 26,
      "outputs": [
        {
          "output_type": "execute_result",
          "data": {
            "text/plain": [
              "KNeighborsRegressor(algorithm='auto', leaf_size=30, metric='minkowski',\n",
              "                    metric_params=None, n_jobs=None, n_neighbors=2, p=2,\n",
              "                    weights='uniform')"
            ]
          },
          "metadata": {
            "tags": []
          },
          "execution_count": 26
        }
      ]
    },
    {
      "cell_type": "code",
      "metadata": {
        "id": "fonB2Fw2Zynu",
        "colab_type": "code",
        "outputId": "eb19eae4-d5b4-45f9-d5d3-81723f896c3a",
        "colab": {
          "base_uri": "https://localhost:8080/",
          "height": 359
        }
      },
      "source": [
        "# fit the model to training data\n",
        "knn2.fit(X_train, y_train)\n",
        "\n",
        "# Evaluation Metrics \n",
        "y_pred_train = knn2.predict(X_train)\n",
        "y_pred_test = knn2.predict(X_test)\n",
        "RESULTS[\"KNN2_scaled\"] = evaluate_model(y_test, y_train, y_pred_test,y_pred_train)\n",
        "\n",
        "pd.DataFrame(RESULTS)"
      ],
      "execution_count": 27,
      "outputs": [
        {
          "output_type": "execute_result",
          "data": {
            "text/html": [
              "<div>\n",
              "<style scoped>\n",
              "    .dataframe tbody tr th:only-of-type {\n",
              "        vertical-align: middle;\n",
              "    }\n",
              "\n",
              "    .dataframe tbody tr th {\n",
              "        vertical-align: top;\n",
              "    }\n",
              "\n",
              "    .dataframe thead th {\n",
              "        text-align: right;\n",
              "    }\n",
              "</style>\n",
              "<table border=\"1\" class=\"dataframe\">\n",
              "  <thead>\n",
              "    <tr style=\"text-align: right;\">\n",
              "      <th></th>\n",
              "      <th>KNN3</th>\n",
              "      <th>KNN3_scaled</th>\n",
              "      <th>KNN2_scaled</th>\n",
              "    </tr>\n",
              "  </thead>\n",
              "  <tbody>\n",
              "    <tr>\n",
              "      <th>MSE</th>\n",
              "      <td>88.281026</td>\n",
              "      <td>8.099936</td>\n",
              "      <td>7.904467</td>\n",
              "    </tr>\n",
              "    <tr>\n",
              "      <th>MSE_train</th>\n",
              "      <td>43.839515</td>\n",
              "      <td>3.134596</td>\n",
              "      <td>2.122232</td>\n",
              "    </tr>\n",
              "    <tr>\n",
              "      <th>RMSE</th>\n",
              "      <td>9.395798</td>\n",
              "      <td>2.846039</td>\n",
              "      <td>2.811488</td>\n",
              "    </tr>\n",
              "    <tr>\n",
              "      <th>RMSE_train</th>\n",
              "      <td>6.621142</td>\n",
              "      <td>1.770479</td>\n",
              "      <td>1.456788</td>\n",
              "    </tr>\n",
              "    <tr>\n",
              "      <th>MAE</th>\n",
              "      <td>7.210388</td>\n",
              "      <td>1.860421</td>\n",
              "      <td>1.748718</td>\n",
              "    </tr>\n",
              "    <tr>\n",
              "      <th>MAE_train</th>\n",
              "      <td>4.926453</td>\n",
              "      <td>1.131029</td>\n",
              "      <td>0.867259</td>\n",
              "    </tr>\n",
              "    <tr>\n",
              "      <th>exp_var</th>\n",
              "      <td>0.076402</td>\n",
              "      <td>0.915326</td>\n",
              "      <td>0.917369</td>\n",
              "    </tr>\n",
              "    <tr>\n",
              "      <th>exp_var_train</th>\n",
              "      <td>0.491991</td>\n",
              "      <td>0.963769</td>\n",
              "      <td>0.975422</td>\n",
              "    </tr>\n",
              "    <tr>\n",
              "      <th>r^2</th>\n",
              "      <td>0.076369</td>\n",
              "      <td>0.915255</td>\n",
              "      <td>0.917300</td>\n",
              "    </tr>\n",
              "    <tr>\n",
              "      <th>r^2_train</th>\n",
              "      <td>0.491944</td>\n",
              "      <td>0.963673</td>\n",
              "      <td>0.975405</td>\n",
              "    </tr>\n",
              "  </tbody>\n",
              "</table>\n",
              "</div>"
            ],
            "text/plain": [
              "                    KNN3  KNN3_scaled  KNN2_scaled\n",
              "MSE            88.281026     8.099936     7.904467\n",
              "MSE_train      43.839515     3.134596     2.122232\n",
              "RMSE            9.395798     2.846039     2.811488\n",
              "RMSE_train      6.621142     1.770479     1.456788\n",
              "MAE             7.210388     1.860421     1.748718\n",
              "MAE_train       4.926453     1.131029     0.867259\n",
              "exp_var         0.076402     0.915326     0.917369\n",
              "exp_var_train   0.491991     0.963769     0.975422\n",
              "r^2             0.076369     0.915255     0.917300\n",
              "r^2_train       0.491944     0.963673     0.975405"
            ]
          },
          "metadata": {
            "tags": []
          },
          "execution_count": 27
        }
      ]
    }
  ]
}
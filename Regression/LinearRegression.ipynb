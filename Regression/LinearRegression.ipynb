{
  "nbformat": 4,
  "nbformat_minor": 0,
  "metadata": {
    "colab": {
      "name": "LinearRegression.ipynb",
      "provenance": [],
      "authorship_tag": "ABX9TyMSVTG69mtf2RBPSkYbNHi6",
      "include_colab_link": true
    },
    "kernelspec": {
      "name": "python3",
      "display_name": "Python 3"
    }
  },
  "cells": [
    {
      "cell_type": "markdown",
      "metadata": {
        "id": "view-in-github",
        "colab_type": "text"
      },
      "source": [
        "<a href=\"https://colab.research.google.com/github/crsimmons1/lifeexpectancy/blob/master/Regression/LinearRegression.ipynb\" target=\"_parent\"><img src=\"https://colab.research.google.com/assets/colab-badge.svg\" alt=\"Open In Colab\"/></a>"
      ]
    },
    {
      "cell_type": "markdown",
      "metadata": {
        "id": "zaQWQGrXpdYR",
        "colab_type": "text"
      },
      "source": [
        "# **Linear Regression for Predicting Life Expectancy**\n",
        "\n",
        "This file uses support vector machines to predict the life expectancy for various countries for the years 2000-2015. \n",
        "\n",
        "This data can be found [here](https://www.kaggle.com/kumarajarshi/life-expectancy-who) on Kaggle. Please see this git [repository](https://github.com/crsimmons1/lifeexpectancy) for more information on the data cleaning that was done. \n",
        "\n",
        "\n",
        "## **Import the Data**\n"
      ]
    },
    {
      "cell_type": "code",
      "metadata": {
        "id": "LKptnU4mpaWe",
        "colab_type": "code",
        "colab": {}
      },
      "source": [
        "import pandas as pd\n",
        "import numpy as np\n",
        "\n",
        "# Import data\n",
        "data= pd.read_csv(\"cleaned_data.csv\")\n",
        "\n",
        "# Split in X and y \n",
        "y = pd.DataFrame(data.LifeExpectancy)\n",
        "X = data.drop(columns=['LifeExpectancy','TExp', 'Year'])\n",
        "\n",
        "#Train-test split \n",
        "from sklearn.model_selection import train_test_split\n",
        "X_train, X_test, y_train, y_test = train_test_split(X, y, test_size = 0.2, random_state=33)"
      ],
      "execution_count": 0,
      "outputs": []
    },
    {
      "cell_type": "code",
      "metadata": {
        "id": "Af8KkVynAEr5",
        "colab_type": "code",
        "outputId": "c3b09505-ab86-4bba-c748-d359d5052052",
        "colab": {
          "base_uri": "https://localhost:8080/",
          "height": 34
        }
      },
      "source": [
        "X_train.shape"
      ],
      "execution_count": 2,
      "outputs": [
        {
          "output_type": "execute_result",
          "data": {
            "text/plain": [
              "(2025, 19)"
            ]
          },
          "metadata": {
            "tags": []
          },
          "execution_count": 2
        }
      ]
    },
    {
      "cell_type": "code",
      "metadata": {
        "id": "X3g_jLz-pvKa",
        "colab_type": "code",
        "colab": {}
      },
      "source": [
        "from sklearn.linear_model import LinearRegression\n",
        "\n",
        "model_ols = LinearRegression()\n",
        "model_ols.fit(X=X_train, y=y_train)\n",
        "model_ols_train_preds = model_ols.predict(X_train)"
      ],
      "execution_count": 0,
      "outputs": []
    },
    {
      "cell_type": "code",
      "metadata": {
        "id": "95lpMIMcBE8g",
        "colab_type": "code",
        "outputId": "c0829ac3-3f28-444e-cc11-63ca20b46260",
        "colab": {
          "base_uri": "https://localhost:8080/",
          "height": 88
        }
      },
      "source": [
        "# Use SGDRegressor to compare to numpy time \n",
        "from sklearn.linear_model import SGDRegressor\n",
        "import time \n",
        "model_2 = SGDRegressor()\n",
        "t_start = time.time()\n",
        "model_2.fit(X=X_train, y=y_train)\n",
        "t_end = time.time()\n",
        "\n",
        "t_start - t_end"
      ],
      "execution_count": 4,
      "outputs": [
        {
          "output_type": "stream",
          "text": [
            "/usr/local/lib/python3.6/dist-packages/sklearn/utils/validation.py:760: DataConversionWarning: A column-vector y was passed when a 1d array was expected. Please change the shape of y to (n_samples, ), for example using ravel().\n",
            "  y = column_or_1d(y, warn=True)\n"
          ],
          "name": "stderr"
        },
        {
          "output_type": "execute_result",
          "data": {
            "text/plain": [
              "-0.010830163955688477"
            ]
          },
          "metadata": {
            "tags": []
          },
          "execution_count": 4
        }
      ]
    },
    {
      "cell_type": "code",
      "metadata": {
        "id": "tW2zr0aDqq-F",
        "colab_type": "code",
        "colab": {}
      },
      "source": [
        "from sklearn import metrics\n",
        "\n",
        "RESULTS = {}\n",
        "\n",
        "def evaluate_model(y_true, y_pred):# Function to evaluate model \n",
        "    return {\n",
        "        \"mae\": metrics.mean_absolute_error(y_true, y_pred),\n",
        "        \"exp_var\": metrics.explained_variance_score(y_true, y_pred),\n",
        "        \"mse\" : metrics.mean_squared_error(y_true, y_pred),\n",
        "        \"r^2\" : metrics.r2_score(y_true, y_pred),\n",
        "           }"
      ],
      "execution_count": 0,
      "outputs": []
    },
    {
      "cell_type": "code",
      "metadata": {
        "id": "cR-2DwQEXOmN",
        "colab_type": "code",
        "colab": {}
      },
      "source": [
        "RESULTS[\"ols_train\"] = evaluate_model(\n",
        "    y_train,\n",
        "    model_ols_train_preds\n",
        ")"
      ],
      "execution_count": 0,
      "outputs": []
    },
    {
      "cell_type": "code",
      "metadata": {
        "id": "C9L7jky3XUdm",
        "colab_type": "code",
        "outputId": "430ba4f7-d6d1-4598-efcf-86ac5724128b",
        "colab": {
          "base_uri": "https://localhost:8080/",
          "height": 173
        }
      },
      "source": [
        "model_ols_test_preds = model_ols.predict(X_test)\n",
        "\n",
        "RESULTS[\"ols_test\"] = evaluate_model(\n",
        "    y_test,\n",
        "    model_ols_test_preds\n",
        ")\n",
        "pd.DataFrame(RESULTS)"
      ],
      "execution_count": 7,
      "outputs": [
        {
          "output_type": "execute_result",
          "data": {
            "text/html": [
              "<div>\n",
              "<style scoped>\n",
              "    .dataframe tbody tr th:only-of-type {\n",
              "        vertical-align: middle;\n",
              "    }\n",
              "\n",
              "    .dataframe tbody tr th {\n",
              "        vertical-align: top;\n",
              "    }\n",
              "\n",
              "    .dataframe thead th {\n",
              "        text-align: right;\n",
              "    }\n",
              "</style>\n",
              "<table border=\"1\" class=\"dataframe\">\n",
              "  <thead>\n",
              "    <tr style=\"text-align: right;\">\n",
              "      <th></th>\n",
              "      <th>ols_train</th>\n",
              "      <th>ols_test</th>\n",
              "    </tr>\n",
              "  </thead>\n",
              "  <tbody>\n",
              "    <tr>\n",
              "      <th>mae</th>\n",
              "      <td>2.805181</td>\n",
              "      <td>3.006620</td>\n",
              "    </tr>\n",
              "    <tr>\n",
              "      <th>exp_var</th>\n",
              "      <td>0.838265</td>\n",
              "      <td>0.820882</td>\n",
              "    </tr>\n",
              "    <tr>\n",
              "      <th>mse</th>\n",
              "      <td>13.955949</td>\n",
              "      <td>17.144870</td>\n",
              "    </tr>\n",
              "    <tr>\n",
              "      <th>r^2</th>\n",
              "      <td>0.838265</td>\n",
              "      <td>0.820624</td>\n",
              "    </tr>\n",
              "  </tbody>\n",
              "</table>\n",
              "</div>"
            ],
            "text/plain": [
              "         ols_train   ols_test\n",
              "mae       2.805181   3.006620\n",
              "exp_var   0.838265   0.820882\n",
              "mse      13.955949  17.144870\n",
              "r^2       0.838265   0.820624"
            ]
          },
          "metadata": {
            "tags": []
          },
          "execution_count": 7
        }
      ]
    },
    {
      "cell_type": "code",
      "metadata": {
        "id": "PDmoT6xSXxHj",
        "colab_type": "code",
        "outputId": "0cb8552c-b3a5-4ca8-a7a9-da698f89fe63",
        "colab": {
          "base_uri": "https://localhost:8080/",
          "height": 102
        }
      },
      "source": [
        "print(model_ols.coef_)"
      ],
      "execution_count": 0,
      "outputs": [
        {
          "output_type": "stream",
          "text": [
            "[[ 1.15160267e+00 -1.66207746e-02  9.29747925e-02 -8.55255842e-03\n",
            "   1.34248164e-04 -5.69797084e-03 -8.77407511e-06  3.18973046e-02\n",
            "  -6.92316120e-02  2.79754221e-02  1.01916309e-02  2.40579567e-02\n",
            "  -4.67223993e-01  2.63192752e-05 -1.46011708e-09 -5.17484694e-02\n",
            "   2.26885652e-03  7.00154611e+00  8.60381256e-01]]\n"
          ],
          "name": "stdout"
        }
      ]
    },
    {
      "cell_type": "markdown",
      "metadata": {
        "id": "TNwfze4vfKOn",
        "colab_type": "text"
      },
      "source": [
        "## By Hand (Numpy/Pandas)\n",
        "\n",
        "This exists as a proof of concept. Using numpy and pandas, the coefficients of linear regression are found from the closed-form equation using matrix operations. "
      ]
    },
    {
      "cell_type": "code",
      "metadata": {
        "id": "-Qpvm3zrZJK5",
        "colab_type": "code",
        "colab": {}
      },
      "source": [
        " # Make into numpy array \n",
        " X=np.array(X_train)\n",
        " Y=np.array(y_train)"
      ],
      "execution_count": 0,
      "outputs": []
    },
    {
      "cell_type": "code",
      "metadata": {
        "id": "smYdn8Kr_n9w",
        "colab_type": "code",
        "colab": {}
      },
      "source": [
        "# Add a column of ones (for coefficients)\n",
        "n,m = X.shape # for generality\n",
        "X0 = np.ones((n,1))\n",
        "Xnew = np.hstack((X,X0))"
      ],
      "execution_count": 0,
      "outputs": []
    },
    {
      "cell_type": "code",
      "metadata": {
        "id": "nDIgZaTRbQJG",
        "colab_type": "code",
        "colab": {}
      },
      "source": [
        "# Start Time\n",
        "import time\n",
        "t_start = time.time()\n",
        "\n",
        "# Calculate the Coefficients\n",
        "betas = np.linalg.inv(Xnew.T.dot(Xnew)).dot(Xnew.T).dot(y_train)\n",
        "\n",
        "# Time end\n",
        "t_end = time.time()"
      ],
      "execution_count": 0,
      "outputs": []
    },
    {
      "cell_type": "code",
      "metadata": {
        "id": "hTj2yQpkA3NN",
        "colab_type": "code",
        "outputId": "c1d88e00-e08d-4adf-9e28-7bb192964473",
        "colab": {
          "base_uri": "https://localhost:8080/",
          "height": 34
        }
      },
      "source": [
        "# Calculate time \n",
        "t_start-t_end"
      ],
      "execution_count": 0,
      "outputs": [
        {
          "output_type": "execute_result",
          "data": {
            "text/plain": [
              "-0.0066335201263427734"
            ]
          },
          "metadata": {
            "tags": []
          },
          "execution_count": 15
        }
      ]
    },
    {
      "cell_type": "code",
      "metadata": {
        "id": "Vqa_iUFkcJbb",
        "colab_type": "code",
        "outputId": "3e7d13dd-0cbb-4c05-eece-066be9d435f3",
        "colab": {
          "base_uri": "https://localhost:8080/",
          "height": 357
        }
      },
      "source": [
        "# Coefficients\n",
        "print(betas)"
      ],
      "execution_count": 0,
      "outputs": [
        {
          "output_type": "stream",
          "text": [
            "[[ 1.15160267e+00]\n",
            " [-1.66207746e-02]\n",
            " [ 9.29747925e-02]\n",
            " [-8.55255842e-03]\n",
            " [ 1.34248164e-04]\n",
            " [-5.69797084e-03]\n",
            " [-8.77407511e-06]\n",
            " [ 3.18973046e-02]\n",
            " [-6.92316120e-02]\n",
            " [ 2.79754221e-02]\n",
            " [ 1.01916309e-02]\n",
            " [ 2.40579567e-02]\n",
            " [-4.67223993e-01]\n",
            " [ 2.63192752e-05]\n",
            " [-1.46011708e-09]\n",
            " [-5.17484694e-02]\n",
            " [ 2.26885652e-03]\n",
            " [ 7.00154611e+00]\n",
            " [ 8.60381256e-01]\n",
            " [ 5.28804274e+01]]\n"
          ],
          "name": "stdout"
        }
      ]
    },
    {
      "cell_type": "markdown",
      "metadata": {
        "id": "5TodYEtvObaW",
        "colab_type": "text"
      },
      "source": [
        "## **Graph**"
      ]
    },
    {
      "cell_type": "code",
      "metadata": {
        "id": "7i7ZT_UncLNA",
        "colab_type": "code",
        "colab": {
          "base_uri": "https://localhost:8080/",
          "height": 296
        },
        "outputId": "a2ddab80-e6c8-47ac-c634-5d9e02f73b9f"
      },
      "source": [
        "# library & dataset\n",
        "import matplotlib.pyplot as plt\n",
        "import seaborn as sns\n",
        "\n",
        " \n",
        "# use the function regplot to make a scatterplot\n",
        "sns.regplot(x=data[\"LifeExpectancy\"], y=data[\"InfantDeaths\"])"
      ],
      "execution_count": 14,
      "outputs": [
        {
          "output_type": "execute_result",
          "data": {
            "text/plain": [
              "<matplotlib.axes._subplots.AxesSubplot at 0x7f5e8834aa90>"
            ]
          },
          "metadata": {
            "tags": []
          },
          "execution_count": 14
        },
        {
          "output_type": "display_data",
          "data": {
            "image/png": "[encoded data removed]",
            "text/plain": [
              "<Figure size 432x288 with 1 Axes>"
            ]
          },
          "metadata": {
            "tags": [],
            "needs_background": "light"
          }
        }
      ]
    },
    {
      "cell_type": "code",
      "metadata": {
        "id": "LUyz9WNGPDF9",
        "colab_type": "code",
        "colab": {}
      },
      "source": [
        ""
      ],
      "execution_count": 0,
      "outputs": []
    }
  ]
}
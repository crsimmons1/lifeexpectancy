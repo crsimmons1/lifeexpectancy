{
  "nbformat": 4,
  "nbformat_minor": 0,
  "metadata": {
    "colab": {
      "name": "Logistic.ipynb",
      "provenance": [],
      "authorship_tag": "ABX9TyNsg2RGsiSAQVrxC/MdmEeB",
      "include_colab_link": true
    },
    "kernelspec": {
      "name": "python3",
      "display_name": "Python 3"
    }
  },
  "cells": [
    {
      "cell_type": "markdown",
      "metadata": {
        "id": "view-in-github",
        "colab_type": "text"
      },
      "source": [
        "<a href=\"https://colab.research.google.com/github/crsimmons1/lifeexpectancy/blob/master/Classification/Logistic.ipynb\" target=\"_parent\"><img src=\"https://colab.research.google.com/assets/colab-badge.svg\" alt=\"Open In Colab\"/></a>"
      ]
    },
    {
      "cell_type": "markdown",
      "metadata": {
        "id": "Zp62zsb6Vcn4",
        "colab_type": "text"
      },
      "source": [
        "# **Logistic Regression for Classification of Expenditure**\n",
        "## **Introduction**\n",
        "This file uses support vector machines to classify whether the Total Expenditure (general government expenditure on health as a percentage of total government expenditure (%)) was low or high for various countries for the years 2000-2015. The threshold chosen to distinguish low(1)  and high(1) is 5.8%, since it is the median value and keeps the classes balanced.  \n",
        "\n",
        "This data can be found [here](https://www.kaggle.com/kumarajarshi/life-expectancy-who) on Kaggle. Please see this git [repository](https://github.com/crsimmons1/lifeexpectancy) for more information on the data cleaning that was done. \n",
        "\n",
        "The explanatory variables included are:\n",
        "* **LifeExpectancy** in age\n",
        "* **AdultMortality** Adult Mortality Rates of both sexes (probability of dying between 15 and 60 years per 1000 population)\n",
        "* **InfantDeaths** Number of Infant Deaths per 1,000 population\n",
        "* **Alcohol**, recorded per capita (15+) consumption (in litres of pure alcohol)\n",
        "* **HepB** (Hepatitis B) immunization coverage among 1-year-olds (%)\n",
        "* **Measles** - number of reported cases per 1000 population\n",
        "* **BMI** Average Body Mass Index of entire population\n",
        "* **5deaths** Number of under-five deaths per 1000 population\n",
        "* **Polio** (Pol3) immunization coverage among 1-year-olds (%)\n",
        "* **Diphtheria** tetanus toxoid and pertussis (DTP3) immunization coverage among 1-year-olds (%)\n",
        "* **HIV** Deaths per 1,000 live births HIV/AIDS (0-4 years)\n",
        "* **GDP** Gross Domestic Product per capita (in USD)\n",
        "* **Population** of the country\n",
        "* **ThinJuvenile** Prevalence of thinness among children and adolescents for Age 10 to 19 (% )\n",
        "* **ThinChild** Prevalence of thinness among children for Age 5 to 9(%)\n",
        "* **IncomeComp** Human Development Index in terms of income composition of resources (index ranging from 0 to 1)\n",
        "* **Schooling** Number of years of Schooling(years)\n",
        "\n",
        "## **Overview of Analysis and Results**\n",
        "\n",
        "Model 1 was fitted with basic logistic regression. For model 2, all of the variables were scaled. This increased the accuracy 56.4% to 65.7%. Since it is unlikely that all of the features are contributing to the model equally, or at all, the next step is selecting the most important features and dropping the ones that do not contribute. \n",
        "\n",
        "Then, the importance was assessed using recursive feature elimination (RFE) for the next two models. Model 3 removed any features that were below 0.05, which was all three of the immunization variables (Polio, Diphtheria, Measles) and BMI. Model 4 removed the six features that were below 0.1, so Adult Mortality and GDP were also removed. This makes sense considering that GDP and Hepatitis B were both columns with a lot of missing values that were filled in with imputing. Model 4 had the highest accuracy so far, increasing to 65.9%\n",
        "\n",
        "The next step is to tune the parameters to ensure the best possible fit. To avoid overfitting during the process, cross validation is used. The most important parameters are penalty, which helps to avoid having the model overfit, and the strength of that penalty. \n",
        "\n",
        "Model 5 tunes the parameters for penalty and the inverse of the regularization strength using grid search with CV=5. Logistic regression defaults with an l2 penalty, so all available options were considered (l1, none, and elastic net). C is a parameter that indicated the inverse of the regularization strength(larger values specify weaker regularization). A range of this, both above and below 1 will allow us to tune how strong each penalty is. This model improved the accuracy to 66.1%, which is not a great improvement most likely because l2 ended up being the best parameter. C was selected for 0.1, indicating a strong penalty was applied. \n",
        "\n",
        "Model 6 tunes the parameter even further, also using grid search with CV=5. Working with the l2 penalty selected in model 5, several different solvers were put it. A solver is the algorithm used for the optimization problem. The range of possible C values was also increased, with less space between them. A stronger penalty was selected, with C=0.05. The solver selected was newton-cg.  The accuracy decreased slightly to 65.9%. \n",
        "\n",
        "The best model is likely model 6, even with decreased accuracy compared to model 5. It might simply be that model 5 found a local minimum that exists only with cross validation. Model 5 uses a lbfgs solver, which may get stuck at a non-optimal point if the level curves are not smooth. \n",
        "\n",
        "\n",
        "\n",
        "## **Import the Data**\n"
      ]
    },
    {
      "cell_type": "code",
      "metadata": {
        "id": "X5CoJaYLVZ2Z",
        "colab_type": "code",
        "outputId": "625c5f1f-7d6d-4e72-cdb8-514432c8b53c",
        "colab": {
          "base_uri": "https://localhost:8080/",
          "height": 224
        }
      },
      "source": [
        "# Import Packages\n",
        "import pandas as pd\n",
        "import numpy as np\n",
        "\n",
        "# Import Unscaled Data\n",
        "data= pd.read_csv(\"cleaned_data.csv\")\n",
        "\n",
        "# Split in X and y \n",
        "y = pd.DataFrame(data.TExp)\n",
        "X = data.drop(columns=['TExpenditure', 'Expenditure','TExp', 'Year', 'Status'])\n",
        "\n",
        "#Train-test split \n",
        "from sklearn.model_selection import train_test_split\n",
        "X_train, X_test, y_train, y_test = train_test_split(X, y, test_size = 0.2, random_state=33)\n",
        "\n",
        "data.head(5)"
      ],
      "execution_count": 93,
      "outputs": [
        {
          "output_type": "execute_result",
          "data": {
            "text/html": [
              "<div>\n",
              "<style scoped>\n",
              "    .dataframe tbody tr th:only-of-type {\n",
              "        vertical-align: middle;\n",
              "    }\n",
              "\n",
              "    .dataframe tbody tr th {\n",
              "        vertical-align: top;\n",
              "    }\n",
              "\n",
              "    .dataframe thead th {\n",
              "        text-align: right;\n",
              "    }\n",
              "</style>\n",
              "<table border=\"1\" class=\"dataframe\">\n",
              "  <thead>\n",
              "    <tr style=\"text-align: right;\">\n",
              "      <th></th>\n",
              "      <th>Status</th>\n",
              "      <th>Year</th>\n",
              "      <th>LifeExpectancy</th>\n",
              "      <th>AdultMortality</th>\n",
              "      <th>InfantDeaths</th>\n",
              "      <th>Alcohol</th>\n",
              "      <th>Expenditure</th>\n",
              "      <th>HepB</th>\n",
              "      <th>Measles</th>\n",
              "      <th>BMI</th>\n",
              "      <th>5deaths</th>\n",
              "      <th>Polio</th>\n",
              "      <th>TExpenditure</th>\n",
              "      <th>Diphtheria</th>\n",
              "      <th>HIV</th>\n",
              "      <th>GDP</th>\n",
              "      <th>Population</th>\n",
              "      <th>ThinJuvenile</th>\n",
              "      <th>ThinChild</th>\n",
              "      <th>IncomeComp</th>\n",
              "      <th>Schooling</th>\n",
              "      <th>TExp</th>\n",
              "    </tr>\n",
              "  </thead>\n",
              "  <tbody>\n",
              "    <tr>\n",
              "      <th>0</th>\n",
              "      <td>0</td>\n",
              "      <td>2015.0</td>\n",
              "      <td>65.0</td>\n",
              "      <td>263.0</td>\n",
              "      <td>62.0</td>\n",
              "      <td>0.01</td>\n",
              "      <td>71.279624</td>\n",
              "      <td>65.0</td>\n",
              "      <td>1154.0</td>\n",
              "      <td>19.1</td>\n",
              "      <td>83.0</td>\n",
              "      <td>6.0</td>\n",
              "      <td>8.16</td>\n",
              "      <td>65.0</td>\n",
              "      <td>0.1</td>\n",
              "      <td>584.259210</td>\n",
              "      <td>33736494.0</td>\n",
              "      <td>17.2</td>\n",
              "      <td>17.3</td>\n",
              "      <td>0.479</td>\n",
              "      <td>10.1</td>\n",
              "      <td>1</td>\n",
              "    </tr>\n",
              "    <tr>\n",
              "      <th>1</th>\n",
              "      <td>0</td>\n",
              "      <td>2014.0</td>\n",
              "      <td>59.9</td>\n",
              "      <td>271.0</td>\n",
              "      <td>64.0</td>\n",
              "      <td>0.01</td>\n",
              "      <td>73.523582</td>\n",
              "      <td>62.0</td>\n",
              "      <td>492.0</td>\n",
              "      <td>18.6</td>\n",
              "      <td>86.0</td>\n",
              "      <td>58.0</td>\n",
              "      <td>8.18</td>\n",
              "      <td>62.0</td>\n",
              "      <td>0.1</td>\n",
              "      <td>612.696514</td>\n",
              "      <td>327582.0</td>\n",
              "      <td>17.5</td>\n",
              "      <td>17.5</td>\n",
              "      <td>0.476</td>\n",
              "      <td>10.0</td>\n",
              "      <td>1</td>\n",
              "    </tr>\n",
              "    <tr>\n",
              "      <th>2</th>\n",
              "      <td>0</td>\n",
              "      <td>2013.0</td>\n",
              "      <td>59.9</td>\n",
              "      <td>268.0</td>\n",
              "      <td>66.0</td>\n",
              "      <td>0.01</td>\n",
              "      <td>73.219243</td>\n",
              "      <td>64.0</td>\n",
              "      <td>430.0</td>\n",
              "      <td>18.1</td>\n",
              "      <td>89.0</td>\n",
              "      <td>62.0</td>\n",
              "      <td>8.13</td>\n",
              "      <td>64.0</td>\n",
              "      <td>0.1</td>\n",
              "      <td>631.744976</td>\n",
              "      <td>31731688.0</td>\n",
              "      <td>17.7</td>\n",
              "      <td>17.7</td>\n",
              "      <td>0.470</td>\n",
              "      <td>9.9</td>\n",
              "      <td>1</td>\n",
              "    </tr>\n",
              "    <tr>\n",
              "      <th>3</th>\n",
              "      <td>0</td>\n",
              "      <td>2012.0</td>\n",
              "      <td>59.5</td>\n",
              "      <td>272.0</td>\n",
              "      <td>69.0</td>\n",
              "      <td>0.01</td>\n",
              "      <td>78.184215</td>\n",
              "      <td>67.0</td>\n",
              "      <td>2787.0</td>\n",
              "      <td>17.6</td>\n",
              "      <td>93.0</td>\n",
              "      <td>67.0</td>\n",
              "      <td>8.52</td>\n",
              "      <td>67.0</td>\n",
              "      <td>0.1</td>\n",
              "      <td>669.959000</td>\n",
              "      <td>3696958.0</td>\n",
              "      <td>17.9</td>\n",
              "      <td>18.0</td>\n",
              "      <td>0.463</td>\n",
              "      <td>9.8</td>\n",
              "      <td>1</td>\n",
              "    </tr>\n",
              "    <tr>\n",
              "      <th>4</th>\n",
              "      <td>0</td>\n",
              "      <td>2011.0</td>\n",
              "      <td>59.2</td>\n",
              "      <td>275.0</td>\n",
              "      <td>71.0</td>\n",
              "      <td>0.01</td>\n",
              "      <td>7.097109</td>\n",
              "      <td>68.0</td>\n",
              "      <td>3013.0</td>\n",
              "      <td>17.2</td>\n",
              "      <td>97.0</td>\n",
              "      <td>68.0</td>\n",
              "      <td>7.87</td>\n",
              "      <td>68.0</td>\n",
              "      <td>0.1</td>\n",
              "      <td>63.537231</td>\n",
              "      <td>2978599.0</td>\n",
              "      <td>18.2</td>\n",
              "      <td>18.2</td>\n",
              "      <td>0.454</td>\n",
              "      <td>9.5</td>\n",
              "      <td>1</td>\n",
              "    </tr>\n",
              "  </tbody>\n",
              "</table>\n",
              "</div>"
            ],
            "text/plain": [
              "   Status    Year  LifeExpectancy  ...  IncomeComp  Schooling  TExp\n",
              "0       0  2015.0            65.0  ...       0.479       10.1     1\n",
              "1       0  2014.0            59.9  ...       0.476       10.0     1\n",
              "2       0  2013.0            59.9  ...       0.470        9.9     1\n",
              "3       0  2012.0            59.5  ...       0.463        9.8     1\n",
              "4       0  2011.0            59.2  ...       0.454        9.5     1\n",
              "\n",
              "[5 rows x 22 columns]"
            ]
          },
          "metadata": {
            "tags": []
          },
          "execution_count": 93
        }
      ]
    },
    {
      "cell_type": "markdown",
      "metadata": {
        "id": "AYFLJ1nsWHit",
        "colab_type": "text"
      },
      "source": [
        "## **Initial Fitting**\n",
        "### Model 1"
      ]
    },
    {
      "cell_type": "code",
      "metadata": {
        "id": "WohCdqnAYUFc",
        "colab_type": "code",
        "outputId": "9fc19e5e-4d8c-4bd6-a0cd-ebc0a0f74294",
        "colab": {
          "base_uri": "https://localhost:8080/",
          "height": 156
        }
      },
      "source": [
        "from sklearn.linear_model import LogisticRegression\n",
        "logreg = LogisticRegression()\n",
        "logreg.fit(X_train, y_train)"
      ],
      "execution_count": 94,
      "outputs": [
        {
          "output_type": "stream",
          "text": [
            "/usr/local/lib/python3.6/dist-packages/sklearn/utils/validation.py:760: DataConversionWarning: A column-vector y was passed when a 1d array was expected. Please change the shape of y to (n_samples, ), for example using ravel().\n",
            "  y = column_or_1d(y, warn=True)\n"
          ],
          "name": "stderr"
        },
        {
          "output_type": "execute_result",
          "data": {
            "text/plain": [
              "LogisticRegression(C=1.0, class_weight=None, dual=False, fit_intercept=True,\n",
              "                   intercept_scaling=1, l1_ratio=None, max_iter=100,\n",
              "                   multi_class='auto', n_jobs=None, penalty='l2',\n",
              "                   random_state=None, solver='lbfgs', tol=0.0001, verbose=0,\n",
              "                   warm_start=False)"
            ]
          },
          "metadata": {
            "tags": []
          },
          "execution_count": 94
        }
      ]
    },
    {
      "cell_type": "code",
      "metadata": {
        "id": "tUOSjjUdYULU",
        "colab_type": "code",
        "outputId": "e5adc566-a125-4404-a216-349e9546bd72",
        "colab": {
          "base_uri": "https://localhost:8080/",
          "height": 187
        }
      },
      "source": [
        "y_pred = logreg.predict(X_test)\n",
        "print('Accuracy of logistic regression classifier on test set: {:.2f}'.format(logreg.score(X_test, y_test)))\n",
        "from sklearn.metrics import classification_report\n",
        "print(classification_report(y_test, y_pred))"
      ],
      "execution_count": 95,
      "outputs": [
        {
          "output_type": "stream",
          "text": [
            "Accuracy of logistic regression classifier on test set: 0.56\n",
            "              precision    recall  f1-score   support\n",
            "\n",
            "           0       0.60      0.53      0.56       269\n",
            "           1       0.53      0.61      0.57       238\n",
            "\n",
            "    accuracy                           0.56       507\n",
            "   macro avg       0.57      0.57      0.56       507\n",
            "weighted avg       0.57      0.56      0.56       507\n",
            "\n"
          ],
          "name": "stdout"
        }
      ]
    },
    {
      "cell_type": "code",
      "metadata": {
        "id": "rDy0Dx1qvPgr",
        "colab_type": "code",
        "outputId": "1cbe1bf3-3e73-4cde-d887-a23485ec32e8",
        "colab": {
          "base_uri": "https://localhost:8080/",
          "height": 297
        }
      },
      "source": [
        "from sklearn import metrics\n",
        "\n",
        "# Function to evaluate model \n",
        "RESULTS = {}\n",
        "def evaluate_model(y_test, y_train, y_pred_test, y_pred_train):\n",
        "    return { # First test, then training \n",
        "        # Accuracy\n",
        "        \"Accuracy_test\" : metrics.accuracy_score(y_test, y_pred_test),\n",
        "        \"Accuracy_train\" : metrics.accuracy_score(y_train, y_pred_train),\n",
        "        # AUC\n",
        "        \"AUC_test\" : (metrics.roc_auc_score(y_test, y_pred_test)),\n",
        "        \"AUC_train\" : (metrics.roc_auc_score(y_train, y_pred_train)),\n",
        "        # Average Precision Score\n",
        "        \"AvgPrecision_test\": metrics.average_precision_score(y_test, y_pred_test),\n",
        "        \"AvgPrecision_train\": metrics.average_precision_score(y_train, y_pred_train),\n",
        "        # F1 Score, also known as balanced F-score or F-measure\n",
        "        \"F1_test\": metrics.f1_score(y_test, y_pred_test),\n",
        "        \"F1_train\": metrics.f1_score(y_train, y_pred_train)}\n",
        "\n",
        "# calculate metrics for the training and test predictions\n",
        "y_pred_train = logreg.predict(X_train)\n",
        "y_pred_test = logreg.predict(X_test)\n",
        "RESULTS[\"Initial\"] = evaluate_model(y_test, y_train, y_pred_test,y_pred_train)\n",
        "\n",
        "# Output the metrics\n",
        "pd.DataFrame(RESULTS)"
      ],
      "execution_count": 96,
      "outputs": [
        {
          "output_type": "execute_result",
          "data": {
            "text/html": [
              "<div>\n",
              "<style scoped>\n",
              "    .dataframe tbody tr th:only-of-type {\n",
              "        vertical-align: middle;\n",
              "    }\n",
              "\n",
              "    .dataframe tbody tr th {\n",
              "        vertical-align: top;\n",
              "    }\n",
              "\n",
              "    .dataframe thead th {\n",
              "        text-align: right;\n",
              "    }\n",
              "</style>\n",
              "<table border=\"1\" class=\"dataframe\">\n",
              "  <thead>\n",
              "    <tr style=\"text-align: right;\">\n",
              "      <th></th>\n",
              "      <th>Initial</th>\n",
              "    </tr>\n",
              "  </thead>\n",
              "  <tbody>\n",
              "    <tr>\n",
              "      <th>AUC_test</th>\n",
              "      <td>0.566462</td>\n",
              "    </tr>\n",
              "    <tr>\n",
              "      <th>AUC_train</th>\n",
              "      <td>0.572876</td>\n",
              "    </tr>\n",
              "    <tr>\n",
              "      <th>Accuracy_test</th>\n",
              "      <td>0.564103</td>\n",
              "    </tr>\n",
              "    <tr>\n",
              "      <th>Accuracy_train</th>\n",
              "      <td>0.571852</td>\n",
              "    </tr>\n",
              "    <tr>\n",
              "      <th>AvgPrecision_test</th>\n",
              "      <td>0.506903</td>\n",
              "    </tr>\n",
              "    <tr>\n",
              "      <th>AvgPrecision_train</th>\n",
              "      <td>0.534437</td>\n",
              "    </tr>\n",
              "    <tr>\n",
              "      <th>F1_test</th>\n",
              "      <td>0.565815</td>\n",
              "    </tr>\n",
              "    <tr>\n",
              "      <th>F1_train</th>\n",
              "      <td>0.599538</td>\n",
              "    </tr>\n",
              "  </tbody>\n",
              "</table>\n",
              "</div>"
            ],
            "text/plain": [
              "                     Initial\n",
              "AUC_test            0.566462\n",
              "AUC_train           0.572876\n",
              "Accuracy_test       0.564103\n",
              "Accuracy_train      0.571852\n",
              "AvgPrecision_test   0.506903\n",
              "AvgPrecision_train  0.534437\n",
              "F1_test             0.565815\n",
              "F1_train            0.599538"
            ]
          },
          "metadata": {
            "tags": []
          },
          "execution_count": 96
        }
      ]
    },
    {
      "cell_type": "code",
      "metadata": {
        "id": "RlYTVVL6ZEFa",
        "colab_type": "code",
        "outputId": "5c093426-8321-4b6b-a7e8-19ea0560a477",
        "colab": {
          "base_uri": "https://localhost:8080/",
          "height": 295
        }
      },
      "source": [
        "from sklearn.metrics import roc_auc_score\n",
        "from sklearn.metrics import roc_curve\n",
        "import matplotlib.pyplot as plt\n",
        "logit_roc_auc = roc_auc_score(y_test, logreg.predict(X_test))\n",
        "fpr, tpr, thresholds = roc_curve(y_test, logreg.predict_proba(X_test)[:,1])\n",
        "plt.figure()\n",
        "plt.plot(fpr, tpr, label='Logistic Regression (area = %0.2f)' % logit_roc_auc)\n",
        "plt.plot([0, 1], [0, 1],'r--')\n",
        "plt.xlim([0.0, 1.0])\n",
        "plt.ylim([0.0, 1.05])\n",
        "plt.xlabel('False Positive Rate')\n",
        "plt.ylabel('True Positive Rate')\n",
        "plt.title('Receiver Operating Characteristic - Initial Logistic')\n",
        "plt.legend(loc=\"lower right\")\n",
        "plt.savefig('Log_ROC')\n",
        "plt.show()"
      ],
      "execution_count": 97,
      "outputs": [
        {
          "output_type": "display_data",
          "data": {
            "image/png": "[encoded data removed]",
            "text/plain": [
              "<Figure size 432x288 with 1 Axes>"
            ]
          },
          "metadata": {
            "tags": [],
            "needs_background": "light"
          }
        }
      ]
    },
    {
      "cell_type": "code",
      "metadata": {
        "id": "DeLT509-K2mo",
        "colab_type": "code",
        "colab": {
          "base_uri": "https://localhost:8080/",
          "height": 295
        },
        "outputId": "9bb41ad6-fb9e-4588-d89a-292125dc05d6"
      },
      "source": [
        "from sklearn.metrics import plot_confusion_matrix\n",
        "\n",
        "plot_confusion_matrix(logreg, X_test, y_test, values_format='d', cmap='Reds')\n",
        "plt.title(\"Confusion Matrix - Initial Logistic Regression\")\n",
        "plt.show()"
      ],
      "execution_count": 98,
      "outputs": [
        {
          "output_type": "display_data",
          "data": {
            "image/png": "[encoded data removed]",
            "text/plain": [
              "<Figure size 432x288 with 2 Axes>"
            ]
          },
          "metadata": {
            "tags": [],
            "needs_background": "light"
          }
        }
      ]
    },
    {
      "cell_type": "markdown",
      "metadata": {
        "id": "w2Z8HyC63bzf",
        "colab_type": "text"
      },
      "source": [
        "## **Feature Selection and Scaling**\n",
        "### Model 2 - Scaled "
      ]
    },
    {
      "cell_type": "code",
      "metadata": {
        "id": "cQvdeXoB3eBL",
        "colab_type": "code",
        "colab": {}
      },
      "source": [
        "from sklearn.datasets import make_classification\n",
        "from sklearn.linear_model import LogisticRegression\n",
        "from matplotlib import pyplot\n",
        "from sklearn.preprocessing import StandardScaler\n",
        "# Create a scaler object\n",
        "sc = StandardScaler()\n",
        "\n",
        "# Fit the scaler to the training data and transform\n",
        "X_train = pd.DataFrame(sc.fit_transform(X_train), columns=X_train.columns)\n",
        "\n",
        "# Apply the scaler to the test data\n",
        "X_test = pd.DataFrame(sc.transform(X_test), columns=X_train.columns)"
      ],
      "execution_count": 0,
      "outputs": []
    },
    {
      "cell_type": "code",
      "metadata": {
        "id": "vxjomVtXRepK",
        "colab_type": "code",
        "outputId": "9302a926-8e31-45f9-d30b-d469cd1f5fac",
        "colab": {
          "base_uri": "https://localhost:8080/",
          "height": 224
        }
      },
      "source": [
        "X_train.head(5)"
      ],
      "execution_count": 8,
      "outputs": [
        {
          "output_type": "execute_result",
          "data": {
            "text/html": [
              "<div>\n",
              "<style scoped>\n",
              "    .dataframe tbody tr th:only-of-type {\n",
              "        vertical-align: middle;\n",
              "    }\n",
              "\n",
              "    .dataframe tbody tr th {\n",
              "        vertical-align: top;\n",
              "    }\n",
              "\n",
              "    .dataframe thead th {\n",
              "        text-align: right;\n",
              "    }\n",
              "</style>\n",
              "<table border=\"1\" class=\"dataframe\">\n",
              "  <thead>\n",
              "    <tr style=\"text-align: right;\">\n",
              "      <th></th>\n",
              "      <th>LifeExpectancy</th>\n",
              "      <th>AdultMortality</th>\n",
              "      <th>InfantDeaths</th>\n",
              "      <th>Alcohol</th>\n",
              "      <th>HepB</th>\n",
              "      <th>Measles</th>\n",
              "      <th>BMI</th>\n",
              "      <th>5deaths</th>\n",
              "      <th>Polio</th>\n",
              "      <th>Diphtheria</th>\n",
              "      <th>HIV</th>\n",
              "      <th>GDP</th>\n",
              "      <th>Population</th>\n",
              "      <th>ThinJuvenile</th>\n",
              "      <th>ThinChild</th>\n",
              "      <th>IncomeComp</th>\n",
              "      <th>Schooling</th>\n",
              "    </tr>\n",
              "  </thead>\n",
              "  <tbody>\n",
              "    <tr>\n",
              "      <th>0</th>\n",
              "      <td>0.612831</td>\n",
              "      <td>-0.199625</td>\n",
              "      <td>-0.182163</td>\n",
              "      <td>-0.170073</td>\n",
              "      <td>0.499629</td>\n",
              "      <td>-0.201610</td>\n",
              "      <td>-1.703877</td>\n",
              "      <td>-0.196119</td>\n",
              "      <td>0.350160</td>\n",
              "      <td>0.479066</td>\n",
              "      <td>-0.315715</td>\n",
              "      <td>-0.205350</td>\n",
              "      <td>0.029570</td>\n",
              "      <td>-0.787360</td>\n",
              "      <td>-0.800328</td>\n",
              "      <td>0.341004</td>\n",
              "      <td>0.317519</td>\n",
              "    </tr>\n",
              "    <tr>\n",
              "      <th>1</th>\n",
              "      <td>1.097265</td>\n",
              "      <td>-0.593504</td>\n",
              "      <td>-0.239988</td>\n",
              "      <td>1.929811</td>\n",
              "      <td>0.737977</td>\n",
              "      <td>-0.201151</td>\n",
              "      <td>0.988580</td>\n",
              "      <td>-0.244786</td>\n",
              "      <td>0.612198</td>\n",
              "      <td>0.651407</td>\n",
              "      <td>-0.315715</td>\n",
              "      <td>1.102629</td>\n",
              "      <td>-0.201657</td>\n",
              "      <td>-0.919042</td>\n",
              "      <td>-0.951772</td>\n",
              "      <td>0.869828</td>\n",
              "      <td>1.222636</td>\n",
              "    </tr>\n",
              "    <tr>\n",
              "      <th>2</th>\n",
              "      <td>-1.669395</td>\n",
              "      <td>-1.003460</td>\n",
              "      <td>-0.198685</td>\n",
              "      <td>-0.363022</td>\n",
              "      <td>-0.394424</td>\n",
              "      <td>-0.201610</td>\n",
              "      <td>-1.850922</td>\n",
              "      <td>-0.196119</td>\n",
              "      <td>-0.435953</td>\n",
              "      <td>-0.641151</td>\n",
              "      <td>0.647695</td>\n",
              "      <td>-0.479393</td>\n",
              "      <td>-0.199717</td>\n",
              "      <td>0.946452</td>\n",
              "      <td>0.887188</td>\n",
              "      <td>-3.033855</td>\n",
              "      <td>-1.274238</td>\n",
              "    </tr>\n",
              "    <tr>\n",
              "      <th>3</th>\n",
              "      <td>-0.173030</td>\n",
              "      <td>-0.062973</td>\n",
              "      <td>-0.182163</td>\n",
              "      <td>-1.002009</td>\n",
              "      <td>-1.089356</td>\n",
              "      <td>-0.020234</td>\n",
              "      <td>0.253352</td>\n",
              "      <td>-0.196119</td>\n",
              "      <td>-0.173915</td>\n",
              "      <td>-0.253384</td>\n",
              "      <td>-0.315715</td>\n",
              "      <td>-0.446578</td>\n",
              "      <td>-0.200608</td>\n",
              "      <td>-0.414262</td>\n",
              "      <td>-0.410901</td>\n",
              "      <td>0.134282</td>\n",
              "      <td>-0.400332</td>\n",
              "    </tr>\n",
              "    <tr>\n",
              "      <th>4</th>\n",
              "      <td>1.075735</td>\n",
              "      <td>-0.625658</td>\n",
              "      <td>-0.223467</td>\n",
              "      <td>1.330918</td>\n",
              "      <td>0.181832</td>\n",
              "      <td>-0.201610</td>\n",
              "      <td>0.993650</td>\n",
              "      <td>-0.232619</td>\n",
              "      <td>0.524852</td>\n",
              "      <td>0.565236</td>\n",
              "      <td>-0.315715</td>\n",
              "      <td>0.586462</td>\n",
              "      <td>-0.194257</td>\n",
              "      <td>-0.940989</td>\n",
              "      <td>-0.951772</td>\n",
              "      <td>0.932326</td>\n",
              "      <td>1.129003</td>\n",
              "    </tr>\n",
              "  </tbody>\n",
              "</table>\n",
              "</div>"
            ],
            "text/plain": [
              "   LifeExpectancy  AdultMortality  ...  IncomeComp  Schooling\n",
              "0        0.612831       -0.199625  ...    0.341004   0.317519\n",
              "1        1.097265       -0.593504  ...    0.869828   1.222636\n",
              "2       -1.669395       -1.003460  ...   -3.033855  -1.274238\n",
              "3       -0.173030       -0.062973  ...    0.134282  -0.400332\n",
              "4        1.075735       -0.625658  ...    0.932326   1.129003\n",
              "\n",
              "[5 rows x 17 columns]"
            ]
          },
          "metadata": {
            "tags": []
          },
          "execution_count": 8
        }
      ]
    },
    {
      "cell_type": "code",
      "metadata": {
        "id": "98YfXY6_9NTe",
        "colab_type": "code",
        "outputId": "3fbf960c-a4d0-4ed9-e621-62b425a01687",
        "colab": {
          "base_uri": "https://localhost:8080/",
          "height": 156
        }
      },
      "source": [
        "logreg2 = LogisticRegression()\n",
        "logreg2.fit(X_train, y_train)"
      ],
      "execution_count": 9,
      "outputs": [
        {
          "output_type": "stream",
          "text": [
            "/usr/local/lib/python3.6/dist-packages/sklearn/utils/validation.py:760: DataConversionWarning: A column-vector y was passed when a 1d array was expected. Please change the shape of y to (n_samples, ), for example using ravel().\n",
            "  y = column_or_1d(y, warn=True)\n"
          ],
          "name": "stderr"
        },
        {
          "output_type": "execute_result",
          "data": {
            "text/plain": [
              "LogisticRegression(C=1.0, class_weight=None, dual=False, fit_intercept=True,\n",
              "                   intercept_scaling=1, l1_ratio=None, max_iter=100,\n",
              "                   multi_class='auto', n_jobs=None, penalty='l2',\n",
              "                   random_state=None, solver='lbfgs', tol=0.0001, verbose=0,\n",
              "                   warm_start=False)"
            ]
          },
          "metadata": {
            "tags": []
          },
          "execution_count": 9
        }
      ]
    },
    {
      "cell_type": "code",
      "metadata": {
        "id": "sLNW0EGs9l2J",
        "colab_type": "code",
        "outputId": "c575a417-83ba-4c50-a5b6-804f75fd89a7",
        "colab": {
          "base_uri": "https://localhost:8080/",
          "height": 139
        }
      },
      "source": [
        "from sklearn.feature_selection import RFE\n",
        "model = LogisticRegression(solver='lbfgs')\n",
        "rfe = RFE(model, 3)\n",
        "fit = rfe.fit(X_train, y_train)\n",
        "print(\"Num Features: %d\" % fit.n_features_)\n",
        "print(\"Selected Features: %s\" % fit.support_)\n",
        "print(\"Feature Ranking: %s\" % fit.ranking_)"
      ],
      "execution_count": 10,
      "outputs": [
        {
          "output_type": "stream",
          "text": [
            "/usr/local/lib/python3.6/dist-packages/sklearn/utils/validation.py:760: DataConversionWarning: A column-vector y was passed when a 1d array was expected. Please change the shape of y to (n_samples, ), for example using ravel().\n",
            "  y = column_or_1d(y, warn=True)\n"
          ],
          "name": "stderr"
        },
        {
          "output_type": "stream",
          "text": [
            "Num Features: 3\n",
            "Selected Features: [False False  True  True False False False  True False False False False\n",
            " False False False False False]\n",
            "Feature Ranking: [ 4 11  1  1  9 15 12  1 13 14  3 10  8  7  2  5  6]\n"
          ],
          "name": "stdout"
        }
      ]
    },
    {
      "cell_type": "code",
      "metadata": {
        "id": "oMbVKphT6mR8",
        "colab_type": "code",
        "outputId": "a19bb696-da1b-4183-e0af-9002039dd3e2",
        "colab": {
          "base_uri": "https://localhost:8080/",
          "height": 554
        }
      },
      "source": [
        "# get importance\n",
        "importance = logreg2.coef_[0]\n",
        "# summarize feature importance\n",
        "for i,v in enumerate(importance):\n",
        "\tprint('Feature: %0d, Score: %.5f' % (i,v))\n",
        "# plot feature importance\n",
        "pyplot.bar([x for x in range(len(importance))], importance)\n",
        "pyplot.show()"
      ],
      "execution_count": 11,
      "outputs": [
        {
          "output_type": "stream",
          "text": [
            "Feature: 0, Score: 0.27036\n",
            "Feature: 1, Score: -0.07245\n",
            "Feature: 2, Score: -1.21057\n",
            "Feature: 3, Score: 0.59312\n",
            "Feature: 4, Score: 0.13213\n",
            "Feature: 5, Score: -0.03831\n",
            "Feature: 6, Score: 0.04599\n",
            "Feature: 7, Score: 0.76840\n",
            "Feature: 8, Score: -0.04595\n",
            "Feature: 9, Score: 0.04483\n",
            "Feature: 10, Score: 0.35054\n",
            "Feature: 11, Score: -0.07310\n",
            "Feature: 12, Score: -0.17266\n",
            "Feature: 13, Score: 0.16472\n",
            "Feature: 14, Score: -0.49608\n",
            "Feature: 15, Score: -0.34947\n",
            "Feature: 16, Score: 0.18713\n"
          ],
          "name": "stdout"
        },
        {
          "output_type": "display_data",
          "data": {
            "image/png": "[encoded data removed]",
            "text/plain": [
              "<Figure size 432x288 with 1 Axes>"
            ]
          },
          "metadata": {
            "tags": [],
            "needs_background": "light"
          }
        }
      ]
    },
    {
      "cell_type": "code",
      "metadata": {
        "id": "hzlAcgK9TDfM",
        "colab_type": "code",
        "outputId": "09e96a7e-e8ba-4408-cdf1-7f73ceb82d39",
        "colab": {
          "base_uri": "https://localhost:8080/",
          "height": 297
        }
      },
      "source": [
        "# calculate metrics for the training and test predictions\n",
        "y_pred_train = logreg2.predict(X_train)\n",
        "y_pred_test = logreg2.predict(X_test)\n",
        "RESULTS[\"Scaled\"] = evaluate_model(y_test, y_train, y_pred_test,y_pred_train)\n",
        "\n",
        "# output the predictions\n",
        "pd.DataFrame(RESULTS)"
      ],
      "execution_count": 12,
      "outputs": [
        {
          "output_type": "execute_result",
          "data": {
            "text/html": [
              "<div>\n",
              "<style scoped>\n",
              "    .dataframe tbody tr th:only-of-type {\n",
              "        vertical-align: middle;\n",
              "    }\n",
              "\n",
              "    .dataframe tbody tr th {\n",
              "        vertical-align: top;\n",
              "    }\n",
              "\n",
              "    .dataframe thead th {\n",
              "        text-align: right;\n",
              "    }\n",
              "</style>\n",
              "<table border=\"1\" class=\"dataframe\">\n",
              "  <thead>\n",
              "    <tr style=\"text-align: right;\">\n",
              "      <th></th>\n",
              "      <th>Initial</th>\n",
              "      <th>Scaled</th>\n",
              "    </tr>\n",
              "  </thead>\n",
              "  <tbody>\n",
              "    <tr>\n",
              "      <th>Accuracy_test</th>\n",
              "      <td>0.564103</td>\n",
              "      <td>0.656805</td>\n",
              "    </tr>\n",
              "    <tr>\n",
              "      <th>Accuracy_train</th>\n",
              "      <td>0.571852</td>\n",
              "      <td>0.693827</td>\n",
              "    </tr>\n",
              "    <tr>\n",
              "      <th>AUC_test</th>\n",
              "      <td>0.566462</td>\n",
              "      <td>0.655759</td>\n",
              "    </tr>\n",
              "    <tr>\n",
              "      <th>AUC_train</th>\n",
              "      <td>0.572876</td>\n",
              "      <td>0.693733</td>\n",
              "    </tr>\n",
              "    <tr>\n",
              "      <th>AvgPrecision_test</th>\n",
              "      <td>0.506903</td>\n",
              "      <td>0.574107</td>\n",
              "    </tr>\n",
              "    <tr>\n",
              "      <th>AvgPrecision_train</th>\n",
              "      <td>0.534437</td>\n",
              "      <td>0.628956</td>\n",
              "    </tr>\n",
              "    <tr>\n",
              "      <th>F1_test</th>\n",
              "      <td>0.565815</td>\n",
              "      <td>0.635983</td>\n",
              "    </tr>\n",
              "    <tr>\n",
              "      <th>F1_train</th>\n",
              "      <td>0.599538</td>\n",
              "      <td>0.688755</td>\n",
              "    </tr>\n",
              "  </tbody>\n",
              "</table>\n",
              "</div>"
            ],
            "text/plain": [
              "                     Initial    Scaled\n",
              "Accuracy_test       0.564103  0.656805\n",
              "Accuracy_train      0.571852  0.693827\n",
              "AUC_test            0.566462  0.655759\n",
              "AUC_train           0.572876  0.693733\n",
              "AvgPrecision_test   0.506903  0.574107\n",
              "AvgPrecision_train  0.534437  0.628956\n",
              "F1_test             0.565815  0.635983\n",
              "F1_train            0.599538  0.688755"
            ]
          },
          "metadata": {
            "tags": []
          },
          "execution_count": 12
        }
      ]
    },
    {
      "cell_type": "markdown",
      "metadata": {
        "id": "N8tI46xRxrAD",
        "colab_type": "text"
      },
      "source": [
        "### Model 3 - remove 4 features"
      ]
    },
    {
      "cell_type": "code",
      "metadata": {
        "id": "NeI4pS3bTWdM",
        "colab_type": "code",
        "outputId": "deffc9aa-6aae-4ce6-a85a-7de87323fde6",
        "colab": {
          "base_uri": "https://localhost:8080/",
          "height": 85
        }
      },
      "source": [
        "# Now remove features 5,6,8 and 9 \n",
        "X_train.columns\n"
      ],
      "execution_count": 13,
      "outputs": [
        {
          "output_type": "execute_result",
          "data": {
            "text/plain": [
              "Index(['LifeExpectancy', 'AdultMortality', 'InfantDeaths', 'Alcohol', 'HepB',\n",
              "       'Measles', 'BMI', '5deaths', 'Polio', 'Diphtheria', 'HIV', 'GDP',\n",
              "       'Population', 'ThinJuvenile', 'ThinChild', 'IncomeComp', 'Schooling'],\n",
              "      dtype='object')"
            ]
          },
          "metadata": {
            "tags": []
          },
          "execution_count": 13
        }
      ]
    },
    {
      "cell_type": "code",
      "metadata": {
        "id": "EbguKj5zU5yz",
        "colab_type": "code",
        "colab": {}
      },
      "source": [
        "X_train = X_train.drop(columns=['Measles', 'BMI','Polio', 'Diphtheria'])\n",
        "X_test = X_test.drop(columns=['Measles', 'BMI','Polio', 'Diphtheria'])"
      ],
      "execution_count": 0,
      "outputs": []
    },
    {
      "cell_type": "code",
      "metadata": {
        "id": "xoW-hQnrVNPo",
        "colab_type": "code",
        "outputId": "78e80fed-b5d6-4ee7-93a5-63974aea0fbc",
        "colab": {
          "base_uri": "https://localhost:8080/",
          "height": 351
        }
      },
      "source": [
        "# Fit new model \n",
        "logreg3 = LogisticRegression()\n",
        "logreg3.fit(X_train, y_train)\n",
        "\n",
        "#Make predictions \n",
        "y_pred_train = logreg3.predict(X_train)\n",
        "y_pred_test = logreg3.predict(X_test)\n",
        "\n",
        "# Evaluation metrics\n",
        "RESULTS[\"Scaled_drop4\"] = evaluate_model(y_test, y_train, y_pred_test,y_pred_train)\n",
        "pd.DataFrame(RESULTS)"
      ],
      "execution_count": 15,
      "outputs": [
        {
          "output_type": "stream",
          "text": [
            "/usr/local/lib/python3.6/dist-packages/sklearn/utils/validation.py:760: DataConversionWarning: A column-vector y was passed when a 1d array was expected. Please change the shape of y to (n_samples, ), for example using ravel().\n",
            "  y = column_or_1d(y, warn=True)\n"
          ],
          "name": "stderr"
        },
        {
          "output_type": "execute_result",
          "data": {
            "text/html": [
              "<div>\n",
              "<style scoped>\n",
              "    .dataframe tbody tr th:only-of-type {\n",
              "        vertical-align: middle;\n",
              "    }\n",
              "\n",
              "    .dataframe tbody tr th {\n",
              "        vertical-align: top;\n",
              "    }\n",
              "\n",
              "    .dataframe thead th {\n",
              "        text-align: right;\n",
              "    }\n",
              "</style>\n",
              "<table border=\"1\" class=\"dataframe\">\n",
              "  <thead>\n",
              "    <tr style=\"text-align: right;\">\n",
              "      <th></th>\n",
              "      <th>Initial</th>\n",
              "      <th>Scaled</th>\n",
              "      <th>Scaled_drop4</th>\n",
              "    </tr>\n",
              "  </thead>\n",
              "  <tbody>\n",
              "    <tr>\n",
              "      <th>Accuracy_test</th>\n",
              "      <td>0.564103</td>\n",
              "      <td>0.656805</td>\n",
              "      <td>0.654832</td>\n",
              "    </tr>\n",
              "    <tr>\n",
              "      <th>Accuracy_train</th>\n",
              "      <td>0.571852</td>\n",
              "      <td>0.693827</td>\n",
              "      <td>0.696296</td>\n",
              "    </tr>\n",
              "    <tr>\n",
              "      <th>AUC_test</th>\n",
              "      <td>0.566462</td>\n",
              "      <td>0.655759</td>\n",
              "      <td>0.654384</td>\n",
              "    </tr>\n",
              "    <tr>\n",
              "      <th>AUC_train</th>\n",
              "      <td>0.572876</td>\n",
              "      <td>0.693733</td>\n",
              "      <td>0.696196</td>\n",
              "    </tr>\n",
              "    <tr>\n",
              "      <th>AvgPrecision_test</th>\n",
              "      <td>0.506903</td>\n",
              "      <td>0.574107</td>\n",
              "      <td>0.572403</td>\n",
              "    </tr>\n",
              "    <tr>\n",
              "      <th>AvgPrecision_train</th>\n",
              "      <td>0.534437</td>\n",
              "      <td>0.628956</td>\n",
              "      <td>0.631219</td>\n",
              "    </tr>\n",
              "    <tr>\n",
              "      <th>F1_test</th>\n",
              "      <td>0.565815</td>\n",
              "      <td>0.635983</td>\n",
              "      <td>0.637681</td>\n",
              "    </tr>\n",
              "    <tr>\n",
              "      <th>F1_train</th>\n",
              "      <td>0.599538</td>\n",
              "      <td>0.688755</td>\n",
              "      <td>0.691110</td>\n",
              "    </tr>\n",
              "  </tbody>\n",
              "</table>\n",
              "</div>"
            ],
            "text/plain": [
              "                     Initial    Scaled  Scaled_drop4\n",
              "Accuracy_test       0.564103  0.656805      0.654832\n",
              "Accuracy_train      0.571852  0.693827      0.696296\n",
              "AUC_test            0.566462  0.655759      0.654384\n",
              "AUC_train           0.572876  0.693733      0.696196\n",
              "AvgPrecision_test   0.506903  0.574107      0.572403\n",
              "AvgPrecision_train  0.534437  0.628956      0.631219\n",
              "F1_test             0.565815  0.635983      0.637681\n",
              "F1_train            0.599538  0.688755      0.691110"
            ]
          },
          "metadata": {
            "tags": []
          },
          "execution_count": 15
        }
      ]
    },
    {
      "cell_type": "markdown",
      "metadata": {
        "id": "ITxbamOFxxcw",
        "colab_type": "text"
      },
      "source": [
        "### Model 4 - remove 6 total features"
      ]
    },
    {
      "cell_type": "code",
      "metadata": {
        "id": "wtYEsWmoVNXk",
        "colab_type": "code",
        "colab": {}
      },
      "source": [
        "# Now drop feature 1 and 11\n",
        "X_train = X_train.drop(columns=['AdultMortality', 'GDP'])\n",
        "X_test = X_test.drop(columns=['AdultMortality', 'GDP'])"
      ],
      "execution_count": 0,
      "outputs": []
    },
    {
      "cell_type": "code",
      "metadata": {
        "id": "sALR8vHoX49q",
        "colab_type": "code",
        "outputId": "55ab6a6c-e466-4332-b7ea-d52dfc88dba0",
        "colab": {
          "base_uri": "https://localhost:8080/",
          "height": 351
        }
      },
      "source": [
        "# Fit new model \n",
        "logreg3.fit(X_train, y_train)\n",
        "\n",
        "#Make predictions \n",
        "y_pred_train = logreg3.predict(X_train)\n",
        "y_pred_test = logreg3.predict(X_test)\n",
        "\n",
        "# Evaluation metrics\n",
        "RESULTS[\"Scaled_drop6\"] = evaluate_model(y_test, y_train, y_pred_test,y_pred_train)\n",
        "pd.DataFrame(RESULTS)"
      ],
      "execution_count": 17,
      "outputs": [
        {
          "output_type": "stream",
          "text": [
            "/usr/local/lib/python3.6/dist-packages/sklearn/utils/validation.py:760: DataConversionWarning: A column-vector y was passed when a 1d array was expected. Please change the shape of y to (n_samples, ), for example using ravel().\n",
            "  y = column_or_1d(y, warn=True)\n"
          ],
          "name": "stderr"
        },
        {
          "output_type": "execute_result",
          "data": {
            "text/html": [
              "<div>\n",
              "<style scoped>\n",
              "    .dataframe tbody tr th:only-of-type {\n",
              "        vertical-align: middle;\n",
              "    }\n",
              "\n",
              "    .dataframe tbody tr th {\n",
              "        vertical-align: top;\n",
              "    }\n",
              "\n",
              "    .dataframe thead th {\n",
              "        text-align: right;\n",
              "    }\n",
              "</style>\n",
              "<table border=\"1\" class=\"dataframe\">\n",
              "  <thead>\n",
              "    <tr style=\"text-align: right;\">\n",
              "      <th></th>\n",
              "      <th>Initial</th>\n",
              "      <th>Scaled</th>\n",
              "      <th>Scaled_drop4</th>\n",
              "      <th>Scaled_drop6</th>\n",
              "    </tr>\n",
              "  </thead>\n",
              "  <tbody>\n",
              "    <tr>\n",
              "      <th>Accuracy_test</th>\n",
              "      <td>0.564103</td>\n",
              "      <td>0.656805</td>\n",
              "      <td>0.654832</td>\n",
              "      <td>0.658777</td>\n",
              "    </tr>\n",
              "    <tr>\n",
              "      <th>Accuracy_train</th>\n",
              "      <td>0.571852</td>\n",
              "      <td>0.693827</td>\n",
              "      <td>0.696296</td>\n",
              "      <td>0.700247</td>\n",
              "    </tr>\n",
              "    <tr>\n",
              "      <th>AUC_test</th>\n",
              "      <td>0.566462</td>\n",
              "      <td>0.655759</td>\n",
              "      <td>0.654384</td>\n",
              "      <td>0.657618</td>\n",
              "    </tr>\n",
              "    <tr>\n",
              "      <th>AUC_train</th>\n",
              "      <td>0.572876</td>\n",
              "      <td>0.693733</td>\n",
              "      <td>0.696196</td>\n",
              "      <td>0.700082</td>\n",
              "    </tr>\n",
              "    <tr>\n",
              "      <th>AvgPrecision_test</th>\n",
              "      <td>0.506903</td>\n",
              "      <td>0.574107</td>\n",
              "      <td>0.572403</td>\n",
              "      <td>0.575799</td>\n",
              "    </tr>\n",
              "    <tr>\n",
              "      <th>AvgPrecision_train</th>\n",
              "      <td>0.534437</td>\n",
              "      <td>0.628956</td>\n",
              "      <td>0.631219</td>\n",
              "      <td>0.635175</td>\n",
              "    </tr>\n",
              "    <tr>\n",
              "      <th>F1_test</th>\n",
              "      <td>0.565815</td>\n",
              "      <td>0.635983</td>\n",
              "      <td>0.637681</td>\n",
              "      <td>0.637317</td>\n",
              "    </tr>\n",
              "    <tr>\n",
              "      <th>F1_train</th>\n",
              "      <td>0.599538</td>\n",
              "      <td>0.688755</td>\n",
              "      <td>0.691110</td>\n",
              "      <td>0.693589</td>\n",
              "    </tr>\n",
              "  </tbody>\n",
              "</table>\n",
              "</div>"
            ],
            "text/plain": [
              "                     Initial    Scaled  Scaled_drop4  Scaled_drop6\n",
              "Accuracy_test       0.564103  0.656805      0.654832      0.658777\n",
              "Accuracy_train      0.571852  0.693827      0.696296      0.700247\n",
              "AUC_test            0.566462  0.655759      0.654384      0.657618\n",
              "AUC_train           0.572876  0.693733      0.696196      0.700082\n",
              "AvgPrecision_test   0.506903  0.574107      0.572403      0.575799\n",
              "AvgPrecision_train  0.534437  0.628956      0.631219      0.635175\n",
              "F1_test             0.565815  0.635983      0.637681      0.637317\n",
              "F1_train            0.599538  0.688755      0.691110      0.693589"
            ]
          },
          "metadata": {
            "tags": []
          },
          "execution_count": 17
        }
      ]
    },
    {
      "cell_type": "markdown",
      "metadata": {
        "id": "3RUEQW_RWJ9Z",
        "colab_type": "text"
      },
      "source": [
        "## **Parameter Tuning with Grid Search**\n",
        "### Model 5 - Penalty and Inverse of Regularization Strength\n"
      ]
    },
    {
      "cell_type": "code",
      "metadata": {
        "id": "-Pwa18bFcLVS",
        "colab_type": "code",
        "colab": {}
      },
      "source": [
        "from sklearn.model_selection import GridSearchCV \n",
        "\n",
        "# Set paramters to be tuned\n",
        "param_grid = { \n",
        "    'penalty': ['l1','elasticnet','l2', 'none'], \n",
        "    'C': [0.01,0.1,0.5,1,2,5,10]\n",
        "}"
      ],
      "execution_count": 0,
      "outputs": []
    },
    {
      "cell_type": "code",
      "metadata": {
        "id": "JI-0cWlJr2yE",
        "colab_type": "code",
        "colab": {}
      },
      "source": [
        "grid = GridSearchCV(estimator = logreg, param_grid=param_grid, \n",
        "                          cv = 5, verbose = 51, n_jobs=-1)\n",
        "\n",
        "logreg = LogisticRegression()"
      ],
      "execution_count": 0,
      "outputs": []
    },
    {
      "cell_type": "code",
      "metadata": {
        "id": "_kLcXSufr8t5",
        "colab_type": "code",
        "colab": {
          "base_uri": "https://localhost:8080/",
          "height": 768
        },
        "outputId": "099377b8-229c-4504-8b0d-0699d23e0230"
      },
      "source": [
        "import time \n",
        "\n",
        "t_start = time.time()\n",
        "grid.fit(X_train, y_train)\n",
        "t_end = time.time()"
      ],
      "execution_count": 63,
      "outputs": [
        {
          "output_type": "stream",
          "text": [
            "Fitting 5 folds for each of 28 candidates, totalling 140 fits\n",
            "[Parallel(n_jobs=-1)]: Using backend LokyBackend with 2 concurrent workers.\n",
            "[Parallel(n_jobs=-1)]: Done   1 tasks      | elapsed:    0.0s\n",
            "[Parallel(n_jobs=-1)]: Batch computation too fast (0.0139s.) Setting batch_size=2.\n",
            "[Parallel(n_jobs=-1)]: Done   2 tasks      | elapsed:    0.0s\n",
            "[Parallel(n_jobs=-1)]: Done   3 tasks      | elapsed:    0.0s\n",
            "[Parallel(n_jobs=-1)]: Done   4 tasks      | elapsed:    0.0s\n",
            "[Parallel(n_jobs=-1)]: Done   6 tasks      | elapsed:    0.0s\n",
            "[Parallel(n_jobs=-1)]: Batch computation too fast (0.0233s.) Setting batch_size=4.\n",
            "[Parallel(n_jobs=-1)]: Done   8 tasks      | elapsed:    0.1s\n",
            "[Parallel(n_jobs=-1)]: Done  10 tasks      | elapsed:    0.1s\n",
            "[Parallel(n_jobs=-1)]: Done  12 tasks      | elapsed:    0.1s\n",
            "[Parallel(n_jobs=-1)]: Done  16 tasks      | elapsed:    0.2s\n",
            "[Parallel(n_jobs=-1)]: Batch computation too fast (0.1128s.) Setting batch_size=8.\n",
            "[Parallel(n_jobs=-1)]: Done  20 tasks      | elapsed:    0.2s\n",
            "[Parallel(n_jobs=-1)]: Done  24 tasks      | elapsed:    0.2s\n",
            "[Parallel(n_jobs=-1)]: Done  28 tasks      | elapsed:    0.2s\n",
            "[Parallel(n_jobs=-1)]: Done  36 tasks      | elapsed:    0.4s\n",
            "[Parallel(n_jobs=-1)]: Batch computation too fast (0.1777s.) Setting batch_size=16.\n",
            "[Parallel(n_jobs=-1)]: Done  44 tasks      | elapsed:    0.4s\n",
            "[Parallel(n_jobs=-1)]: Done  52 tasks      | elapsed:    0.5s\n",
            "[Parallel(n_jobs=-1)]: Done  60 tasks      | elapsed:    0.6s\n",
            "[Parallel(n_jobs=-1)]: Done  76 tasks      | elapsed:    0.7s\n",
            "[Parallel(n_jobs=-1)]: Done  92 tasks      | elapsed:    0.9s\n",
            "[Parallel(n_jobs=-1)]: Done 108 tasks      | elapsed:    1.0s\n",
            "[Parallel(n_jobs=-1)]: Done 109 tasks      | elapsed:    1.0s\n",
            "[Parallel(n_jobs=-1)]: Done 110 tasks      | elapsed:    1.0s\n",
            "[Parallel(n_jobs=-1)]: Done 111 tasks      | elapsed:    1.0s\n",
            "[Parallel(n_jobs=-1)]: Done 112 tasks      | elapsed:    1.0s\n",
            "[Parallel(n_jobs=-1)]: Done 113 tasks      | elapsed:    1.0s\n",
            "[Parallel(n_jobs=-1)]: Done 114 tasks      | elapsed:    1.1s\n",
            "[Parallel(n_jobs=-1)]: Done 115 tasks      | elapsed:    1.1s\n",
            "[Parallel(n_jobs=-1)]: Done 116 tasks      | elapsed:    1.1s\n",
            "[Parallel(n_jobs=-1)]: Done 117 tasks      | elapsed:    1.2s\n",
            "[Parallel(n_jobs=-1)]: Done 118 tasks      | elapsed:    1.2s\n",
            "[Parallel(n_jobs=-1)]: Done 119 tasks      | elapsed:    1.2s\n",
            "[Parallel(n_jobs=-1)]: Done 135 tasks      | elapsed:    1.3s\n",
            "[Parallel(n_jobs=-1)]: Done 136 tasks      | elapsed:    1.3s\n",
            "[Parallel(n_jobs=-1)]: Done 137 tasks      | elapsed:    1.3s\n",
            "[Parallel(n_jobs=-1)]: Done 140 out of 140 | elapsed:    1.3s remaining:    0.0s\n",
            "[Parallel(n_jobs=-1)]: Done 140 out of 140 | elapsed:    1.3s finished\n"
          ],
          "name": "stdout"
        },
        {
          "output_type": "stream",
          "text": [
            "/usr/local/lib/python3.6/dist-packages/sklearn/utils/validation.py:760: DataConversionWarning: A column-vector y was passed when a 1d array was expected. Please change the shape of y to (n_samples, ), for example using ravel().\n",
            "  y = column_or_1d(y, warn=True)\n"
          ],
          "name": "stderr"
        }
      ]
    },
    {
      "cell_type": "code",
      "metadata": {
        "id": "tT55T-qisCUM",
        "colab_type": "code",
        "colab": {
          "base_uri": "https://localhost:8080/",
          "height": 102
        },
        "outputId": "cb495681-d252-4b31-feff-3c32e58fdf5e"
      },
      "source": [
        "best = grid.best_estimator_\n",
        "best"
      ],
      "execution_count": 64,
      "outputs": [
        {
          "output_type": "execute_result",
          "data": {
            "text/plain": [
              "LogisticRegression(C=0.1, class_weight=None, dual=False, fit_intercept=True,\n",
              "                   intercept_scaling=1, l1_ratio=None, max_iter=100,\n",
              "                   multi_class='auto', n_jobs=None, penalty='l2',\n",
              "                   random_state=None, solver='lbfgs', tol=0.0001, verbose=0,\n",
              "                   warm_start=False)"
            ]
          },
          "metadata": {
            "tags": []
          },
          "execution_count": 64
        }
      ]
    },
    {
      "cell_type": "code",
      "metadata": {
        "id": "pfYXB__5u4oJ",
        "colab_type": "code",
        "colab": {
          "base_uri": "https://localhost:8080/",
          "height": 351
        },
        "outputId": "fbb587f0-9522-49b5-a585-227a547dc7bf"
      },
      "source": [
        "# Fit new model \n",
        "best.fit(X_train, y_train)\n",
        "\n",
        "#Make predictions \n",
        "y_pred_train = best.predict(X_train)\n",
        "y_pred_test = best.predict(X_test)\n",
        "\n",
        "# Evaluation metrics\n",
        "RESULTS[\"Scaled_tuned\"] = evaluate_model(y_test, y_train, y_pred_test,y_pred_train)\n",
        "pd.DataFrame(RESULTS)\n"
      ],
      "execution_count": 65,
      "outputs": [
        {
          "output_type": "stream",
          "text": [
            "/usr/local/lib/python3.6/dist-packages/sklearn/utils/validation.py:760: DataConversionWarning: A column-vector y was passed when a 1d array was expected. Please change the shape of y to (n_samples, ), for example using ravel().\n",
            "  y = column_or_1d(y, warn=True)\n"
          ],
          "name": "stderr"
        },
        {
          "output_type": "execute_result",
          "data": {
            "text/html": [
              "<div>\n",
              "<style scoped>\n",
              "    .dataframe tbody tr th:only-of-type {\n",
              "        vertical-align: middle;\n",
              "    }\n",
              "\n",
              "    .dataframe tbody tr th {\n",
              "        vertical-align: top;\n",
              "    }\n",
              "\n",
              "    .dataframe thead th {\n",
              "        text-align: right;\n",
              "    }\n",
              "</style>\n",
              "<table border=\"1\" class=\"dataframe\">\n",
              "  <thead>\n",
              "    <tr style=\"text-align: right;\">\n",
              "      <th></th>\n",
              "      <th>Initial</th>\n",
              "      <th>Scaled</th>\n",
              "      <th>Scaled_drop4</th>\n",
              "      <th>Scaled_drop6</th>\n",
              "      <th>Scaled_tuned</th>\n",
              "      <th>Scaled_tuned2</th>\n",
              "    </tr>\n",
              "  </thead>\n",
              "  <tbody>\n",
              "    <tr>\n",
              "      <th>Accuracy_test</th>\n",
              "      <td>0.564103</td>\n",
              "      <td>0.656805</td>\n",
              "      <td>0.654832</td>\n",
              "      <td>0.658777</td>\n",
              "      <td>0.660750</td>\n",
              "      <td>0.658777</td>\n",
              "    </tr>\n",
              "    <tr>\n",
              "      <th>Accuracy_train</th>\n",
              "      <td>0.571852</td>\n",
              "      <td>0.693827</td>\n",
              "      <td>0.696296</td>\n",
              "      <td>0.700247</td>\n",
              "      <td>0.702716</td>\n",
              "      <td>0.701235</td>\n",
              "    </tr>\n",
              "    <tr>\n",
              "      <th>AUC_test</th>\n",
              "      <td>0.566462</td>\n",
              "      <td>0.655759</td>\n",
              "      <td>0.654384</td>\n",
              "      <td>0.657618</td>\n",
              "      <td>0.659234</td>\n",
              "      <td>0.657376</td>\n",
              "    </tr>\n",
              "    <tr>\n",
              "      <th>AUC_train</th>\n",
              "      <td>0.572876</td>\n",
              "      <td>0.693733</td>\n",
              "      <td>0.696196</td>\n",
              "      <td>0.700082</td>\n",
              "      <td>0.702584</td>\n",
              "      <td>0.701122</td>\n",
              "    </tr>\n",
              "    <tr>\n",
              "      <th>AvgPrecision_test</th>\n",
              "      <td>0.506903</td>\n",
              "      <td>0.574107</td>\n",
              "      <td>0.572403</td>\n",
              "      <td>0.575799</td>\n",
              "      <td>0.577541</td>\n",
              "      <td>0.575828</td>\n",
              "    </tr>\n",
              "    <tr>\n",
              "      <th>AvgPrecision_train</th>\n",
              "      <td>0.534437</td>\n",
              "      <td>0.628956</td>\n",
              "      <td>0.631219</td>\n",
              "      <td>0.635175</td>\n",
              "      <td>0.637262</td>\n",
              "      <td>0.635790</td>\n",
              "    </tr>\n",
              "    <tr>\n",
              "      <th>F1_test</th>\n",
              "      <td>0.565815</td>\n",
              "      <td>0.635983</td>\n",
              "      <td>0.637681</td>\n",
              "      <td>0.637317</td>\n",
              "      <td>0.637131</td>\n",
              "      <td>0.635789</td>\n",
              "    </tr>\n",
              "    <tr>\n",
              "      <th>F1_train</th>\n",
              "      <td>0.599538</td>\n",
              "      <td>0.688755</td>\n",
              "      <td>0.691110</td>\n",
              "      <td>0.693589</td>\n",
              "      <td>0.696878</td>\n",
              "      <td>0.695827</td>\n",
              "    </tr>\n",
              "  </tbody>\n",
              "</table>\n",
              "</div>"
            ],
            "text/plain": [
              "                     Initial    Scaled  ...  Scaled_tuned  Scaled_tuned2\n",
              "Accuracy_test       0.564103  0.656805  ...      0.660750       0.658777\n",
              "Accuracy_train      0.571852  0.693827  ...      0.702716       0.701235\n",
              "AUC_test            0.566462  0.655759  ...      0.659234       0.657376\n",
              "AUC_train           0.572876  0.693733  ...      0.702584       0.701122\n",
              "AvgPrecision_test   0.506903  0.574107  ...      0.577541       0.575828\n",
              "AvgPrecision_train  0.534437  0.628956  ...      0.637262       0.635790\n",
              "F1_test             0.565815  0.635983  ...      0.637131       0.635789\n",
              "F1_train            0.599538  0.688755  ...      0.696878       0.695827\n",
              "\n",
              "[8 rows x 6 columns]"
            ]
          },
          "metadata": {
            "tags": []
          },
          "execution_count": 65
        }
      ]
    },
    {
      "cell_type": "markdown",
      "metadata": {
        "id": "w8qAep5117e1",
        "colab_type": "text"
      },
      "source": [
        "### Model 6 - Tune Inverse of Regularization Strength and Solver for l2 Penalty"
      ]
    },
    {
      "cell_type": "code",
      "metadata": {
        "id": "pNTVfENH1_x8",
        "colab_type": "code",
        "colab": {}
      },
      "source": [
        "from sklearn.model_selection import GridSearchCV \n",
        "\n",
        "# Set paramters to be tuned\n",
        "param_grid2 = { \n",
        "    'C': [0.01,0.05,0.1,0.25,0.5,1],\n",
        "    'solver': ['newton-cg', 'lbfgs', 'liblinear', 'sag', 'saga'],\n",
        "}"
      ],
      "execution_count": 0,
      "outputs": []
    },
    {
      "cell_type": "code",
      "metadata": {
        "id": "3XyKBfsf29vt",
        "colab_type": "code",
        "colab": {}
      },
      "source": [
        "grid2 = GridSearchCV(estimator = logreg, param_grid=param_grid2, \n",
        "                          cv = 5, verbose = 51, n_jobs=-1)\n",
        "\n",
        "logreg = LogisticRegression(penalty='l2')"
      ],
      "execution_count": 0,
      "outputs": []
    },
    {
      "cell_type": "code",
      "metadata": {
        "id": "eRzF0YRy3BP2",
        "colab_type": "code",
        "colab": {
          "base_uri": "https://localhost:8080/",
          "height": 989
        },
        "outputId": "53db0590-7ba0-495f-a438-2a6f6b2d4888"
      },
      "source": [
        "import time \n",
        "\n",
        "t_start = time.time()\n",
        "grid2.fit(X_train, y_train)\n",
        "t_end = time.time()"
      ],
      "execution_count": 58,
      "outputs": [
        {
          "output_type": "stream",
          "text": [
            "Fitting 5 folds for each of 30 candidates, totalling 150 fits\n",
            "[Parallel(n_jobs=-1)]: Using backend LokyBackend with 2 concurrent workers.\n",
            "[Parallel(n_jobs=-1)]: Done   1 tasks      | elapsed:    1.2s\n",
            "[Parallel(n_jobs=-1)]: Done   2 tasks      | elapsed:    1.2s\n",
            "[Parallel(n_jobs=-1)]: Done   3 tasks      | elapsed:    1.3s\n",
            "[Parallel(n_jobs=-1)]: Done   4 tasks      | elapsed:    1.3s\n",
            "[Parallel(n_jobs=-1)]: Done   5 tasks      | elapsed:    1.3s\n",
            "[Parallel(n_jobs=-1)]: Done   6 tasks      | elapsed:    1.3s\n",
            "[Parallel(n_jobs=-1)]: Done   7 tasks      | elapsed:    1.3s\n",
            "[Parallel(n_jobs=-1)]: Done   8 tasks      | elapsed:    1.4s\n",
            "[Parallel(n_jobs=-1)]: Done   9 tasks      | elapsed:    1.4s\n",
            "[Parallel(n_jobs=-1)]: Done  10 tasks      | elapsed:    1.4s\n",
            "[Parallel(n_jobs=-1)]: Done  11 tasks      | elapsed:    1.4s\n",
            "[Parallel(n_jobs=-1)]: Done  12 tasks      | elapsed:    1.4s\n",
            "[Parallel(n_jobs=-1)]: Done  13 tasks      | elapsed:    1.4s\n",
            "[Parallel(n_jobs=-1)]: Done  14 tasks      | elapsed:    1.4s\n",
            "[Parallel(n_jobs=-1)]: Batch computation too fast (0.1736s.) Setting batch_size=2.\n",
            "[Parallel(n_jobs=-1)]: Done  15 tasks      | elapsed:    1.4s\n",
            "[Parallel(n_jobs=-1)]: Done  16 tasks      | elapsed:    1.5s\n",
            "[Parallel(n_jobs=-1)]: Done  17 tasks      | elapsed:    1.5s\n",
            "[Parallel(n_jobs=-1)]: Done  18 tasks      | elapsed:    1.5s\n",
            "[Parallel(n_jobs=-1)]: Done  20 tasks      | elapsed:    1.5s\n",
            "[Parallel(n_jobs=-1)]: Batch computation too fast (0.0596s.) Setting batch_size=4.\n",
            "[Parallel(n_jobs=-1)]: Done  22 tasks      | elapsed:    1.5s\n",
            "[Parallel(n_jobs=-1)]: Done  24 tasks      | elapsed:    1.6s\n",
            "[Parallel(n_jobs=-1)]: Done  26 tasks      | elapsed:    1.6s\n",
            "[Parallel(n_jobs=-1)]: Done  30 tasks      | elapsed:    1.7s\n",
            "[Parallel(n_jobs=-1)]: Batch computation too fast (0.1468s.) Setting batch_size=8.\n",
            "[Parallel(n_jobs=-1)]: Done  34 tasks      | elapsed:    1.7s\n",
            "[Parallel(n_jobs=-1)]: Done  38 tasks      | elapsed:    1.7s\n",
            "[Parallel(n_jobs=-1)]: Done  42 tasks      | elapsed:    1.8s\n",
            "[Parallel(n_jobs=-1)]: Done  50 tasks      | elapsed:    2.0s\n",
            "[Parallel(n_jobs=-1)]: Done  58 tasks      | elapsed:    2.1s\n",
            "[Parallel(n_jobs=-1)]: Done  66 tasks      | elapsed:    2.2s\n",
            "[Parallel(n_jobs=-1)]: Done  74 tasks      | elapsed:    2.4s\n",
            "[Parallel(n_jobs=-1)]: Done  82 tasks      | elapsed:    2.5s\n",
            "[Parallel(n_jobs=-1)]: Done  90 tasks      | elapsed:    2.6s\n",
            "[Parallel(n_jobs=-1)]: Done  98 tasks      | elapsed:    2.9s\n",
            "[Parallel(n_jobs=-1)]: Done 106 tasks      | elapsed:    3.0s\n",
            "[Parallel(n_jobs=-1)]: Done 114 tasks      | elapsed:    3.1s\n",
            "[Parallel(n_jobs=-1)]: Done 122 tasks      | elapsed:    3.4s\n",
            "[Parallel(n_jobs=-1)]: Done 130 tasks      | elapsed:    3.5s\n",
            "[Parallel(n_jobs=-1)]: Done 131 tasks      | elapsed:    3.5s\n",
            "[Parallel(n_jobs=-1)]: Done 132 tasks      | elapsed:    3.5s\n",
            "[Parallel(n_jobs=-1)]: Done 133 tasks      | elapsed:    3.6s\n",
            "[Parallel(n_jobs=-1)]: Done 141 tasks      | elapsed:    3.6s\n",
            "[Parallel(n_jobs=-1)]: Done 142 tasks      | elapsed:    3.6s\n",
            "[Parallel(n_jobs=-1)]: Done 143 tasks      | elapsed:    3.6s\n",
            "[Parallel(n_jobs=-1)]: Done 144 tasks      | elapsed:    3.7s\n",
            "[Parallel(n_jobs=-1)]: Done 145 tasks      | elapsed:    3.7s\n",
            "[Parallel(n_jobs=-1)]: Done 146 tasks      | elapsed:    3.7s\n",
            "[Parallel(n_jobs=-1)]: Done 147 tasks      | elapsed:    3.8s\n",
            "[Parallel(n_jobs=-1)]: Done 150 out of 150 | elapsed:    3.9s remaining:    0.0s\n",
            "[Parallel(n_jobs=-1)]: Done 150 out of 150 | elapsed:    3.9s finished\n"
          ],
          "name": "stdout"
        },
        {
          "output_type": "stream",
          "text": [
            "/usr/local/lib/python3.6/dist-packages/sklearn/utils/validation.py:760: DataConversionWarning: A column-vector y was passed when a 1d array was expected. Please change the shape of y to (n_samples, ), for example using ravel().\n",
            "  y = column_or_1d(y, warn=True)\n"
          ],
          "name": "stderr"
        }
      ]
    },
    {
      "cell_type": "code",
      "metadata": {
        "id": "2a46p3U53Ln4",
        "colab_type": "code",
        "colab": {
          "base_uri": "https://localhost:8080/",
          "height": 102
        },
        "outputId": "4fdac92c-74c2-4950-91cb-719b8202c811"
      },
      "source": [
        "best2 = grid2.best_estimator_\n",
        "best2"
      ],
      "execution_count": 59,
      "outputs": [
        {
          "output_type": "execute_result",
          "data": {
            "text/plain": [
              "LogisticRegression(C=0.05, class_weight=None, dual=False, fit_intercept=True,\n",
              "                   intercept_scaling=1, l1_ratio=None, max_iter=100,\n",
              "                   multi_class='auto', n_jobs=None, penalty='l2',\n",
              "                   random_state=None, solver='newton-cg', tol=0.0001, verbose=0,\n",
              "                   warm_start=False)"
            ]
          },
          "metadata": {
            "tags": []
          },
          "execution_count": 59
        }
      ]
    },
    {
      "cell_type": "code",
      "metadata": {
        "id": "GFDPjS1f3Tbp",
        "colab_type": "code",
        "colab": {
          "base_uri": "https://localhost:8080/",
          "height": 351
        },
        "outputId": "83ed0c65-df55-4213-fed3-fc764ecf4f86"
      },
      "source": [
        "# Fit new model \n",
        "best2.fit(X_train, y_train)\n",
        "\n",
        "#Make predictions \n",
        "y_pred_train = best2.predict(X_train)\n",
        "y_pred_test = best2.predict(X_test)\n",
        "\n",
        "# Evaluation metrics\n",
        "RESULTS[\"Scaled_tuned2\"] = evaluate_model(y_test, y_train, y_pred_test,y_pred_train)\n",
        "pd.DataFrame(RESULTS)"
      ],
      "execution_count": 60,
      "outputs": [
        {
          "output_type": "stream",
          "text": [
            "/usr/local/lib/python3.6/dist-packages/sklearn/utils/validation.py:760: DataConversionWarning: A column-vector y was passed when a 1d array was expected. Please change the shape of y to (n_samples, ), for example using ravel().\n",
            "  y = column_or_1d(y, warn=True)\n"
          ],
          "name": "stderr"
        },
        {
          "output_type": "execute_result",
          "data": {
            "text/html": [
              "<div>\n",
              "<style scoped>\n",
              "    .dataframe tbody tr th:only-of-type {\n",
              "        vertical-align: middle;\n",
              "    }\n",
              "\n",
              "    .dataframe tbody tr th {\n",
              "        vertical-align: top;\n",
              "    }\n",
              "\n",
              "    .dataframe thead th {\n",
              "        text-align: right;\n",
              "    }\n",
              "</style>\n",
              "<table border=\"1\" class=\"dataframe\">\n",
              "  <thead>\n",
              "    <tr style=\"text-align: right;\">\n",
              "      <th></th>\n",
              "      <th>Initial</th>\n",
              "      <th>Scaled</th>\n",
              "      <th>Scaled_drop4</th>\n",
              "      <th>Scaled_drop6</th>\n",
              "      <th>Scaled_tuned</th>\n",
              "      <th>Scaled_tuned2</th>\n",
              "    </tr>\n",
              "  </thead>\n",
              "  <tbody>\n",
              "    <tr>\n",
              "      <th>Accuracy_test</th>\n",
              "      <td>0.564103</td>\n",
              "      <td>0.656805</td>\n",
              "      <td>0.654832</td>\n",
              "      <td>0.658777</td>\n",
              "      <td>0.660750</td>\n",
              "      <td>0.658777</td>\n",
              "    </tr>\n",
              "    <tr>\n",
              "      <th>Accuracy_train</th>\n",
              "      <td>0.571852</td>\n",
              "      <td>0.693827</td>\n",
              "      <td>0.696296</td>\n",
              "      <td>0.700247</td>\n",
              "      <td>0.702716</td>\n",
              "      <td>0.701235</td>\n",
              "    </tr>\n",
              "    <tr>\n",
              "      <th>AUC_test</th>\n",
              "      <td>0.566462</td>\n",
              "      <td>0.655759</td>\n",
              "      <td>0.654384</td>\n",
              "      <td>0.657618</td>\n",
              "      <td>0.659234</td>\n",
              "      <td>0.657376</td>\n",
              "    </tr>\n",
              "    <tr>\n",
              "      <th>AUC_train</th>\n",
              "      <td>0.572876</td>\n",
              "      <td>0.693733</td>\n",
              "      <td>0.696196</td>\n",
              "      <td>0.700082</td>\n",
              "      <td>0.702584</td>\n",
              "      <td>0.701122</td>\n",
              "    </tr>\n",
              "    <tr>\n",
              "      <th>AvgPrecision_test</th>\n",
              "      <td>0.506903</td>\n",
              "      <td>0.574107</td>\n",
              "      <td>0.572403</td>\n",
              "      <td>0.575799</td>\n",
              "      <td>0.577541</td>\n",
              "      <td>0.575828</td>\n",
              "    </tr>\n",
              "    <tr>\n",
              "      <th>AvgPrecision_train</th>\n",
              "      <td>0.534437</td>\n",
              "      <td>0.628956</td>\n",
              "      <td>0.631219</td>\n",
              "      <td>0.635175</td>\n",
              "      <td>0.637262</td>\n",
              "      <td>0.635790</td>\n",
              "    </tr>\n",
              "    <tr>\n",
              "      <th>F1_test</th>\n",
              "      <td>0.565815</td>\n",
              "      <td>0.635983</td>\n",
              "      <td>0.637681</td>\n",
              "      <td>0.637317</td>\n",
              "      <td>0.637131</td>\n",
              "      <td>0.635789</td>\n",
              "    </tr>\n",
              "    <tr>\n",
              "      <th>F1_train</th>\n",
              "      <td>0.599538</td>\n",
              "      <td>0.688755</td>\n",
              "      <td>0.691110</td>\n",
              "      <td>0.693589</td>\n",
              "      <td>0.696878</td>\n",
              "      <td>0.695827</td>\n",
              "    </tr>\n",
              "  </tbody>\n",
              "</table>\n",
              "</div>"
            ],
            "text/plain": [
              "                     Initial    Scaled  ...  Scaled_tuned  Scaled_tuned2\n",
              "Accuracy_test       0.564103  0.656805  ...      0.660750       0.658777\n",
              "Accuracy_train      0.571852  0.693827  ...      0.702716       0.701235\n",
              "AUC_test            0.566462  0.655759  ...      0.659234       0.657376\n",
              "AUC_train           0.572876  0.693733  ...      0.702584       0.701122\n",
              "AvgPrecision_test   0.506903  0.574107  ...      0.577541       0.575828\n",
              "AvgPrecision_train  0.534437  0.628956  ...      0.637262       0.635790\n",
              "F1_test             0.565815  0.635983  ...      0.637131       0.635789\n",
              "F1_train            0.599538  0.688755  ...      0.696878       0.695827\n",
              "\n",
              "[8 rows x 6 columns]"
            ]
          },
          "metadata": {
            "tags": []
          },
          "execution_count": 60
        }
      ]
    },
    {
      "cell_type": "code",
      "metadata": {
        "id": "dydzK3bHAQcV",
        "colab_type": "code",
        "colab": {
          "base_uri": "https://localhost:8080/",
          "height": 374
        },
        "outputId": "56cfc1b9-e842-46fa-c5fe-97fcf03ac08d"
      },
      "source": [
        "# plot curve\n",
        "logit_roc_auc = roc_auc_score(y_test, best2.predict(X_test))\n",
        "fpr, tpr, thresholds = roc_curve(y_test, best2.predict_proba(X_test)[:,1])\n",
        "plt.figure()\n",
        "plt.plot(fpr, tpr, label='Logistic Regression (area = %0.2f)' % logit_roc_auc)\n",
        "plt.plot([0, 1], [0, 1],'r--')\n",
        "plt.xlim([0.0, 1.0])\n",
        "plt.ylim([0.0, 1.05])\n",
        "plt.xlabel('False Positive Rate')\n",
        "plt.ylabel('True Positive Rate')\n",
        "plt.title('Receiver Operating Characteristic - Best Logistic')\n",
        "plt.legend(loc=\"lower right\")\n",
        "plt.savefig('Log_ROC')\n",
        "plt.show()"
      ],
      "execution_count": 92,
      "outputs": [
        {
          "output_type": "error",
          "ename": "ValueError",
          "evalue": "ignored",
          "traceback": [
            "\u001b[0;31m---------------------------------------------------------------------------\u001b[0m",
            "\u001b[0;31mValueError\u001b[0m                                Traceback (most recent call last)",
            "\u001b[0;32m<ipython-input-92-36d62cf37b3f>\u001b[0m in \u001b[0;36m<module>\u001b[0;34m()\u001b[0m\n\u001b[1;32m      1\u001b[0m \u001b[0;31m# plot curve\u001b[0m\u001b[0;34m\u001b[0m\u001b[0;34m\u001b[0m\u001b[0;34m\u001b[0m\u001b[0m\n\u001b[0;32m----> 2\u001b[0;31m \u001b[0mlogit_roc_auc\u001b[0m \u001b[0;34m=\u001b[0m \u001b[0mroc_auc_score\u001b[0m\u001b[0;34m(\u001b[0m\u001b[0my_test\u001b[0m\u001b[0;34m,\u001b[0m \u001b[0mbest2\u001b[0m\u001b[0;34m.\u001b[0m\u001b[0mpredict\u001b[0m\u001b[0;34m(\u001b[0m\u001b[0mX_test\u001b[0m\u001b[0;34m)\u001b[0m\u001b[0;34m)\u001b[0m\u001b[0;34m\u001b[0m\u001b[0;34m\u001b[0m\u001b[0m\n\u001b[0m\u001b[1;32m      3\u001b[0m \u001b[0mfpr\u001b[0m\u001b[0;34m,\u001b[0m \u001b[0mtpr\u001b[0m\u001b[0;34m,\u001b[0m \u001b[0mthresholds\u001b[0m \u001b[0;34m=\u001b[0m \u001b[0mroc_curve\u001b[0m\u001b[0;34m(\u001b[0m\u001b[0my_test\u001b[0m\u001b[0;34m,\u001b[0m \u001b[0mbest2\u001b[0m\u001b[0;34m.\u001b[0m\u001b[0mpredict_proba\u001b[0m\u001b[0;34m(\u001b[0m\u001b[0mX_test\u001b[0m\u001b[0;34m)\u001b[0m\u001b[0;34m[\u001b[0m\u001b[0;34m:\u001b[0m\u001b[0;34m,\u001b[0m\u001b[0;36m1\u001b[0m\u001b[0;34m]\u001b[0m\u001b[0;34m)\u001b[0m\u001b[0;34m\u001b[0m\u001b[0;34m\u001b[0m\u001b[0m\n\u001b[1;32m      4\u001b[0m \u001b[0mplt\u001b[0m\u001b[0;34m.\u001b[0m\u001b[0mfigure\u001b[0m\u001b[0;34m(\u001b[0m\u001b[0;34m)\u001b[0m\u001b[0;34m\u001b[0m\u001b[0;34m\u001b[0m\u001b[0m\n\u001b[1;32m      5\u001b[0m \u001b[0mplt\u001b[0m\u001b[0;34m.\u001b[0m\u001b[0mplot\u001b[0m\u001b[0;34m(\u001b[0m\u001b[0mfpr\u001b[0m\u001b[0;34m,\u001b[0m \u001b[0mtpr\u001b[0m\u001b[0;34m,\u001b[0m \u001b[0mlabel\u001b[0m\u001b[0;34m=\u001b[0m\u001b[0;34m'Logistic Regression (area = %0.2f)'\u001b[0m \u001b[0;34m%\u001b[0m \u001b[0mlogit_roc_auc\u001b[0m\u001b[0;34m)\u001b[0m\u001b[0;34m\u001b[0m\u001b[0;34m\u001b[0m\u001b[0m\n",
            "\u001b[0;32m/usr/local/lib/python3.6/dist-packages/sklearn/linear_model/_base.py\u001b[0m in \u001b[0;36mpredict\u001b[0;34m(self, X)\u001b[0m\n\u001b[1;32m    291\u001b[0m             \u001b[0mPredicted\u001b[0m \u001b[0;32mclass\u001b[0m \u001b[0mlabel\u001b[0m \u001b[0mper\u001b[0m \u001b[0msample\u001b[0m\u001b[0;34m.\u001b[0m\u001b[0;34m\u001b[0m\u001b[0;34m\u001b[0m\u001b[0m\n\u001b[1;32m    292\u001b[0m         \"\"\"\n\u001b[0;32m--> 293\u001b[0;31m         \u001b[0mscores\u001b[0m \u001b[0;34m=\u001b[0m \u001b[0mself\u001b[0m\u001b[0;34m.\u001b[0m\u001b[0mdecision_function\u001b[0m\u001b[0;34m(\u001b[0m\u001b[0mX\u001b[0m\u001b[0;34m)\u001b[0m\u001b[0;34m\u001b[0m\u001b[0;34m\u001b[0m\u001b[0m\n\u001b[0m\u001b[1;32m    294\u001b[0m         \u001b[0;32mif\u001b[0m \u001b[0mlen\u001b[0m\u001b[0;34m(\u001b[0m\u001b[0mscores\u001b[0m\u001b[0;34m.\u001b[0m\u001b[0mshape\u001b[0m\u001b[0;34m)\u001b[0m \u001b[0;34m==\u001b[0m \u001b[0;36m1\u001b[0m\u001b[0;34m:\u001b[0m\u001b[0;34m\u001b[0m\u001b[0;34m\u001b[0m\u001b[0m\n\u001b[1;32m    295\u001b[0m             \u001b[0mindices\u001b[0m \u001b[0;34m=\u001b[0m \u001b[0;34m(\u001b[0m\u001b[0mscores\u001b[0m \u001b[0;34m>\u001b[0m \u001b[0;36m0\u001b[0m\u001b[0;34m)\u001b[0m\u001b[0;34m.\u001b[0m\u001b[0mastype\u001b[0m\u001b[0;34m(\u001b[0m\u001b[0mnp\u001b[0m\u001b[0;34m.\u001b[0m\u001b[0mint\u001b[0m\u001b[0;34m)\u001b[0m\u001b[0;34m\u001b[0m\u001b[0;34m\u001b[0m\u001b[0m\n",
            "\u001b[0;32m/usr/local/lib/python3.6/dist-packages/sklearn/linear_model/_base.py\u001b[0m in \u001b[0;36mdecision_function\u001b[0;34m(self, X)\u001b[0m\n\u001b[1;32m    271\u001b[0m         \u001b[0;32mif\u001b[0m \u001b[0mX\u001b[0m\u001b[0;34m.\u001b[0m\u001b[0mshape\u001b[0m\u001b[0;34m[\u001b[0m\u001b[0;36m1\u001b[0m\u001b[0;34m]\u001b[0m \u001b[0;34m!=\u001b[0m \u001b[0mn_features\u001b[0m\u001b[0;34m:\u001b[0m\u001b[0;34m\u001b[0m\u001b[0;34m\u001b[0m\u001b[0m\n\u001b[1;32m    272\u001b[0m             raise ValueError(\"X has %d features per sample; expecting %d\"\n\u001b[0;32m--> 273\u001b[0;31m                              % (X.shape[1], n_features))\n\u001b[0m\u001b[1;32m    274\u001b[0m \u001b[0;34m\u001b[0m\u001b[0m\n\u001b[1;32m    275\u001b[0m         scores = safe_sparse_dot(X, self.coef_.T,\n",
            "\u001b[0;31mValueError\u001b[0m: X has 17 features per sample; expecting 11"
          ]
        }
      ]
    },
    {
      "cell_type": "code",
      "metadata": {
        "id": "HSANOGOMIoOk",
        "colab_type": "code",
        "colab": {
          "base_uri": "https://localhost:8080/",
          "height": 295
        },
        "outputId": "a3a6dc4a-8d72-470a-9ae9-184c245bf5bb"
      },
      "source": [
        "from sklearn.metrics import plot_confusion_matrix\n",
        "\n",
        "plot_confusion_matrix(best2, X_test, y_test, values_format='d', cmap='Reds')\n",
        "plt.title(\"Confusion Matrix - Best Logistic Regression\")\n",
        "plt.show()"
      ],
      "execution_count": 83,
      "outputs": [
        {
          "output_type": "display_data",
          "data": {
            "image/png": "[encoded data removed]",
            "text/plain": [
              "<Figure size 432x288 with 2 Axes>"
            ]
          },
          "metadata": {
            "tags": [],
            "needs_background": "light"
          }
        }
      ]
    }
  ]
}
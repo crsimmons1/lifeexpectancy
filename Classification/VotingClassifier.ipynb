{
  "nbformat": 4,
  "nbformat_minor": 0,
  "metadata": {
    "colab": {
      "name": "VotingClassifier.ipynb",
      "provenance": []
    },
    "kernelspec": {
      "name": "python3",
      "display_name": "Python 3"
    }
  },
  "cells": [
    {
      "cell_type": "markdown",
      "metadata": {
        "id": "Z_NM658sxJrD",
        "colab_type": "text"
      },
      "source": [
        "# **Regression**\n",
        "\n",
        "## Data"
      ]
    },
    {
      "cell_type": "code",
      "metadata": {
        "id": "WojFhUaMxFc0",
        "colab_type": "code",
        "colab": {}
      },
      "source": [
        "# Import Packages\n",
        "import pandas as pd\n",
        "\n",
        "# Import unscaled, preprocessed data \n",
        "train = pd.read_csv(\"train.csv\")\n",
        "test = pd.read_csv(\"test.csv\")\n",
        "\n",
        "# Create a categorical response variable from Total Expenditure (1 is high, 0 is low)\n",
        "def classifyexp(exp):\n",
        "    if ((exp >= 0) and (exp <=5.8)):\n",
        "        return 0\n",
        "    elif ((exp > 5.8) and (exp <= 15)):\n",
        "        return 1\n",
        "\n",
        "test['TExp'] = test['TExpenditure'].apply(classifyexp)\n",
        "train['TExp'] = train['TExpenditure'].apply(classifyexp)\n",
        "\n",
        "# Split into test and training data\n",
        "X_train, y_train = train.drop(columns=['TExpenditure', 'Year', 'TExp', 'Status']), pd.DataFrame(train.TExp)\n",
        "X_test, y_test = test.drop(columns=['TExpenditure', 'Year', 'TExp', 'Status']), pd.DataFrame(test.TExp)\n"
      ],
      "execution_count": 0,
      "outputs": []
    },
    {
      "cell_type": "markdown",
      "metadata": {
        "id": "RrhPoXeDxjux",
        "colab_type": "text"
      },
      "source": [
        "## Voting Classifier"
      ]
    },
    {
      "cell_type": "code",
      "metadata": {
        "id": "1dbxpdHqxVbj",
        "colab_type": "code",
        "colab": {
          "base_uri": "https://localhost:8080/",
          "height": 105
        },
        "outputId": "45eba318-d803-46ba-ab55-1e6e63c1a6c1"
      },
      "source": [
        "from sklearn.tree import DecisionTreeClassifier\n",
        "from sklearn.neighbors import KNeighborsClassifier\n",
        "from sklearn.svm import SVC\n",
        "from sklearn.ensemble import VotingClassifier\n",
        "\n",
        "# Training classifiers\n",
        "clf1 = DecisionTreeClassifier(max_depth=4)\n",
        "clf2 = KNeighborsClassifier(n_neighbors=9)\n",
        "clf3 = SVC(C=0.01, gamma=0.001, kernel='poly', probability=True)\n",
        "eclf = VotingClassifier(estimators=[('dt', clf1), ('knn', clf2),\n",
        "                                    ('svc', clf3)],\n",
        "                        voting='soft', weights=[2, 1, 2])\n",
        "\n",
        "# Fit each classifier\n",
        "clf1.fit(X_train, y_train)\n",
        "clf2.fit(X_train, y_train)\n",
        "clf3.fit(X_train, y_train)\n",
        "eclf.fit(X_train, y_train)"
      ],
      "execution_count": 0,
      "outputs": [
        {
          "output_type": "stream",
          "text": [
            "/usr/local/lib/python3.6/dist-packages/ipykernel_launcher.py:16: DataConversionWarning: A column-vector y was passed when a 1d array was expected. Please change the shape of y to (n_samples, ), for example using ravel().\n",
            "  app.launch_new_instance()\n",
            "/usr/local/lib/python3.6/dist-packages/sklearn/utils/validation.py:760: DataConversionWarning: A column-vector y was passed when a 1d array was expected. Please change the shape of y to (n_samples, ), for example using ravel().\n",
            "  y = column_or_1d(y, warn=True)\n"
          ],
          "name": "stderr"
        }
      ]
    },
    {
      "cell_type": "code",
      "metadata": {
        "id": "y1d7GVXfyHw_",
        "colab_type": "code",
        "colab": {}
      },
      "source": [
        "# Plotting decision regions\n",
        "x_min, x_max = X_train[:, 0].min() - 1, X_train[:, 0].max() + 1\n",
        "y_min, y_max = X_train[:, 1].min() - 1, X_train[:, 1].max() + 1\n",
        "xx, yy = np.meshgrid(np.arange(x_min, x_max, 0.1),\n",
        "                     np.arange(y_min, y_max, 0.1))\n",
        "\n",
        "f, axarr = plt.subplots(2, 2, sharex='col', sharey='row', figsize=(10, 8))\n",
        "\n",
        "for idx, clf, titles in zip(product([0, 1], [0, 1]),\n",
        "                        [clf1, clf2, clf3, eclf],\n",
        "                        ['Decision Tree (depth=4)', 'KNN (k=9)',\n",
        "                         'Poly Kernel SVM', 'Soft Voting']):\n",
        "\n",
        "    Z = clf.predict(np.c_[xx.ravel(), yy.ravel()])\n",
        "    Z = Z.reshape(xx.shape)\n",
        "\n",
        "    axarr[idx[0], idx[1]].contourf(xx, yy, Z, alpha=0.4)\n",
        "    axarr[idx[0], idx[1]].scatter(X_train[:, 0], X_train[:, 1], c=y,\n",
        "                                  s=20, edgecolor='k')\n",
        "    axarr[idx[0], idx[1]].set_title(titles)\n",
        "\n",
        "plt.show()"
      ],
      "execution_count": 0,
      "outputs": []
    },
    {
      "cell_type": "code",
      "metadata": {
        "id": "V5h7ovixHy_e",
        "colab_type": "code",
        "colab": {}
      },
      "source": [
        ""
      ],
      "execution_count": 0,
      "outputs": []
    }
  ]
}

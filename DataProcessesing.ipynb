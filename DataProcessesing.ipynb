{
  "nbformat": 4,
  "nbformat_minor": 0,
  "metadata": {
    "colab": {
      "name": "DataProcessesing.ipynb",
      "provenance": [],
      "authorship_tag": "ABX9TyOwrc3P1oXiwIn+phCVegSX",
      "include_colab_link": true
    },
    "kernelspec": {
      "name": "python3",
      "display_name": "Python 3"
    }
  },
  "cells": [
    {
      "cell_type": "markdown",
      "metadata": {
        "id": "view-in-github",
        "colab_type": "text"
      },
      "source": [
        "<a href=\"https://colab.research.google.com/github/crsimmons1/lifeexpectancy/blob/master/DataProcessesing.ipynb\" target=\"_parent\"><img src=\"https://colab.research.google.com/assets/colab-badge.svg\" alt=\"Open In Colab\"/></a>"
      ]
    },
    {
      "cell_type": "markdown",
      "metadata": {
        "id": "3ThrCBpi4dAa",
        "colab_type": "text"
      },
      "source": [
        "# Data Cleaning\n",
        "\n",
        "## Overview\n",
        "The main dataset can be found [here](https://www.kaggle.com/kumarajarshi/life-expectancy-who) on Kaggle. Please see this git [repository](https://github.com/crsimmons1/lifeexpectancy) for more information on the models this was used for. \n",
        "\n",
        "Columns were renamed as shown in bold in the data dictionary for ease of use. No duplicate rows were found. Then, the cardinality and missing values were assessed. Any of the rows with missing values in either target variable were removed. There were 7 variables with more than 5% missing values, so any row with more than 3 missing values was removed so that only 3 variables had many missing values (Population, GDP, and Hepatitis B). \n",
        "\n",
        "### Data Dictionary \n",
        "The variables in the dataset are:\n",
        "* **Country**\n",
        "* **Year**\n",
        "* **Status** Developed or Developing status\n",
        "* **LifeExpectancy** in age\n",
        "* **AdultMortality** Adult Mortality Rates of both sexes (probability of dying between 15 and 60 years per 1000 population)\n",
        "* **InfantDeaths** Number of Infant Deaths per 1,000 population\n",
        "* **Alcohol**, recorded per capita (15+) consumption (in litres of pure alcohol)\n",
        "* **Expenditure** on health as a percentage of Gross Domestic Product per capita(%)\n",
        "* Hepatitis B (**HepB**) immunization coverage among 1-year-olds (%)\n",
        "* **Measles** - number of reported cases per 1000 population\n",
        "* **BMI** Average Body Mass Index of entire population\n",
        "* **5deaths** Number of under-five deaths per 1000 population\n",
        "* **Polio** (Pol3) immunization coverage among 1-year-olds (%)\n",
        "* **TExpentidure** - Total Expenditure - General government expenditure on health as a percentage of total government expenditure (%)\n",
        "* **Diphtheria** tetanus toxoid and pertussis (DTP3) immunization coverage among 1-year-olds (%)\n",
        "* **HIV** Deaths per 1,000 live births HIV/AIDS (0-4 years)\n",
        "* **GDP** Gross Domestic Product per capita (in USD)\n",
        "* **Population** of the country\n",
        "* **ThinJuvenile** Prevalence of thinness among children and adolescents for Age 10 to 19 (% )\n",
        "* **ThinChild** Prevalence of thinness among children for Age 5 to 9(%)\n",
        "* **IncomeComp** Human Development Index in terms of income composition of resources (index ranging from 0 to 1)\n",
        "* **Schooling** Number of years of Schooling(years)\n",
        "\n",
        "### Import Data"
      ]
    },
    {
      "cell_type": "code",
      "metadata": {
        "id": "AkK3ioD-4fXF",
        "colab_type": "code",
        "colab": {}
      },
      "source": [
        "import pandas as pd\n",
        "import numpy as np\n",
        "\n",
        "# Main data set\n",
        "df = pd.read_csv(\"LifeExpectancyData.csv\")"
      ],
      "execution_count": 0,
      "outputs": []
    },
    {
      "cell_type": "code",
      "metadata": {
        "id": "-uznLU5L40Gw",
        "colab_type": "code",
        "outputId": "641eaf6c-ccd9-4a87-e3d2-5c06b67655b9",
        "colab": {
          "base_uri": "https://localhost:8080/",
          "height": 275
        }
      },
      "source": [
        "df.head(5)"
      ],
      "execution_count": 285,
      "outputs": [
        {
          "output_type": "execute_result",
          "data": {
            "text/html": [
              "<div>\n",
              "<style scoped>\n",
              "    .dataframe tbody tr th:only-of-type {\n",
              "        vertical-align: middle;\n",
              "    }\n",
              "\n",
              "    .dataframe tbody tr th {\n",
              "        vertical-align: top;\n",
              "    }\n",
              "\n",
              "    .dataframe thead th {\n",
              "        text-align: right;\n",
              "    }\n",
              "</style>\n",
              "<table border=\"1\" class=\"dataframe\">\n",
              "  <thead>\n",
              "    <tr style=\"text-align: right;\">\n",
              "      <th></th>\n",
              "      <th>Country</th>\n",
              "      <th>Year</th>\n",
              "      <th>Status</th>\n",
              "      <th>Life expectancy</th>\n",
              "      <th>Adult Mortality</th>\n",
              "      <th>infant deaths</th>\n",
              "      <th>Alcohol</th>\n",
              "      <th>percentage expenditure</th>\n",
              "      <th>Hepatitis B</th>\n",
              "      <th>Measles</th>\n",
              "      <th>BMI</th>\n",
              "      <th>under-five deaths</th>\n",
              "      <th>Polio</th>\n",
              "      <th>Total expenditure</th>\n",
              "      <th>Diphtheria</th>\n",
              "      <th>HIV/AIDS</th>\n",
              "      <th>GDP</th>\n",
              "      <th>Population</th>\n",
              "      <th>thinness  1-19 years</th>\n",
              "      <th>thinness 5-9 years</th>\n",
              "      <th>Income composition of resources</th>\n",
              "      <th>Schooling</th>\n",
              "    </tr>\n",
              "  </thead>\n",
              "  <tbody>\n",
              "    <tr>\n",
              "      <th>0</th>\n",
              "      <td>Afghanistan</td>\n",
              "      <td>2015</td>\n",
              "      <td>Developing</td>\n",
              "      <td>65.0</td>\n",
              "      <td>263.0</td>\n",
              "      <td>62</td>\n",
              "      <td>0.01</td>\n",
              "      <td>71.279624</td>\n",
              "      <td>65.0</td>\n",
              "      <td>1154</td>\n",
              "      <td>19.1</td>\n",
              "      <td>83</td>\n",
              "      <td>6.0</td>\n",
              "      <td>8.16</td>\n",
              "      <td>65.0</td>\n",
              "      <td>0.1</td>\n",
              "      <td>584.259210</td>\n",
              "      <td>33736494.0</td>\n",
              "      <td>17.2</td>\n",
              "      <td>17.3</td>\n",
              "      <td>0.479</td>\n",
              "      <td>10.1</td>\n",
              "    </tr>\n",
              "    <tr>\n",
              "      <th>1</th>\n",
              "      <td>Afghanistan</td>\n",
              "      <td>2014</td>\n",
              "      <td>Developing</td>\n",
              "      <td>59.9</td>\n",
              "      <td>271.0</td>\n",
              "      <td>64</td>\n",
              "      <td>0.01</td>\n",
              "      <td>73.523582</td>\n",
              "      <td>62.0</td>\n",
              "      <td>492</td>\n",
              "      <td>18.6</td>\n",
              "      <td>86</td>\n",
              "      <td>58.0</td>\n",
              "      <td>8.18</td>\n",
              "      <td>62.0</td>\n",
              "      <td>0.1</td>\n",
              "      <td>612.696514</td>\n",
              "      <td>327582.0</td>\n",
              "      <td>17.5</td>\n",
              "      <td>17.5</td>\n",
              "      <td>0.476</td>\n",
              "      <td>10.0</td>\n",
              "    </tr>\n",
              "    <tr>\n",
              "      <th>2</th>\n",
              "      <td>Afghanistan</td>\n",
              "      <td>2013</td>\n",
              "      <td>Developing</td>\n",
              "      <td>59.9</td>\n",
              "      <td>268.0</td>\n",
              "      <td>66</td>\n",
              "      <td>0.01</td>\n",
              "      <td>73.219243</td>\n",
              "      <td>64.0</td>\n",
              "      <td>430</td>\n",
              "      <td>18.1</td>\n",
              "      <td>89</td>\n",
              "      <td>62.0</td>\n",
              "      <td>8.13</td>\n",
              "      <td>64.0</td>\n",
              "      <td>0.1</td>\n",
              "      <td>631.744976</td>\n",
              "      <td>31731688.0</td>\n",
              "      <td>17.7</td>\n",
              "      <td>17.7</td>\n",
              "      <td>0.470</td>\n",
              "      <td>9.9</td>\n",
              "    </tr>\n",
              "    <tr>\n",
              "      <th>3</th>\n",
              "      <td>Afghanistan</td>\n",
              "      <td>2012</td>\n",
              "      <td>Developing</td>\n",
              "      <td>59.5</td>\n",
              "      <td>272.0</td>\n",
              "      <td>69</td>\n",
              "      <td>0.01</td>\n",
              "      <td>78.184215</td>\n",
              "      <td>67.0</td>\n",
              "      <td>2787</td>\n",
              "      <td>17.6</td>\n",
              "      <td>93</td>\n",
              "      <td>67.0</td>\n",
              "      <td>8.52</td>\n",
              "      <td>67.0</td>\n",
              "      <td>0.1</td>\n",
              "      <td>669.959000</td>\n",
              "      <td>3696958.0</td>\n",
              "      <td>17.9</td>\n",
              "      <td>18.0</td>\n",
              "      <td>0.463</td>\n",
              "      <td>9.8</td>\n",
              "    </tr>\n",
              "    <tr>\n",
              "      <th>4</th>\n",
              "      <td>Afghanistan</td>\n",
              "      <td>2011</td>\n",
              "      <td>Developing</td>\n",
              "      <td>59.2</td>\n",
              "      <td>275.0</td>\n",
              "      <td>71</td>\n",
              "      <td>0.01</td>\n",
              "      <td>7.097109</td>\n",
              "      <td>68.0</td>\n",
              "      <td>3013</td>\n",
              "      <td>17.2</td>\n",
              "      <td>97</td>\n",
              "      <td>68.0</td>\n",
              "      <td>7.87</td>\n",
              "      <td>68.0</td>\n",
              "      <td>0.1</td>\n",
              "      <td>63.537231</td>\n",
              "      <td>2978599.0</td>\n",
              "      <td>18.2</td>\n",
              "      <td>18.2</td>\n",
              "      <td>0.454</td>\n",
              "      <td>9.5</td>\n",
              "    </tr>\n",
              "  </tbody>\n",
              "</table>\n",
              "</div>"
            ],
            "text/plain": [
              "       Country  Year  ... Income composition of resources  Schooling\n",
              "0  Afghanistan  2015  ...                           0.479       10.1\n",
              "1  Afghanistan  2014  ...                           0.476       10.0\n",
              "2  Afghanistan  2013  ...                           0.470        9.9\n",
              "3  Afghanistan  2012  ...                           0.463        9.8\n",
              "4  Afghanistan  2011  ...                           0.454        9.5\n",
              "\n",
              "[5 rows x 22 columns]"
            ]
          },
          "metadata": {
            "tags": []
          },
          "execution_count": 285
        }
      ]
    },
    {
      "cell_type": "code",
      "metadata": {
        "id": "xPrFoyrwAdue",
        "colab_type": "code",
        "outputId": "8ad07acd-901c-41d2-e83c-96920f7572a4",
        "colab": {
          "base_uri": "https://localhost:8080/",
          "height": 34
        }
      },
      "source": [
        "df.shape"
      ],
      "execution_count": 286,
      "outputs": [
        {
          "output_type": "execute_result",
          "data": {
            "text/plain": [
              "(2938, 22)"
            ]
          },
          "metadata": {
            "tags": []
          },
          "execution_count": 286
        }
      ]
    },
    {
      "cell_type": "markdown",
      "metadata": {
        "id": "hFrLy9XI58zo",
        "colab_type": "text"
      },
      "source": [
        "## Data Cleaning\n",
        "### The Basics: Missing/Duplicated Values, Cardinality, Summary Statistics"
      ]
    },
    {
      "cell_type": "code",
      "metadata": {
        "id": "tii4lBHe6vHS",
        "colab_type": "code",
        "outputId": "5157422e-722c-431d-ead4-66d6f5f1e68d",
        "colab": {
          "base_uri": "https://localhost:8080/",
          "height": 136
        }
      },
      "source": [
        "df.columns"
      ],
      "execution_count": 287,
      "outputs": [
        {
          "output_type": "execute_result",
          "data": {
            "text/plain": [
              "Index(['Country', 'Year', 'Status', 'Life expectancy ', 'Adult Mortality',\n",
              "       'infant deaths', 'Alcohol', 'percentage expenditure', 'Hepatitis B',\n",
              "       'Measles ', ' BMI ', 'under-five deaths ', 'Polio', 'Total expenditure',\n",
              "       'Diphtheria ', ' HIV/AIDS', 'GDP', 'Population',\n",
              "       ' thinness  1-19 years', ' thinness 5-9 years',\n",
              "       'Income composition of resources', 'Schooling'],\n",
              "      dtype='object')"
            ]
          },
          "metadata": {
            "tags": []
          },
          "execution_count": 287
        }
      ]
    },
    {
      "cell_type": "code",
      "metadata": {
        "id": "Ov6OpP5-6vKX",
        "colab_type": "code",
        "colab": {}
      },
      "source": [
        "#Rename Columns\n",
        "df = df.rename(columns={'Life expectancy ': \"LifeExpectancy\", \"Adult Mortality\": \"AdultMortality\", \"infant deaths\": \"InfantDeaths\", \"percentage expenditure\": \"Expenditure\",\n",
        "                          \"Hepatitis B\": \"HepB\", \"Measles \": \"Measles\" , \" BMI \": \"BMI\", \"under-five deaths \": \"5deaths\",\n",
        "                         \"Total expenditure\": \"TExpenditure\", \"Diphtheria \": \"Diphtheria\", \" HIV/AIDS\":\"HIV\", \" thinness  1-19 years\":\"ThinJuvenile\",\n",
        "                         \" thinness 5-9 years\":\"ThinChild\", \"Income composition of resources\":\"IncomeComp\"})"
      ],
      "execution_count": 0,
      "outputs": []
    },
    {
      "cell_type": "code",
      "metadata": {
        "id": "I-Yu8oQi42WS",
        "colab_type": "code",
        "outputId": "78f72447-a391-4a11-ce2d-054155e1fc61",
        "colab": {
          "base_uri": "https://localhost:8080/",
          "height": 34
        }
      },
      "source": [
        "#Check for duplicates\n",
        "df[df.duplicated()].shape"
      ],
      "execution_count": 289,
      "outputs": [
        {
          "output_type": "execute_result",
          "data": {
            "text/plain": [
              "(0, 22)"
            ]
          },
          "metadata": {
            "tags": []
          },
          "execution_count": 289
        }
      ]
    },
    {
      "cell_type": "code",
      "metadata": {
        "id": "Nzzt4RfR6A8e",
        "colab_type": "code",
        "outputId": "8e28b7db-a0bc-4e29-edd7-1871434e7c41",
        "colab": {
          "base_uri": "https://localhost:8080/",
          "height": 51
        }
      },
      "source": [
        "#Check Cardinality \n",
        "def cardinality_categorical(df):\n",
        "    n_records = len(df)\n",
        "    for column in df.select_dtypes([object]):\n",
        "        print(\"{} | uniques/records: {:.3f} | Minimum observations: {:.3f}\".format(\n",
        "            column, \n",
        "            len(df[column].unique())/n_records,\n",
        "            df[column].value_counts().min()\n",
        "        ))        \n",
        "\n",
        "cardinality_categorical(df)"
      ],
      "execution_count": 290,
      "outputs": [
        {
          "output_type": "stream",
          "text": [
            "Country | uniques/records: 0.066 | Minimum observations: 1.000\n",
            "Status | uniques/records: 0.001 | Minimum observations: 512.000\n"
          ],
          "name": "stdout"
        }
      ]
    },
    {
      "cell_type": "code",
      "metadata": {
        "id": "BKbbqgsW6GBm",
        "colab_type": "code",
        "outputId": "edd21700-3b3c-41c6-d5fe-2ad337bc031a",
        "colab": {
          "base_uri": "https://localhost:8080/",
          "height": 391
        }
      },
      "source": [
        "n_records = len(df)\n",
        "def missing_values_df(df):\n",
        "    for column in df:\n",
        "        print(\"{} | {} | {}\".format(\n",
        "            column, len(df[df[column].isnull()]) / (1.0*n_records), df[column].dtype\n",
        "        ))\n",
        "\n",
        "missing_values_df(df)"
      ],
      "execution_count": 291,
      "outputs": [
        {
          "output_type": "stream",
          "text": [
            "Country | 0.0 | object\n",
            "Year | 0.0 | int64\n",
            "Status | 0.0 | object\n",
            "LifeExpectancy | 0.0034036759700476512 | float64\n",
            "AdultMortality | 0.0034036759700476512 | float64\n",
            "InfantDeaths | 0.0 | int64\n",
            "Alcohol | 0.06603131381892444 | float64\n",
            "Expenditure | 0.0 | float64\n",
            "HepB | 0.18822328114363512 | float64\n",
            "Measles | 0.0 | int64\n",
            "BMI | 0.011572498298162015 | float64\n",
            "5deaths | 0.0 | int64\n",
            "Polio | 0.006466984343090538 | float64\n",
            "TExpenditure | 0.07692307692307693 | float64\n",
            "Diphtheria | 0.006466984343090538 | float64\n",
            "HIV | 0.0 | float64\n",
            "GDP | 0.1524846834581348 | float64\n",
            "Population | 0.22191967324710687 | float64\n",
            "ThinJuvenile | 0.011572498298162015 | float64\n",
            "ThinChild | 0.011572498298162015 | float64\n",
            "IncomeComp | 0.056841388699795777 | float64\n",
            "Schooling | 0.05547991831177672 | float64\n"
          ],
          "name": "stdout"
        }
      ]
    },
    {
      "cell_type": "markdown",
      "metadata": {
        "id": "tCJw0GCdpbmg",
        "colab_type": "text"
      },
      "source": [
        "### Deal with Missing Values\n",
        "\n",
        "Any of the rows with missing values in either target variable were removed. Here the most problematic columns are those with more than 5% missing values. This includes \n",
        "* Alcohol, recorded per capita (15+) consumption (in litres of pure alcohol)\n",
        "* Hepatitis B (HepB) immunization coverage among 1-year-olds (%)\n",
        "* Total Expenditure - General government expenditure on health as a percentage of total government expenditure (%)\n",
        "* Gross Domestic Product per capita (in USD)\n",
        "* Population of the country\n",
        "* Human Development Index in terms of income composition of resources (index ranging from 0 to 1)\n",
        "* Number of years of Schooling(years)"
      ]
    },
    {
      "cell_type": "code",
      "metadata": {
        "id": "LJo-N5tZRsrb",
        "colab_type": "code",
        "colab": {}
      },
      "source": [
        "data = df.dropna(subset=['LifeExpectancy', 'TExpenditure'])"
      ],
      "execution_count": 0,
      "outputs": []
    },
    {
      "cell_type": "code",
      "metadata": {
        "id": "TSfNK_4D_BXj",
        "colab_type": "code",
        "colab": {
          "base_uri": "https://localhost:8080/",
          "height": 119
        },
        "outputId": "1e0150cf-6f76-4691-a78f-8f0b12234bed"
      },
      "source": [
        "# Create a column that counts the number of NaN values in each row \n",
        "data['NAcount'] = 23 - data.apply(lambda x: x.count(), axis=1)"
      ],
      "execution_count": 293,
      "outputs": [
        {
          "output_type": "stream",
          "text": [
            "/usr/local/lib/python3.6/dist-packages/ipykernel_launcher.py:2: SettingWithCopyWarning: \n",
            "A value is trying to be set on a copy of a slice from a DataFrame.\n",
            "Try using .loc[row_indexer,col_indexer] = value instead\n",
            "\n",
            "See the caveats in the documentation: https://pandas.pydata.org/pandas-docs/stable/user_guide/indexing.html#returning-a-view-versus-a-copy\n",
            "  \n"
          ],
          "name": "stderr"
        }
      ]
    },
    {
      "cell_type": "code",
      "metadata": {
        "id": "yklO_bQ5BaDs",
        "colab_type": "code",
        "outputId": "2e33f072-c497-49c0-e618-2a5c002640b9",
        "colab": {
          "base_uri": "https://localhost:8080/",
          "height": 317
        }
      },
      "source": [
        "data.describe()"
      ],
      "execution_count": 294,
      "outputs": [
        {
          "output_type": "execute_result",
          "data": {
            "text/html": [
              "<div>\n",
              "<style scoped>\n",
              "    .dataframe tbody tr th:only-of-type {\n",
              "        vertical-align: middle;\n",
              "    }\n",
              "\n",
              "    .dataframe tbody tr th {\n",
              "        vertical-align: top;\n",
              "    }\n",
              "\n",
              "    .dataframe thead th {\n",
              "        text-align: right;\n",
              "    }\n",
              "</style>\n",
              "<table border=\"1\" class=\"dataframe\">\n",
              "  <thead>\n",
              "    <tr style=\"text-align: right;\">\n",
              "      <th></th>\n",
              "      <th>Year</th>\n",
              "      <th>LifeExpectancy</th>\n",
              "      <th>AdultMortality</th>\n",
              "      <th>InfantDeaths</th>\n",
              "      <th>Alcohol</th>\n",
              "      <th>Expenditure</th>\n",
              "      <th>HepB</th>\n",
              "      <th>Measles</th>\n",
              "      <th>BMI</th>\n",
              "      <th>5deaths</th>\n",
              "      <th>Polio</th>\n",
              "      <th>TExpenditure</th>\n",
              "      <th>Diphtheria</th>\n",
              "      <th>HIV</th>\n",
              "      <th>GDP</th>\n",
              "      <th>Population</th>\n",
              "      <th>ThinJuvenile</th>\n",
              "      <th>ThinChild</th>\n",
              "      <th>IncomeComp</th>\n",
              "      <th>Schooling</th>\n",
              "      <th>NAcount</th>\n",
              "    </tr>\n",
              "  </thead>\n",
              "  <tbody>\n",
              "    <tr>\n",
              "      <th>count</th>\n",
              "      <td>2702.000000</td>\n",
              "      <td>2702.000000</td>\n",
              "      <td>2702.000000</td>\n",
              "      <td>2702.000000</td>\n",
              "      <td>2698.000000</td>\n",
              "      <td>2702.000000</td>\n",
              "      <td>2186.000000</td>\n",
              "      <td>2702.000000</td>\n",
              "      <td>2684.000000</td>\n",
              "      <td>2702.000000</td>\n",
              "      <td>2694.000000</td>\n",
              "      <td>2702.000000</td>\n",
              "      <td>2694.000000</td>\n",
              "      <td>2702.000000</td>\n",
              "      <td>2327.000000</td>\n",
              "      <td>2.129000e+03</td>\n",
              "      <td>2684.000000</td>\n",
              "      <td>2684.000000</td>\n",
              "      <td>2582.000000</td>\n",
              "      <td>2582.000000</td>\n",
              "      <td>2702.000000</td>\n",
              "    </tr>\n",
              "    <tr>\n",
              "      <th>mean</th>\n",
              "      <td>2007.019245</td>\n",
              "      <td>69.225241</td>\n",
              "      <td>164.035159</td>\n",
              "      <td>30.868986</td>\n",
              "      <td>4.651164</td>\n",
              "      <td>802.242942</td>\n",
              "      <td>80.861391</td>\n",
              "      <td>2496.242043</td>\n",
              "      <td>38.135730</td>\n",
              "      <td>42.837528</td>\n",
              "      <td>82.730141</td>\n",
              "      <td>5.930163</td>\n",
              "      <td>82.502598</td>\n",
              "      <td>1.827276</td>\n",
              "      <td>7527.272406</td>\n",
              "      <td>1.291468e+07</td>\n",
              "      <td>4.857116</td>\n",
              "      <td>4.888897</td>\n",
              "      <td>0.625876</td>\n",
              "      <td>11.995198</td>\n",
              "      <td>1.658031</td>\n",
              "    </tr>\n",
              "    <tr>\n",
              "      <th>std</th>\n",
              "      <td>4.325133</td>\n",
              "      <td>9.529783</td>\n",
              "      <td>125.449152</td>\n",
              "      <td>120.993881</td>\n",
              "      <td>4.055951</td>\n",
              "      <td>2060.527185</td>\n",
              "      <td>25.112242</td>\n",
              "      <td>11768.607783</td>\n",
              "      <td>19.883644</td>\n",
              "      <td>164.872326</td>\n",
              "      <td>23.085424</td>\n",
              "      <td>2.483273</td>\n",
              "      <td>23.509528</td>\n",
              "      <td>5.270613</td>\n",
              "      <td>14447.907332</td>\n",
              "      <td>6.277521e+07</td>\n",
              "      <td>4.469598</td>\n",
              "      <td>4.560112</td>\n",
              "      <td>0.210223</td>\n",
              "      <td>3.277329</td>\n",
              "      <td>1.070285</td>\n",
              "    </tr>\n",
              "    <tr>\n",
              "      <th>min</th>\n",
              "      <td>2000.000000</td>\n",
              "      <td>36.300000</td>\n",
              "      <td>1.000000</td>\n",
              "      <td>0.000000</td>\n",
              "      <td>0.010000</td>\n",
              "      <td>0.000000</td>\n",
              "      <td>1.000000</td>\n",
              "      <td>0.000000</td>\n",
              "      <td>1.000000</td>\n",
              "      <td>0.000000</td>\n",
              "      <td>3.000000</td>\n",
              "      <td>0.370000</td>\n",
              "      <td>2.000000</td>\n",
              "      <td>0.100000</td>\n",
              "      <td>1.681350</td>\n",
              "      <td>3.400000e+01</td>\n",
              "      <td>0.100000</td>\n",
              "      <td>0.100000</td>\n",
              "      <td>0.000000</td>\n",
              "      <td>0.000000</td>\n",
              "      <td>1.000000</td>\n",
              "    </tr>\n",
              "    <tr>\n",
              "      <th>25%</th>\n",
              "      <td>2003.000000</td>\n",
              "      <td>63.200000</td>\n",
              "      <td>73.000000</td>\n",
              "      <td>0.000000</td>\n",
              "      <td>0.952500</td>\n",
              "      <td>11.908341</td>\n",
              "      <td>77.000000</td>\n",
              "      <td>0.000000</td>\n",
              "      <td>19.000000</td>\n",
              "      <td>0.000000</td>\n",
              "      <td>78.000000</td>\n",
              "      <td>4.260000</td>\n",
              "      <td>78.000000</td>\n",
              "      <td>0.100000</td>\n",
              "      <td>454.244439</td>\n",
              "      <td>1.923120e+05</td>\n",
              "      <td>1.600000</td>\n",
              "      <td>1.500000</td>\n",
              "      <td>0.491000</td>\n",
              "      <td>10.100000</td>\n",
              "      <td>1.000000</td>\n",
              "    </tr>\n",
              "    <tr>\n",
              "      <th>50%</th>\n",
              "      <td>2007.000000</td>\n",
              "      <td>72.100000</td>\n",
              "      <td>142.500000</td>\n",
              "      <td>3.000000</td>\n",
              "      <td>3.830000</td>\n",
              "      <td>87.786552</td>\n",
              "      <td>92.000000</td>\n",
              "      <td>18.000000</td>\n",
              "      <td>43.600000</td>\n",
              "      <td>4.000000</td>\n",
              "      <td>93.000000</td>\n",
              "      <td>5.750000</td>\n",
              "      <td>93.000000</td>\n",
              "      <td>0.100000</td>\n",
              "      <td>1726.915100</td>\n",
              "      <td>1.359647e+06</td>\n",
              "      <td>3.300000</td>\n",
              "      <td>3.300000</td>\n",
              "      <td>0.675000</td>\n",
              "      <td>12.300000</td>\n",
              "      <td>1.000000</td>\n",
              "    </tr>\n",
              "    <tr>\n",
              "      <th>75%</th>\n",
              "      <td>2011.000000</td>\n",
              "      <td>75.600000</td>\n",
              "      <td>226.750000</td>\n",
              "      <td>21.000000</td>\n",
              "      <td>7.807500</td>\n",
              "      <td>503.469045</td>\n",
              "      <td>97.000000</td>\n",
              "      <td>374.500000</td>\n",
              "      <td>55.900000</td>\n",
              "      <td>26.000000</td>\n",
              "      <td>97.000000</td>\n",
              "      <td>7.490000</td>\n",
              "      <td>97.000000</td>\n",
              "      <td>0.800000</td>\n",
              "      <td>5858.718311</td>\n",
              "      <td>7.284753e+06</td>\n",
              "      <td>7.200000</td>\n",
              "      <td>7.300000</td>\n",
              "      <td>0.777750</td>\n",
              "      <td>14.200000</td>\n",
              "      <td>2.000000</td>\n",
              "    </tr>\n",
              "    <tr>\n",
              "      <th>max</th>\n",
              "      <td>2015.000000</td>\n",
              "      <td>89.000000</td>\n",
              "      <td>723.000000</td>\n",
              "      <td>1800.000000</td>\n",
              "      <td>17.870000</td>\n",
              "      <td>19479.911610</td>\n",
              "      <td>99.000000</td>\n",
              "      <td>212183.000000</td>\n",
              "      <td>77.100000</td>\n",
              "      <td>2500.000000</td>\n",
              "      <td>99.000000</td>\n",
              "      <td>17.600000</td>\n",
              "      <td>99.000000</td>\n",
              "      <td>50.600000</td>\n",
              "      <td>119172.741800</td>\n",
              "      <td>1.293859e+09</td>\n",
              "      <td>27.700000</td>\n",
              "      <td>28.600000</td>\n",
              "      <td>0.945000</td>\n",
              "      <td>20.700000</td>\n",
              "      <td>6.000000</td>\n",
              "    </tr>\n",
              "  </tbody>\n",
              "</table>\n",
              "</div>"
            ],
            "text/plain": [
              "              Year  LifeExpectancy  ...    Schooling      NAcount\n",
              "count  2702.000000     2702.000000  ...  2582.000000  2702.000000\n",
              "mean   2007.019245       69.225241  ...    11.995198     1.658031\n",
              "std       4.325133        9.529783  ...     3.277329     1.070285\n",
              "min    2000.000000       36.300000  ...     0.000000     1.000000\n",
              "25%    2003.000000       63.200000  ...    10.100000     1.000000\n",
              "50%    2007.000000       72.100000  ...    12.300000     1.000000\n",
              "75%    2011.000000       75.600000  ...    14.200000     2.000000\n",
              "max    2015.000000       89.000000  ...    20.700000     6.000000\n",
              "\n",
              "[8 rows x 21 columns]"
            ]
          },
          "metadata": {
            "tags": []
          },
          "execution_count": 294
        }
      ]
    },
    {
      "cell_type": "code",
      "metadata": {
        "id": "vu8crjIV_BkF",
        "colab_type": "code",
        "colab": {}
      },
      "source": [
        "# Subset to the rows with max of 3 missing values\n",
        "data= data[data['NAcount'] <= 3]"
      ],
      "execution_count": 0,
      "outputs": []
    },
    {
      "cell_type": "code",
      "metadata": {
        "id": "1qEyBXVOArjN",
        "colab_type": "code",
        "outputId": "6eb8f912-6b4a-4f91-8e8e-f1c80b9215c7",
        "colab": {
          "base_uri": "https://localhost:8080/",
          "height": 34
        }
      },
      "source": [
        "# Drop unneeded column \n",
        "data = data.drop(columns='NAcount')\n",
        "data.shape"
      ],
      "execution_count": 296,
      "outputs": [
        {
          "output_type": "execute_result",
          "data": {
            "text/plain": [
              "(2532, 22)"
            ]
          },
          "metadata": {
            "tags": []
          },
          "execution_count": 296
        }
      ]
    },
    {
      "cell_type": "code",
      "metadata": {
        "id": "4bglNgMXBxrE",
        "colab_type": "code",
        "outputId": "d1ccd24f-1f34-469c-bbad-051468e687b3",
        "colab": {
          "base_uri": "https://localhost:8080/",
          "height": 391
        }
      },
      "source": [
        "missing_values_df(data)"
      ],
      "execution_count": 297,
      "outputs": [
        {
          "output_type": "stream",
          "text": [
            "Country | 0.0 | object\n",
            "Year | 0.0 | int64\n",
            "Status | 0.0 | object\n",
            "LifeExpectancy | 0.0 | float64\n",
            "AdultMortality | 0.0 | float64\n",
            "InfantDeaths | 0.0 | int64\n",
            "Alcohol | 0.0 | float64\n",
            "Expenditure | 0.0 | float64\n",
            "HepB | 0.15282505105513955 | float64\n",
            "Measles | 0.0 | int64\n",
            "BMI | 0.0 | float64\n",
            "5deaths | 0.0 | int64\n",
            "Polio | 0.0 | float64\n",
            "TExpenditure | 0.0 | float64\n",
            "Diphtheria | 0.0 | float64\n",
            "HIV | 0.0 | float64\n",
            "GDP | 0.07862491490810075 | float64\n",
            "Population | 0.14601769911504425 | float64\n",
            "ThinJuvenile | 0.0 | float64\n",
            "ThinChild | 0.0 | float64\n",
            "IncomeComp | 0.0 | float64\n",
            "Schooling | 0.0 | float64\n"
          ],
          "name": "stdout"
        }
      ]
    },
    {
      "cell_type": "markdown",
      "metadata": {
        "id": "pDZNfUvYGJKU",
        "colab_type": "text"
      },
      "source": [
        "Examine the null value counts for several countries in the worrisome categories. Most of the missing values now come from countries that are either entirely missing Hepatitus B, Population, or GDP variables in most or all of the years. "
      ]
    },
    {
      "cell_type": "code",
      "metadata": {
        "id": "JW_Q6LJtCaEo",
        "colab_type": "code",
        "outputId": "8fc591b6-cf6a-402b-d1cf-2ddd19e2ad20",
        "colab": {
          "base_uri": "https://localhost:8080/",
          "height": 483
        }
      },
      "source": [
        "df2 = data.HepB.isnull().groupby([data['Country']]).sum().astype(int).reset_index(name='HepB_NA')\n",
        "df3= data.GDP.isnull().groupby([data['Country']]).sum().astype(int).reset_index(name='GDPNAcount')\n",
        "df4= data.Population.isnull().groupby([data['Country']]).sum().astype(int).reset_index(name='Popcount')\n",
        "df2['NA_GDP'] = df3['GDPNAcount']\n",
        "df2['NA_Pop'] = df4['Popcount']\n",
        "df2['Sum'] = df2['HepB_NA'] + df2['NA_GDP'] + df2['NA_Pop']\n",
        "\n",
        "df2[df2.Sum > 20]"
      ],
      "execution_count": 298,
      "outputs": [
        {
          "output_type": "execute_result",
          "data": {
            "text/html": [
              "<div>\n",
              "<style scoped>\n",
              "    .dataframe tbody tr th:only-of-type {\n",
              "        vertical-align: middle;\n",
              "    }\n",
              "\n",
              "    .dataframe tbody tr th {\n",
              "        vertical-align: top;\n",
              "    }\n",
              "\n",
              "    .dataframe thead th {\n",
              "        text-align: right;\n",
              "    }\n",
              "</style>\n",
              "<table border=\"1\" class=\"dataframe\">\n",
              "  <thead>\n",
              "    <tr style=\"text-align: right;\">\n",
              "      <th></th>\n",
              "      <th>Country</th>\n",
              "      <th>HepB_NA</th>\n",
              "      <th>NA_GDP</th>\n",
              "      <th>NA_Pop</th>\n",
              "      <th>Sum</th>\n",
              "    </tr>\n",
              "  </thead>\n",
              "  <tbody>\n",
              "    <tr>\n",
              "      <th>10</th>\n",
              "      <td>Bahamas</td>\n",
              "      <td>0</td>\n",
              "      <td>14</td>\n",
              "      <td>14</td>\n",
              "      <td>28</td>\n",
              "    </tr>\n",
              "    <tr>\n",
              "      <th>19</th>\n",
              "      <td>Bolivia (Plurinational State of)</td>\n",
              "      <td>0</td>\n",
              "      <td>15</td>\n",
              "      <td>15</td>\n",
              "      <td>30</td>\n",
              "    </tr>\n",
              "    <tr>\n",
              "      <th>46</th>\n",
              "      <td>Egypt</td>\n",
              "      <td>0</td>\n",
              "      <td>15</td>\n",
              "      <td>15</td>\n",
              "      <td>30</td>\n",
              "    </tr>\n",
              "    <tr>\n",
              "      <th>56</th>\n",
              "      <td>Gambia</td>\n",
              "      <td>0</td>\n",
              "      <td>15</td>\n",
              "      <td>15</td>\n",
              "      <td>30</td>\n",
              "    </tr>\n",
              "    <tr>\n",
              "      <th>72</th>\n",
              "      <td>Iran (Islamic Republic of)</td>\n",
              "      <td>0</td>\n",
              "      <td>15</td>\n",
              "      <td>15</td>\n",
              "      <td>30</td>\n",
              "    </tr>\n",
              "    <tr>\n",
              "      <th>84</th>\n",
              "      <td>Kyrgyzstan</td>\n",
              "      <td>0</td>\n",
              "      <td>15</td>\n",
              "      <td>15</td>\n",
              "      <td>30</td>\n",
              "    </tr>\n",
              "    <tr>\n",
              "      <th>85</th>\n",
              "      <td>Lao People's Democratic Republic</td>\n",
              "      <td>0</td>\n",
              "      <td>12</td>\n",
              "      <td>12</td>\n",
              "      <td>24</td>\n",
              "    </tr>\n",
              "    <tr>\n",
              "      <th>102</th>\n",
              "      <td>Micronesia (Federated States of)</td>\n",
              "      <td>0</td>\n",
              "      <td>15</td>\n",
              "      <td>15</td>\n",
              "      <td>30</td>\n",
              "    </tr>\n",
              "    <tr>\n",
              "      <th>129</th>\n",
              "      <td>Saint Lucia</td>\n",
              "      <td>0</td>\n",
              "      <td>13</td>\n",
              "      <td>13</td>\n",
              "      <td>26</td>\n",
              "    </tr>\n",
              "    <tr>\n",
              "      <th>130</th>\n",
              "      <td>Saint Vincent and the Grenadines</td>\n",
              "      <td>0</td>\n",
              "      <td>12</td>\n",
              "      <td>12</td>\n",
              "      <td>24</td>\n",
              "    </tr>\n",
              "    <tr>\n",
              "      <th>139</th>\n",
              "      <td>Slovakia</td>\n",
              "      <td>0</td>\n",
              "      <td>15</td>\n",
              "      <td>15</td>\n",
              "      <td>30</td>\n",
              "    </tr>\n",
              "    <tr>\n",
              "      <th>166</th>\n",
              "      <td>Venezuela (Bolivarian Republic of)</td>\n",
              "      <td>0</td>\n",
              "      <td>15</td>\n",
              "      <td>15</td>\n",
              "      <td>30</td>\n",
              "    </tr>\n",
              "    <tr>\n",
              "      <th>167</th>\n",
              "      <td>Viet Nam</td>\n",
              "      <td>0</td>\n",
              "      <td>12</td>\n",
              "      <td>12</td>\n",
              "      <td>24</td>\n",
              "    </tr>\n",
              "    <tr>\n",
              "      <th>168</th>\n",
              "      <td>Yemen</td>\n",
              "      <td>0</td>\n",
              "      <td>15</td>\n",
              "      <td>15</td>\n",
              "      <td>30</td>\n",
              "    </tr>\n",
              "  </tbody>\n",
              "</table>\n",
              "</div>"
            ],
            "text/plain": [
              "                                Country  HepB_NA  NA_GDP  NA_Pop  Sum\n",
              "10                              Bahamas        0      14      14   28\n",
              "19     Bolivia (Plurinational State of)        0      15      15   30\n",
              "46                                Egypt        0      15      15   30\n",
              "56                               Gambia        0      15      15   30\n",
              "72           Iran (Islamic Republic of)        0      15      15   30\n",
              "84                           Kyrgyzstan        0      15      15   30\n",
              "85     Lao People's Democratic Republic        0      12      12   24\n",
              "102    Micronesia (Federated States of)        0      15      15   30\n",
              "129                         Saint Lucia        0      13      13   26\n",
              "130    Saint Vincent and the Grenadines        0      12      12   24\n",
              "139                            Slovakia        0      15      15   30\n",
              "166  Venezuela (Bolivarian Republic of)        0      15      15   30\n",
              "167                            Viet Nam        0      12      12   24\n",
              "168                               Yemen        0      15      15   30"
            ]
          },
          "metadata": {
            "tags": []
          },
          "execution_count": 298
        }
      ]
    },
    {
      "cell_type": "markdown",
      "metadata": {
        "id": "BMybghhiBsVf",
        "colab_type": "text"
      },
      "source": [
        "### Correlation Plot"
      ]
    },
    {
      "cell_type": "code",
      "metadata": {
        "id": "8c5m1IJHBsmi",
        "colab_type": "code",
        "colab": {}
      },
      "source": [
        "import matplotlib.pyplot as plt\n",
        "import seaborn as sns"
      ],
      "execution_count": 0,
      "outputs": []
    },
    {
      "cell_type": "code",
      "metadata": {
        "id": "wj4RYrxpB2rR",
        "colab_type": "code",
        "colab": {}
      },
      "source": [
        "cont_vars = list(data.columns)[3:]"
      ],
      "execution_count": 0,
      "outputs": []
    },
    {
      "cell_type": "code",
      "metadata": {
        "id": "MyPS5zheBs0c",
        "colab_type": "code",
        "outputId": "8c4f05c1-477d-4ca6-aab2-c654c96cec72",
        "colab": {
          "base_uri": "https://localhost:8080/",
          "height": 352
        }
      },
      "source": [
        "sns.heatmap(data[cont_vars].corr(), annot=False, fmt='.2g', vmin=-1, vmax=1, center=0, cmap='coolwarm')"
      ],
      "execution_count": 301,
      "outputs": [
        {
          "output_type": "execute_result",
          "data": {
            "text/plain": [
              "<matplotlib.axes._subplots.AxesSubplot at 0x7f3b866d9eb8>"
            ]
          },
          "metadata": {
            "tags": []
          },
          "execution_count": 301
        },
        {
          "output_type": "display_data",
          "data": {
            "image/png": "[encoded data removed]",
            "text/plain": [
              "<Figure size 432x288 with 2 Axes>"
            ]
          },
          "metadata": {
            "tags": [],
            "needs_background": "light"
          }
        }
      ]
    },
    {
      "cell_type": "markdown",
      "metadata": {
        "id": "BPDqrkoMFi98",
        "colab_type": "text"
      },
      "source": [
        "## Impute Missing Values"
      ]
    },
    {
      "cell_type": "code",
      "metadata": {
        "id": "Wg7OUufkFmjs",
        "colab_type": "code",
        "colab": {}
      },
      "source": [
        "from sklearn.pipeline import Pipeline \n",
        "from sklearn.experimental import enable_iterative_imputer\n",
        "from sklearn.impute import IterativeImputer\n",
        "\n",
        "#NUMERIC PIPELINE: \n",
        "numeric_pipe = Pipeline(\n",
        "    [('imputer', IterativeImputer(max_iter=15, random_state=0))])"
      ],
      "execution_count": 0,
      "outputs": []
    },
    {
      "cell_type": "code",
      "metadata": {
        "id": "9Xhy76_nFmmg",
        "colab_type": "code",
        "colab": {}
      },
      "source": [
        "#CATEGORICAL PIPELINE\n",
        "from sklearn.impute import SimpleImputer\n",
        "categorical_pipe = Pipeline(\n",
        "    [('cat_imputer', SimpleImputer(strategy = 'most_frequent'))])"
      ],
      "execution_count": 0,
      "outputs": []
    },
    {
      "cell_type": "code",
      "metadata": {
        "id": "NrrT15V1Fmpw",
        "colab_type": "code",
        "colab": {}
      },
      "source": [
        "# Categorical Columns\n",
        "categorical = data.select_dtypes(include=['object']).columns\n",
        "\n",
        "# Numeric Columns to train\n",
        "numeric = data.select_dtypes(include=['int64', 'float64']).columns"
      ],
      "execution_count": 0,
      "outputs": []
    },
    {
      "cell_type": "code",
      "metadata": {
        "id": "bdmmy06QGiTU",
        "colab_type": "code",
        "colab": {}
      },
      "source": [
        "from sklearn.compose import ColumnTransformer\n",
        "\n",
        "full_transformer = ColumnTransformer(\n",
        "    transformers = [\n",
        "        ('categorical', categorical_pipe, categorical),\n",
        "        ('numeric', numeric_pipe, numeric)\n",
        "    ]\n",
        ")"
      ],
      "execution_count": 0,
      "outputs": []
    },
    {
      "cell_type": "code",
      "metadata": {
        "id": "jkOvY6zVGiWB",
        "colab_type": "code",
        "colab": {}
      },
      "source": [
        "data_processed = full_transformer.fit_transform(data)"
      ],
      "execution_count": 0,
      "outputs": []
    },
    {
      "cell_type": "code",
      "metadata": {
        "id": "CBcTBnKnIip7",
        "colab_type": "code",
        "colab": {}
      },
      "source": [
        "cols = ['Country', 'Status', 'Year','LifeExpectancy', 'AdultMortality',\n",
        "       'InfantDeaths', 'Alcohol', 'Expenditure', 'HepB', 'Measles', 'BMI',\n",
        "       '5deaths', 'Polio', 'TExpenditure', 'Diphtheria', 'HIV', 'GDP',\n",
        "       'Population', 'ThinJuvenile', 'ThinChild', 'IncomeComp', 'Schooling']"
      ],
      "execution_count": 0,
      "outputs": []
    },
    {
      "cell_type": "code",
      "metadata": {
        "id": "YaW2yjc1GiYu",
        "colab_type": "code",
        "colab": {
          "base_uri": "https://localhost:8080/",
          "height": 224
        },
        "outputId": "9d9f3f69-ae60-469b-9d9b-1a7865421564"
      },
      "source": [
        "data_processed = pd.DataFrame(data_processed, columns=cols)\n",
        "data_processed.head(5)"
      ],
      "execution_count": 308,
      "outputs": [
        {
          "output_type": "execute_result",
          "data": {
            "text/html": [
              "<div>\n",
              "<style scoped>\n",
              "    .dataframe tbody tr th:only-of-type {\n",
              "        vertical-align: middle;\n",
              "    }\n",
              "\n",
              "    .dataframe tbody tr th {\n",
              "        vertical-align: top;\n",
              "    }\n",
              "\n",
              "    .dataframe thead th {\n",
              "        text-align: right;\n",
              "    }\n",
              "</style>\n",
              "<table border=\"1\" class=\"dataframe\">\n",
              "  <thead>\n",
              "    <tr style=\"text-align: right;\">\n",
              "      <th></th>\n",
              "      <th>Country</th>\n",
              "      <th>Status</th>\n",
              "      <th>Year</th>\n",
              "      <th>LifeExpectancy</th>\n",
              "      <th>AdultMortality</th>\n",
              "      <th>InfantDeaths</th>\n",
              "      <th>Alcohol</th>\n",
              "      <th>Expenditure</th>\n",
              "      <th>HepB</th>\n",
              "      <th>Measles</th>\n",
              "      <th>BMI</th>\n",
              "      <th>5deaths</th>\n",
              "      <th>Polio</th>\n",
              "      <th>TExpenditure</th>\n",
              "      <th>Diphtheria</th>\n",
              "      <th>HIV</th>\n",
              "      <th>GDP</th>\n",
              "      <th>Population</th>\n",
              "      <th>ThinJuvenile</th>\n",
              "      <th>ThinChild</th>\n",
              "      <th>IncomeComp</th>\n",
              "      <th>Schooling</th>\n",
              "    </tr>\n",
              "  </thead>\n",
              "  <tbody>\n",
              "    <tr>\n",
              "      <th>0</th>\n",
              "      <td>Afghanistan</td>\n",
              "      <td>Developing</td>\n",
              "      <td>2015</td>\n",
              "      <td>65</td>\n",
              "      <td>263</td>\n",
              "      <td>62</td>\n",
              "      <td>0.01</td>\n",
              "      <td>71.2796</td>\n",
              "      <td>65</td>\n",
              "      <td>1154</td>\n",
              "      <td>19.1</td>\n",
              "      <td>83</td>\n",
              "      <td>6</td>\n",
              "      <td>8.16</td>\n",
              "      <td>65</td>\n",
              "      <td>0.1</td>\n",
              "      <td>584.259</td>\n",
              "      <td>3.37365e+07</td>\n",
              "      <td>17.2</td>\n",
              "      <td>17.3</td>\n",
              "      <td>0.479</td>\n",
              "      <td>10.1</td>\n",
              "    </tr>\n",
              "    <tr>\n",
              "      <th>1</th>\n",
              "      <td>Afghanistan</td>\n",
              "      <td>Developing</td>\n",
              "      <td>2014</td>\n",
              "      <td>59.9</td>\n",
              "      <td>271</td>\n",
              "      <td>64</td>\n",
              "      <td>0.01</td>\n",
              "      <td>73.5236</td>\n",
              "      <td>62</td>\n",
              "      <td>492</td>\n",
              "      <td>18.6</td>\n",
              "      <td>86</td>\n",
              "      <td>58</td>\n",
              "      <td>8.18</td>\n",
              "      <td>62</td>\n",
              "      <td>0.1</td>\n",
              "      <td>612.697</td>\n",
              "      <td>327582</td>\n",
              "      <td>17.5</td>\n",
              "      <td>17.5</td>\n",
              "      <td>0.476</td>\n",
              "      <td>10</td>\n",
              "    </tr>\n",
              "    <tr>\n",
              "      <th>2</th>\n",
              "      <td>Afghanistan</td>\n",
              "      <td>Developing</td>\n",
              "      <td>2013</td>\n",
              "      <td>59.9</td>\n",
              "      <td>268</td>\n",
              "      <td>66</td>\n",
              "      <td>0.01</td>\n",
              "      <td>73.2192</td>\n",
              "      <td>64</td>\n",
              "      <td>430</td>\n",
              "      <td>18.1</td>\n",
              "      <td>89</td>\n",
              "      <td>62</td>\n",
              "      <td>8.13</td>\n",
              "      <td>64</td>\n",
              "      <td>0.1</td>\n",
              "      <td>631.745</td>\n",
              "      <td>3.17317e+07</td>\n",
              "      <td>17.7</td>\n",
              "      <td>17.7</td>\n",
              "      <td>0.47</td>\n",
              "      <td>9.9</td>\n",
              "    </tr>\n",
              "    <tr>\n",
              "      <th>3</th>\n",
              "      <td>Afghanistan</td>\n",
              "      <td>Developing</td>\n",
              "      <td>2012</td>\n",
              "      <td>59.5</td>\n",
              "      <td>272</td>\n",
              "      <td>69</td>\n",
              "      <td>0.01</td>\n",
              "      <td>78.1842</td>\n",
              "      <td>67</td>\n",
              "      <td>2787</td>\n",
              "      <td>17.6</td>\n",
              "      <td>93</td>\n",
              "      <td>67</td>\n",
              "      <td>8.52</td>\n",
              "      <td>67</td>\n",
              "      <td>0.1</td>\n",
              "      <td>669.959</td>\n",
              "      <td>3.69696e+06</td>\n",
              "      <td>17.9</td>\n",
              "      <td>18</td>\n",
              "      <td>0.463</td>\n",
              "      <td>9.8</td>\n",
              "    </tr>\n",
              "    <tr>\n",
              "      <th>4</th>\n",
              "      <td>Afghanistan</td>\n",
              "      <td>Developing</td>\n",
              "      <td>2011</td>\n",
              "      <td>59.2</td>\n",
              "      <td>275</td>\n",
              "      <td>71</td>\n",
              "      <td>0.01</td>\n",
              "      <td>7.09711</td>\n",
              "      <td>68</td>\n",
              "      <td>3013</td>\n",
              "      <td>17.2</td>\n",
              "      <td>97</td>\n",
              "      <td>68</td>\n",
              "      <td>7.87</td>\n",
              "      <td>68</td>\n",
              "      <td>0.1</td>\n",
              "      <td>63.5372</td>\n",
              "      <td>2.9786e+06</td>\n",
              "      <td>18.2</td>\n",
              "      <td>18.2</td>\n",
              "      <td>0.454</td>\n",
              "      <td>9.5</td>\n",
              "    </tr>\n",
              "  </tbody>\n",
              "</table>\n",
              "</div>"
            ],
            "text/plain": [
              "       Country      Status  Year  ... ThinChild IncomeComp Schooling\n",
              "0  Afghanistan  Developing  2015  ...      17.3      0.479      10.1\n",
              "1  Afghanistan  Developing  2014  ...      17.5      0.476        10\n",
              "2  Afghanistan  Developing  2013  ...      17.7       0.47       9.9\n",
              "3  Afghanistan  Developing  2012  ...        18      0.463       9.8\n",
              "4  Afghanistan  Developing  2011  ...      18.2      0.454       9.5\n",
              "\n",
              "[5 rows x 22 columns]"
            ]
          },
          "metadata": {
            "tags": []
          },
          "execution_count": 308
        }
      ]
    },
    {
      "cell_type": "code",
      "metadata": {
        "id": "5H2_ZCK3Fmum",
        "colab_type": "code",
        "colab": {
          "base_uri": "https://localhost:8080/",
          "height": 391
        },
        "outputId": "28165d83-9b55-45b8-a7e5-a361aef37eb4"
      },
      "source": [
        "# Verify that it worked\n",
        "missing_values_df(data_processed)"
      ],
      "execution_count": 310,
      "outputs": [
        {
          "output_type": "stream",
          "text": [
            "Country | 0.0 | object\n",
            "Status | 0.0 | object\n",
            "Year | 0.0 | object\n",
            "LifeExpectancy | 0.0 | object\n",
            "AdultMortality | 0.0 | object\n",
            "InfantDeaths | 0.0 | object\n",
            "Alcohol | 0.0 | object\n",
            "Expenditure | 0.0 | object\n",
            "HepB | 0.0 | object\n",
            "Measles | 0.0 | object\n",
            "BMI | 0.0 | object\n",
            "5deaths | 0.0 | object\n",
            "Polio | 0.0 | object\n",
            "TExpenditure | 0.0 | object\n",
            "Diphtheria | 0.0 | object\n",
            "HIV | 0.0 | object\n",
            "GDP | 0.0 | object\n",
            "Population | 0.0 | object\n",
            "ThinJuvenile | 0.0 | object\n",
            "ThinChild | 0.0 | object\n",
            "IncomeComp | 0.0 | object\n",
            "Schooling | 0.0 | object\n"
          ],
          "name": "stdout"
        }
      ]
    },
    {
      "cell_type": "code",
      "metadata": {
        "id": "ySqfYaBeFmr_",
        "colab_type": "code",
        "colab": {}
      },
      "source": [
        "data_processed= data_processed.drop(columns='Country')"
      ],
      "execution_count": 0,
      "outputs": []
    },
    {
      "cell_type": "code",
      "metadata": {
        "id": "BLnfn7nEKkI6",
        "colab_type": "code",
        "colab": {}
      },
      "source": [
        "# Create a categorical response variable from Total Expenditure (1 is high, 0 is low)\n",
        "def classifyexp(exp):\n",
        "    if ((exp >= 0) and (exp <=5.8)):\n",
        "        return 0\n",
        "    elif ((exp > 5.8) and (exp <= 15)):\n",
        "        return 1\n",
        "\n",
        "data_processed['TExp'] = data_processed['TExpenditure'].apply(classifyexp)\n"
      ],
      "execution_count": 0,
      "outputs": []
    },
    {
      "cell_type": "code",
      "metadata": {
        "id": "9zsY31NvKkNU",
        "colab_type": "code",
        "colab": {}
      },
      "source": [
        "d_map = {'Developed':1, 'Developing':0}\n",
        "data_processed['Status'] = data_processed['Status'].map(d_map)\n"
      ],
      "execution_count": 0,
      "outputs": []
    },
    {
      "cell_type": "code",
      "metadata": {
        "id": "v-SSR6KOKkRh",
        "colab_type": "code",
        "colab": {
          "base_uri": "https://localhost:8080/",
          "height": 439
        },
        "outputId": "1c9bfc09-a00a-41da-87e6-913b644eca58"
      },
      "source": [
        "data_processed"
      ],
      "execution_count": 314,
      "outputs": [
        {
          "output_type": "execute_result",
          "data": {
            "text/html": [
              "<div>\n",
              "<style scoped>\n",
              "    .dataframe tbody tr th:only-of-type {\n",
              "        vertical-align: middle;\n",
              "    }\n",
              "\n",
              "    .dataframe tbody tr th {\n",
              "        vertical-align: top;\n",
              "    }\n",
              "\n",
              "    .dataframe thead th {\n",
              "        text-align: right;\n",
              "    }\n",
              "</style>\n",
              "<table border=\"1\" class=\"dataframe\">\n",
              "  <thead>\n",
              "    <tr style=\"text-align: right;\">\n",
              "      <th></th>\n",
              "      <th>Status</th>\n",
              "      <th>Year</th>\n",
              "      <th>LifeExpectancy</th>\n",
              "      <th>AdultMortality</th>\n",
              "      <th>InfantDeaths</th>\n",
              "      <th>Alcohol</th>\n",
              "      <th>Expenditure</th>\n",
              "      <th>HepB</th>\n",
              "      <th>Measles</th>\n",
              "      <th>BMI</th>\n",
              "      <th>5deaths</th>\n",
              "      <th>Polio</th>\n",
              "      <th>TExpenditure</th>\n",
              "      <th>Diphtheria</th>\n",
              "      <th>HIV</th>\n",
              "      <th>GDP</th>\n",
              "      <th>Population</th>\n",
              "      <th>ThinJuvenile</th>\n",
              "      <th>ThinChild</th>\n",
              "      <th>IncomeComp</th>\n",
              "      <th>Schooling</th>\n",
              "      <th>TExp</th>\n",
              "    </tr>\n",
              "  </thead>\n",
              "  <tbody>\n",
              "    <tr>\n",
              "      <th>0</th>\n",
              "      <td>0</td>\n",
              "      <td>2015</td>\n",
              "      <td>65</td>\n",
              "      <td>263</td>\n",
              "      <td>62</td>\n",
              "      <td>0.01</td>\n",
              "      <td>71.2796</td>\n",
              "      <td>65</td>\n",
              "      <td>1154</td>\n",
              "      <td>19.1</td>\n",
              "      <td>83</td>\n",
              "      <td>6</td>\n",
              "      <td>8.16</td>\n",
              "      <td>65</td>\n",
              "      <td>0.1</td>\n",
              "      <td>584.259</td>\n",
              "      <td>3.37365e+07</td>\n",
              "      <td>17.2</td>\n",
              "      <td>17.3</td>\n",
              "      <td>0.479</td>\n",
              "      <td>10.1</td>\n",
              "      <td>1</td>\n",
              "    </tr>\n",
              "    <tr>\n",
              "      <th>1</th>\n",
              "      <td>0</td>\n",
              "      <td>2014</td>\n",
              "      <td>59.9</td>\n",
              "      <td>271</td>\n",
              "      <td>64</td>\n",
              "      <td>0.01</td>\n",
              "      <td>73.5236</td>\n",
              "      <td>62</td>\n",
              "      <td>492</td>\n",
              "      <td>18.6</td>\n",
              "      <td>86</td>\n",
              "      <td>58</td>\n",
              "      <td>8.18</td>\n",
              "      <td>62</td>\n",
              "      <td>0.1</td>\n",
              "      <td>612.697</td>\n",
              "      <td>327582</td>\n",
              "      <td>17.5</td>\n",
              "      <td>17.5</td>\n",
              "      <td>0.476</td>\n",
              "      <td>10</td>\n",
              "      <td>1</td>\n",
              "    </tr>\n",
              "    <tr>\n",
              "      <th>2</th>\n",
              "      <td>0</td>\n",
              "      <td>2013</td>\n",
              "      <td>59.9</td>\n",
              "      <td>268</td>\n",
              "      <td>66</td>\n",
              "      <td>0.01</td>\n",
              "      <td>73.2192</td>\n",
              "      <td>64</td>\n",
              "      <td>430</td>\n",
              "      <td>18.1</td>\n",
              "      <td>89</td>\n",
              "      <td>62</td>\n",
              "      <td>8.13</td>\n",
              "      <td>64</td>\n",
              "      <td>0.1</td>\n",
              "      <td>631.745</td>\n",
              "      <td>3.17317e+07</td>\n",
              "      <td>17.7</td>\n",
              "      <td>17.7</td>\n",
              "      <td>0.47</td>\n",
              "      <td>9.9</td>\n",
              "      <td>1</td>\n",
              "    </tr>\n",
              "    <tr>\n",
              "      <th>3</th>\n",
              "      <td>0</td>\n",
              "      <td>2012</td>\n",
              "      <td>59.5</td>\n",
              "      <td>272</td>\n",
              "      <td>69</td>\n",
              "      <td>0.01</td>\n",
              "      <td>78.1842</td>\n",
              "      <td>67</td>\n",
              "      <td>2787</td>\n",
              "      <td>17.6</td>\n",
              "      <td>93</td>\n",
              "      <td>67</td>\n",
              "      <td>8.52</td>\n",
              "      <td>67</td>\n",
              "      <td>0.1</td>\n",
              "      <td>669.959</td>\n",
              "      <td>3.69696e+06</td>\n",
              "      <td>17.9</td>\n",
              "      <td>18</td>\n",
              "      <td>0.463</td>\n",
              "      <td>9.8</td>\n",
              "      <td>1</td>\n",
              "    </tr>\n",
              "    <tr>\n",
              "      <th>4</th>\n",
              "      <td>0</td>\n",
              "      <td>2011</td>\n",
              "      <td>59.2</td>\n",
              "      <td>275</td>\n",
              "      <td>71</td>\n",
              "      <td>0.01</td>\n",
              "      <td>7.09711</td>\n",
              "      <td>68</td>\n",
              "      <td>3013</td>\n",
              "      <td>17.2</td>\n",
              "      <td>97</td>\n",
              "      <td>68</td>\n",
              "      <td>7.87</td>\n",
              "      <td>68</td>\n",
              "      <td>0.1</td>\n",
              "      <td>63.5372</td>\n",
              "      <td>2.9786e+06</td>\n",
              "      <td>18.2</td>\n",
              "      <td>18.2</td>\n",
              "      <td>0.454</td>\n",
              "      <td>9.5</td>\n",
              "      <td>1</td>\n",
              "    </tr>\n",
              "    <tr>\n",
              "      <th>...</th>\n",
              "      <td>...</td>\n",
              "      <td>...</td>\n",
              "      <td>...</td>\n",
              "      <td>...</td>\n",
              "      <td>...</td>\n",
              "      <td>...</td>\n",
              "      <td>...</td>\n",
              "      <td>...</td>\n",
              "      <td>...</td>\n",
              "      <td>...</td>\n",
              "      <td>...</td>\n",
              "      <td>...</td>\n",
              "      <td>...</td>\n",
              "      <td>...</td>\n",
              "      <td>...</td>\n",
              "      <td>...</td>\n",
              "      <td>...</td>\n",
              "      <td>...</td>\n",
              "      <td>...</td>\n",
              "      <td>...</td>\n",
              "      <td>...</td>\n",
              "      <td>...</td>\n",
              "    </tr>\n",
              "    <tr>\n",
              "      <th>2527</th>\n",
              "      <td>0</td>\n",
              "      <td>2004</td>\n",
              "      <td>44.3</td>\n",
              "      <td>723</td>\n",
              "      <td>27</td>\n",
              "      <td>4.36</td>\n",
              "      <td>0</td>\n",
              "      <td>68</td>\n",
              "      <td>31</td>\n",
              "      <td>27.1</td>\n",
              "      <td>42</td>\n",
              "      <td>67</td>\n",
              "      <td>7.13</td>\n",
              "      <td>65</td>\n",
              "      <td>33.6</td>\n",
              "      <td>454.367</td>\n",
              "      <td>1.27775e+07</td>\n",
              "      <td>9.4</td>\n",
              "      <td>9.4</td>\n",
              "      <td>0.407</td>\n",
              "      <td>9.2</td>\n",
              "      <td>1</td>\n",
              "    </tr>\n",
              "    <tr>\n",
              "      <th>2528</th>\n",
              "      <td>0</td>\n",
              "      <td>2003</td>\n",
              "      <td>44.5</td>\n",
              "      <td>715</td>\n",
              "      <td>26</td>\n",
              "      <td>4.06</td>\n",
              "      <td>0</td>\n",
              "      <td>7</td>\n",
              "      <td>998</td>\n",
              "      <td>26.7</td>\n",
              "      <td>41</td>\n",
              "      <td>7</td>\n",
              "      <td>6.52</td>\n",
              "      <td>68</td>\n",
              "      <td>36.7</td>\n",
              "      <td>453.351</td>\n",
              "      <td>1.26339e+07</td>\n",
              "      <td>9.8</td>\n",
              "      <td>9.9</td>\n",
              "      <td>0.418</td>\n",
              "      <td>9.5</td>\n",
              "      <td>1</td>\n",
              "    </tr>\n",
              "    <tr>\n",
              "      <th>2529</th>\n",
              "      <td>0</td>\n",
              "      <td>2002</td>\n",
              "      <td>44.8</td>\n",
              "      <td>73</td>\n",
              "      <td>25</td>\n",
              "      <td>4.43</td>\n",
              "      <td>0</td>\n",
              "      <td>73</td>\n",
              "      <td>304</td>\n",
              "      <td>26.3</td>\n",
              "      <td>40</td>\n",
              "      <td>73</td>\n",
              "      <td>6.53</td>\n",
              "      <td>71</td>\n",
              "      <td>39.8</td>\n",
              "      <td>57.3483</td>\n",
              "      <td>125525</td>\n",
              "      <td>1.2</td>\n",
              "      <td>1.3</td>\n",
              "      <td>0.427</td>\n",
              "      <td>10</td>\n",
              "      <td>1</td>\n",
              "    </tr>\n",
              "    <tr>\n",
              "      <th>2530</th>\n",
              "      <td>0</td>\n",
              "      <td>2001</td>\n",
              "      <td>45.3</td>\n",
              "      <td>686</td>\n",
              "      <td>25</td>\n",
              "      <td>1.72</td>\n",
              "      <td>0</td>\n",
              "      <td>76</td>\n",
              "      <td>529</td>\n",
              "      <td>25.9</td>\n",
              "      <td>39</td>\n",
              "      <td>76</td>\n",
              "      <td>6.16</td>\n",
              "      <td>75</td>\n",
              "      <td>42.1</td>\n",
              "      <td>548.587</td>\n",
              "      <td>1.23662e+07</td>\n",
              "      <td>1.6</td>\n",
              "      <td>1.7</td>\n",
              "      <td>0.427</td>\n",
              "      <td>9.8</td>\n",
              "      <td>1</td>\n",
              "    </tr>\n",
              "    <tr>\n",
              "      <th>2531</th>\n",
              "      <td>0</td>\n",
              "      <td>2000</td>\n",
              "      <td>46</td>\n",
              "      <td>665</td>\n",
              "      <td>24</td>\n",
              "      <td>1.68</td>\n",
              "      <td>0</td>\n",
              "      <td>79</td>\n",
              "      <td>1483</td>\n",
              "      <td>25.5</td>\n",
              "      <td>39</td>\n",
              "      <td>78</td>\n",
              "      <td>7.1</td>\n",
              "      <td>78</td>\n",
              "      <td>43.5</td>\n",
              "      <td>547.359</td>\n",
              "      <td>1.22223e+07</td>\n",
              "      <td>11</td>\n",
              "      <td>11.2</td>\n",
              "      <td>0.434</td>\n",
              "      <td>9.8</td>\n",
              "      <td>1</td>\n",
              "    </tr>\n",
              "  </tbody>\n",
              "</table>\n",
              "<p>2532 rows × 22 columns</p>\n",
              "</div>"
            ],
            "text/plain": [
              "      Status  Year LifeExpectancy  ... IncomeComp Schooling TExp\n",
              "0          0  2015             65  ...      0.479      10.1    1\n",
              "1          0  2014           59.9  ...      0.476        10    1\n",
              "2          0  2013           59.9  ...       0.47       9.9    1\n",
              "3          0  2012           59.5  ...      0.463       9.8    1\n",
              "4          0  2011           59.2  ...      0.454       9.5    1\n",
              "...      ...   ...            ...  ...        ...       ...  ...\n",
              "2527       0  2004           44.3  ...      0.407       9.2    1\n",
              "2528       0  2003           44.5  ...      0.418       9.5    1\n",
              "2529       0  2002           44.8  ...      0.427        10    1\n",
              "2530       0  2001           45.3  ...      0.427       9.8    1\n",
              "2531       0  2000             46  ...      0.434       9.8    1\n",
              "\n",
              "[2532 rows x 22 columns]"
            ]
          },
          "metadata": {
            "tags": []
          },
          "execution_count": 314
        }
      ]
    },
    {
      "cell_type": "code",
      "metadata": {
        "id": "bvrpbJ5ZLwpq",
        "colab_type": "code",
        "colab": {}
      },
      "source": [
        "# Export the csv\n",
        "data_processed.to_csv(r'cleaned_data.csv', index = None, header=True)\n"
      ],
      "execution_count": 0,
      "outputs": []
    }
  ]
}
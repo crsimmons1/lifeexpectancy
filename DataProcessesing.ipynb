{
  "nbformat": 4,
  "nbformat_minor": 0,
  "metadata": {
    "colab": {
      "name": "DataProcessesing.ipynb",
      "provenance": [],
      "authorship_tag": "ABX9TyMPULJR5oB1u54OxlpghKvN",
      "include_colab_link": true
    },
    "kernelspec": {
      "name": "python3",
      "display_name": "Python 3"
    }
  },
  "cells": [
    {
      "cell_type": "markdown",
      "metadata": {
        "id": "view-in-github",
        "colab_type": "text"
      },
      "source": [
        "<a href=\"https://colab.research.google.com/github/crsimmons1/lifeexpectancy/blob/master/DataProcessesing.ipynb\" target=\"_parent\"><img src=\"https://colab.research.google.com/assets/colab-badge.svg\" alt=\"Open In Colab\"/></a>"
      ]
    },
    {
      "cell_type": "markdown",
      "metadata": {
        "id": "3ThrCBpi4dAa",
        "colab_type": "text"
      },
      "source": [
        "# Launch Project \n",
        "\n",
        "data from https://www.kaggle.com/kumarajarshi/life-expectancy-who/kernels\n",
        "\n",
        "### Data Dictionary \n",
        "The Variables are:\n",
        "* Alcohol, recorded per capita (15+) consumption (in litres of pure alcohol)\n",
        "* Hepatitis B (HepB) immunization coverage among 1-year-olds (%)\n",
        "* Total Expenditure - General government expenditure on health as a percentage of total government expenditure (%)\n",
        "* Gross Domestic Product per capita (in USD)\n",
        "* Population of the country\n",
        "* Human Development Index in terms of income composition of resources (index ranging from 0 to 1)\n",
        "* Expenditure on health as a percentage of Gross Domestic Product per capita(%)\n",
        "* Number of years of Schooling(years)\n",
        "\n",
        "### Import Data"
      ]
    },
    {
      "cell_type": "code",
      "metadata": {
        "id": "AkK3ioD-4fXF",
        "colab_type": "code",
        "colab": {}
      },
      "source": [
        "import pandas as pd\n",
        "import numpy as np\n",
        "\n",
        "data = pd.read_csv(\"LifeExpectancyData.csv\")"
      ],
      "execution_count": 0,
      "outputs": []
    },
    {
      "cell_type": "code",
      "metadata": {
        "id": "-uznLU5L40Gw",
        "colab_type": "code",
        "colab": {
          "base_uri": "https://localhost:8080/",
          "height": 275
        },
        "outputId": "2ad62258-1206-4227-9f63-58a124a0a01d"
      },
      "source": [
        "data.head(5)"
      ],
      "execution_count": 266,
      "outputs": [
        {
          "output_type": "execute_result",
          "data": {
            "text/html": [
              "<div>\n",
              "<style scoped>\n",
              "    .dataframe tbody tr th:only-of-type {\n",
              "        vertical-align: middle;\n",
              "    }\n",
              "\n",
              "    .dataframe tbody tr th {\n",
              "        vertical-align: top;\n",
              "    }\n",
              "\n",
              "    .dataframe thead th {\n",
              "        text-align: right;\n",
              "    }\n",
              "</style>\n",
              "<table border=\"1\" class=\"dataframe\">\n",
              "  <thead>\n",
              "    <tr style=\"text-align: right;\">\n",
              "      <th></th>\n",
              "      <th>Country</th>\n",
              "      <th>Year</th>\n",
              "      <th>Status</th>\n",
              "      <th>Life expectancy</th>\n",
              "      <th>Adult Mortality</th>\n",
              "      <th>infant deaths</th>\n",
              "      <th>Alcohol</th>\n",
              "      <th>percentage expenditure</th>\n",
              "      <th>Hepatitis B</th>\n",
              "      <th>Measles</th>\n",
              "      <th>BMI</th>\n",
              "      <th>under-five deaths</th>\n",
              "      <th>Polio</th>\n",
              "      <th>Total expenditure</th>\n",
              "      <th>Diphtheria</th>\n",
              "      <th>HIV/AIDS</th>\n",
              "      <th>GDP</th>\n",
              "      <th>Population</th>\n",
              "      <th>thinness  1-19 years</th>\n",
              "      <th>thinness 5-9 years</th>\n",
              "      <th>Income composition of resources</th>\n",
              "      <th>Schooling</th>\n",
              "    </tr>\n",
              "  </thead>\n",
              "  <tbody>\n",
              "    <tr>\n",
              "      <th>0</th>\n",
              "      <td>Afghanistan</td>\n",
              "      <td>2015</td>\n",
              "      <td>Developing</td>\n",
              "      <td>65.0</td>\n",
              "      <td>263.0</td>\n",
              "      <td>62</td>\n",
              "      <td>0.01</td>\n",
              "      <td>71.279624</td>\n",
              "      <td>65.0</td>\n",
              "      <td>1154</td>\n",
              "      <td>19.1</td>\n",
              "      <td>83</td>\n",
              "      <td>6.0</td>\n",
              "      <td>8.16</td>\n",
              "      <td>65.0</td>\n",
              "      <td>0.1</td>\n",
              "      <td>584.259210</td>\n",
              "      <td>33736494.0</td>\n",
              "      <td>17.2</td>\n",
              "      <td>17.3</td>\n",
              "      <td>0.479</td>\n",
              "      <td>10.1</td>\n",
              "    </tr>\n",
              "    <tr>\n",
              "      <th>1</th>\n",
              "      <td>Afghanistan</td>\n",
              "      <td>2014</td>\n",
              "      <td>Developing</td>\n",
              "      <td>59.9</td>\n",
              "      <td>271.0</td>\n",
              "      <td>64</td>\n",
              "      <td>0.01</td>\n",
              "      <td>73.523582</td>\n",
              "      <td>62.0</td>\n",
              "      <td>492</td>\n",
              "      <td>18.6</td>\n",
              "      <td>86</td>\n",
              "      <td>58.0</td>\n",
              "      <td>8.18</td>\n",
              "      <td>62.0</td>\n",
              "      <td>0.1</td>\n",
              "      <td>612.696514</td>\n",
              "      <td>327582.0</td>\n",
              "      <td>17.5</td>\n",
              "      <td>17.5</td>\n",
              "      <td>0.476</td>\n",
              "      <td>10.0</td>\n",
              "    </tr>\n",
              "    <tr>\n",
              "      <th>2</th>\n",
              "      <td>Afghanistan</td>\n",
              "      <td>2013</td>\n",
              "      <td>Developing</td>\n",
              "      <td>59.9</td>\n",
              "      <td>268.0</td>\n",
              "      <td>66</td>\n",
              "      <td>0.01</td>\n",
              "      <td>73.219243</td>\n",
              "      <td>64.0</td>\n",
              "      <td>430</td>\n",
              "      <td>18.1</td>\n",
              "      <td>89</td>\n",
              "      <td>62.0</td>\n",
              "      <td>8.13</td>\n",
              "      <td>64.0</td>\n",
              "      <td>0.1</td>\n",
              "      <td>631.744976</td>\n",
              "      <td>31731688.0</td>\n",
              "      <td>17.7</td>\n",
              "      <td>17.7</td>\n",
              "      <td>0.470</td>\n",
              "      <td>9.9</td>\n",
              "    </tr>\n",
              "    <tr>\n",
              "      <th>3</th>\n",
              "      <td>Afghanistan</td>\n",
              "      <td>2012</td>\n",
              "      <td>Developing</td>\n",
              "      <td>59.5</td>\n",
              "      <td>272.0</td>\n",
              "      <td>69</td>\n",
              "      <td>0.01</td>\n",
              "      <td>78.184215</td>\n",
              "      <td>67.0</td>\n",
              "      <td>2787</td>\n",
              "      <td>17.6</td>\n",
              "      <td>93</td>\n",
              "      <td>67.0</td>\n",
              "      <td>8.52</td>\n",
              "      <td>67.0</td>\n",
              "      <td>0.1</td>\n",
              "      <td>669.959000</td>\n",
              "      <td>3696958.0</td>\n",
              "      <td>17.9</td>\n",
              "      <td>18.0</td>\n",
              "      <td>0.463</td>\n",
              "      <td>9.8</td>\n",
              "    </tr>\n",
              "    <tr>\n",
              "      <th>4</th>\n",
              "      <td>Afghanistan</td>\n",
              "      <td>2011</td>\n",
              "      <td>Developing</td>\n",
              "      <td>59.2</td>\n",
              "      <td>275.0</td>\n",
              "      <td>71</td>\n",
              "      <td>0.01</td>\n",
              "      <td>7.097109</td>\n",
              "      <td>68.0</td>\n",
              "      <td>3013</td>\n",
              "      <td>17.2</td>\n",
              "      <td>97</td>\n",
              "      <td>68.0</td>\n",
              "      <td>7.87</td>\n",
              "      <td>68.0</td>\n",
              "      <td>0.1</td>\n",
              "      <td>63.537231</td>\n",
              "      <td>2978599.0</td>\n",
              "      <td>18.2</td>\n",
              "      <td>18.2</td>\n",
              "      <td>0.454</td>\n",
              "      <td>9.5</td>\n",
              "    </tr>\n",
              "  </tbody>\n",
              "</table>\n",
              "</div>"
            ],
            "text/plain": [
              "       Country  Year  ... Income composition of resources  Schooling\n",
              "0  Afghanistan  2015  ...                           0.479       10.1\n",
              "1  Afghanistan  2014  ...                           0.476       10.0\n",
              "2  Afghanistan  2013  ...                           0.470        9.9\n",
              "3  Afghanistan  2012  ...                           0.463        9.8\n",
              "4  Afghanistan  2011  ...                           0.454        9.5\n",
              "\n",
              "[5 rows x 22 columns]"
            ]
          },
          "metadata": {
            "tags": []
          },
          "execution_count": 266
        }
      ]
    },
    {
      "cell_type": "code",
      "metadata": {
        "id": "xPrFoyrwAdue",
        "colab_type": "code",
        "colab": {
          "base_uri": "https://localhost:8080/",
          "height": 34
        },
        "outputId": "4878a115-d21b-45db-ca3e-6c24602b6e12"
      },
      "source": [
        "data.shape"
      ],
      "execution_count": 267,
      "outputs": [
        {
          "output_type": "execute_result",
          "data": {
            "text/plain": [
              "(2938, 22)"
            ]
          },
          "metadata": {
            "tags": []
          },
          "execution_count": 267
        }
      ]
    },
    {
      "cell_type": "markdown",
      "metadata": {
        "id": "hFrLy9XI58zo",
        "colab_type": "text"
      },
      "source": [
        "## Data Cleaning\n",
        "### The Basics: Missing/Duplicated Values, Cardinality, Summary Statistics"
      ]
    },
    {
      "cell_type": "code",
      "metadata": {
        "id": "tii4lBHe6vHS",
        "colab_type": "code",
        "colab": {
          "base_uri": "https://localhost:8080/",
          "height": 136
        },
        "outputId": "d6da90ce-ab97-4c4a-ed35-9edff33188f0"
      },
      "source": [
        "data.columns"
      ],
      "execution_count": 268,
      "outputs": [
        {
          "output_type": "execute_result",
          "data": {
            "text/plain": [
              "Index(['Country', 'Year', 'Status', 'Life expectancy ', 'Adult Mortality',\n",
              "       'infant deaths', 'Alcohol', 'percentage expenditure', 'Hepatitis B',\n",
              "       'Measles ', ' BMI ', 'under-five deaths ', 'Polio', 'Total expenditure',\n",
              "       'Diphtheria ', ' HIV/AIDS', 'GDP', 'Population',\n",
              "       ' thinness  1-19 years', ' thinness 5-9 years',\n",
              "       'Income composition of resources', 'Schooling'],\n",
              "      dtype='object')"
            ]
          },
          "metadata": {
            "tags": []
          },
          "execution_count": 268
        }
      ]
    },
    {
      "cell_type": "code",
      "metadata": {
        "id": "Ov6OpP5-6vKX",
        "colab_type": "code",
        "colab": {}
      },
      "source": [
        "#Rename Columns\n",
        "data = data.rename(columns={'Life expectancy ': \"LifeExpectancy\", \"Adult Mortality\": \"AdultMortality\", \"infant deaths\": \"InfantDeaths\", \"percentage expenditure\": \"Expenditure\",\n",
        "                          \"Hepatitis B\": \"HepB\", \"Measles \": \"Measles\" , \" BMI \": \"BMI\", \"under-five deaths \": \"5deaths\",\n",
        "                         \"Total expenditure\": \"TExpenditure\", \"Diphtheria \": \"Diphtheria\", \" HIV/AIDS\":\"HIV\", \" thinness  1-19 years\":\"ThinJuvenile\",\n",
        "                         \" thinness 5-9 years\":\"ThinChild\", \"Income composition of resources\":\"IncomeComp\"})"
      ],
      "execution_count": 0,
      "outputs": []
    },
    {
      "cell_type": "code",
      "metadata": {
        "id": "I-Yu8oQi42WS",
        "colab_type": "code",
        "colab": {
          "base_uri": "https://localhost:8080/",
          "height": 34
        },
        "outputId": "d4bab757-720e-41d5-c790-6d72330509a2"
      },
      "source": [
        "#Check for duplicates\n",
        "data[data.duplicated()].shape"
      ],
      "execution_count": 270,
      "outputs": [
        {
          "output_type": "execute_result",
          "data": {
            "text/plain": [
              "(0, 22)"
            ]
          },
          "metadata": {
            "tags": []
          },
          "execution_count": 270
        }
      ]
    },
    {
      "cell_type": "code",
      "metadata": {
        "id": "Nzzt4RfR6A8e",
        "colab_type": "code",
        "colab": {
          "base_uri": "https://localhost:8080/",
          "height": 51
        },
        "outputId": "c9405e02-b8c1-435d-8cf1-f916bbb4244d"
      },
      "source": [
        "#Check Cardinality \n",
        "def cardinality_categorical(df):\n",
        "    n_records = len(df)\n",
        "    for column in df.select_dtypes([object]):\n",
        "        print(\"{} | uniques/records: {:.3f} | Minimum observations: {:.3f}\".format(\n",
        "            column, \n",
        "            len(df[column].unique())/n_records,\n",
        "            df[column].value_counts().min()\n",
        "        ))        \n",
        "\n",
        "cardinality_categorical(data)"
      ],
      "execution_count": 271,
      "outputs": [
        {
          "output_type": "stream",
          "text": [
            "Country | uniques/records: 0.066 | Minimum observations: 1.000\n",
            "Status | uniques/records: 0.001 | Minimum observations: 512.000\n"
          ],
          "name": "stdout"
        }
      ]
    },
    {
      "cell_type": "code",
      "metadata": {
        "id": "BKbbqgsW6GBm",
        "colab_type": "code",
        "colab": {
          "base_uri": "https://localhost:8080/",
          "height": 391
        },
        "outputId": "f4803d33-e6b0-41ab-8c1c-e88308832de4"
      },
      "source": [
        "n_records = len(data)\n",
        "def missing_values_df(df):\n",
        "    for column in df:\n",
        "        print(\"{} | {} | {}\".format(\n",
        "            column, len(df[df[column].isnull()]) / (1.0*n_records), df[column].dtype\n",
        "        ))\n",
        "\n",
        "missing_values_df(data)"
      ],
      "execution_count": 272,
      "outputs": [
        {
          "output_type": "stream",
          "text": [
            "Country | 0.0 | object\n",
            "Year | 0.0 | int64\n",
            "Status | 0.0 | object\n",
            "LifeExpectancy | 0.0034036759700476512 | float64\n",
            "AdultMortality | 0.0034036759700476512 | float64\n",
            "InfantDeaths | 0.0 | int64\n",
            "Alcohol | 0.06603131381892444 | float64\n",
            "Expenditure | 0.0 | float64\n",
            "HepB | 0.18822328114363512 | float64\n",
            "Measles | 0.0 | int64\n",
            "BMI | 0.011572498298162015 | float64\n",
            "5deaths | 0.0 | int64\n",
            "Polio | 0.006466984343090538 | float64\n",
            "TExpenditure | 0.07692307692307693 | float64\n",
            "Diphtheria | 0.006466984343090538 | float64\n",
            "HIV | 0.0 | float64\n",
            "GDP | 0.1524846834581348 | float64\n",
            "Population | 0.22191967324710687 | float64\n",
            "ThinJuvenile | 0.011572498298162015 | float64\n",
            "ThinChild | 0.011572498298162015 | float64\n",
            "IncomeComp | 0.056841388699795777 | float64\n",
            "Schooling | 0.05547991831177672 | float64\n"
          ],
          "name": "stdout"
        }
      ]
    },
    {
      "cell_type": "markdown",
      "metadata": {
        "id": "pfXjYlLC7n9p",
        "colab_type": "text"
      },
      "source": [
        "Here the most problematic columns are those with more than 5% missing values. This includes \n",
        "* Alcohol, recorded per capita (15+) consumption (in litres of pure alcohol)\n",
        "* Hepatitis B (HepB) immunization coverage among 1-year-olds (%)\n",
        "* Total Expenditure - General government expenditure on health as a percentage of total government expenditure (%)\n",
        "* Gross Domestic Product per capita (in USD)\n",
        "* Population of the country\n",
        "* Human Development Index in terms of income composition of resources (index ranging from 0 to 1)\n",
        "* Number of years of Schooling(years)"
      ]
    },
    {
      "cell_type": "code",
      "metadata": {
        "id": "TSfNK_4D_BXj",
        "colab_type": "code",
        "colab": {}
      },
      "source": [
        "# Create a column that counts the number of NaN values in each row \n",
        "data['NAcount'] = 23 - data.apply(lambda x: x.count(), axis=1)"
      ],
      "execution_count": 0,
      "outputs": []
    },
    {
      "cell_type": "code",
      "metadata": {
        "id": "yklO_bQ5BaDs",
        "colab_type": "code",
        "colab": {
          "base_uri": "https://localhost:8080/",
          "height": 317
        },
        "outputId": "7cda273d-8cd3-4615-c498-cb2ff2ba5548"
      },
      "source": [
        "data.describe()"
      ],
      "execution_count": 274,
      "outputs": [
        {
          "output_type": "execute_result",
          "data": {
            "text/html": [
              "<div>\n",
              "<style scoped>\n",
              "    .dataframe tbody tr th:only-of-type {\n",
              "        vertical-align: middle;\n",
              "    }\n",
              "\n",
              "    .dataframe tbody tr th {\n",
              "        vertical-align: top;\n",
              "    }\n",
              "\n",
              "    .dataframe thead th {\n",
              "        text-align: right;\n",
              "    }\n",
              "</style>\n",
              "<table border=\"1\" class=\"dataframe\">\n",
              "  <thead>\n",
              "    <tr style=\"text-align: right;\">\n",
              "      <th></th>\n",
              "      <th>Year</th>\n",
              "      <th>LifeExpectancy</th>\n",
              "      <th>AdultMortality</th>\n",
              "      <th>InfantDeaths</th>\n",
              "      <th>Alcohol</th>\n",
              "      <th>Expenditure</th>\n",
              "      <th>HepB</th>\n",
              "      <th>Measles</th>\n",
              "      <th>BMI</th>\n",
              "      <th>5deaths</th>\n",
              "      <th>Polio</th>\n",
              "      <th>TExpenditure</th>\n",
              "      <th>Diphtheria</th>\n",
              "      <th>HIV</th>\n",
              "      <th>GDP</th>\n",
              "      <th>Population</th>\n",
              "      <th>ThinJuvenile</th>\n",
              "      <th>ThinChild</th>\n",
              "      <th>IncomeComp</th>\n",
              "      <th>Schooling</th>\n",
              "      <th>NAcount</th>\n",
              "    </tr>\n",
              "  </thead>\n",
              "  <tbody>\n",
              "    <tr>\n",
              "      <th>count</th>\n",
              "      <td>2938.000000</td>\n",
              "      <td>2928.000000</td>\n",
              "      <td>2928.000000</td>\n",
              "      <td>2938.000000</td>\n",
              "      <td>2744.000000</td>\n",
              "      <td>2938.000000</td>\n",
              "      <td>2385.000000</td>\n",
              "      <td>2938.000000</td>\n",
              "      <td>2904.000000</td>\n",
              "      <td>2938.000000</td>\n",
              "      <td>2919.000000</td>\n",
              "      <td>2712.00000</td>\n",
              "      <td>2919.000000</td>\n",
              "      <td>2938.000000</td>\n",
              "      <td>2490.000000</td>\n",
              "      <td>2.286000e+03</td>\n",
              "      <td>2904.000000</td>\n",
              "      <td>2904.000000</td>\n",
              "      <td>2771.000000</td>\n",
              "      <td>2775.000000</td>\n",
              "      <td>2938.000000</td>\n",
              "    </tr>\n",
              "    <tr>\n",
              "      <th>mean</th>\n",
              "      <td>2007.518720</td>\n",
              "      <td>69.224932</td>\n",
              "      <td>164.796448</td>\n",
              "      <td>30.303948</td>\n",
              "      <td>4.602861</td>\n",
              "      <td>738.251295</td>\n",
              "      <td>80.940461</td>\n",
              "      <td>2419.592240</td>\n",
              "      <td>38.321247</td>\n",
              "      <td>42.035739</td>\n",
              "      <td>82.550188</td>\n",
              "      <td>5.93819</td>\n",
              "      <td>82.324084</td>\n",
              "      <td>1.742103</td>\n",
              "      <td>7483.158469</td>\n",
              "      <td>1.275338e+07</td>\n",
              "      <td>4.839704</td>\n",
              "      <td>4.870317</td>\n",
              "      <td>0.627551</td>\n",
              "      <td>11.992793</td>\n",
              "      <td>1.872362</td>\n",
              "    </tr>\n",
              "    <tr>\n",
              "      <th>std</th>\n",
              "      <td>4.613841</td>\n",
              "      <td>9.523867</td>\n",
              "      <td>124.292079</td>\n",
              "      <td>117.926501</td>\n",
              "      <td>4.052413</td>\n",
              "      <td>1987.914858</td>\n",
              "      <td>25.070016</td>\n",
              "      <td>11467.272489</td>\n",
              "      <td>20.044034</td>\n",
              "      <td>160.445548</td>\n",
              "      <td>23.428046</td>\n",
              "      <td>2.49832</td>\n",
              "      <td>23.716912</td>\n",
              "      <td>5.077785</td>\n",
              "      <td>14270.169342</td>\n",
              "      <td>6.101210e+07</td>\n",
              "      <td>4.420195</td>\n",
              "      <td>4.508882</td>\n",
              "      <td>0.210904</td>\n",
              "      <td>3.358920</td>\n",
              "      <td>1.369339</td>\n",
              "    </tr>\n",
              "    <tr>\n",
              "      <th>min</th>\n",
              "      <td>2000.000000</td>\n",
              "      <td>36.300000</td>\n",
              "      <td>1.000000</td>\n",
              "      <td>0.000000</td>\n",
              "      <td>0.010000</td>\n",
              "      <td>0.000000</td>\n",
              "      <td>1.000000</td>\n",
              "      <td>0.000000</td>\n",
              "      <td>1.000000</td>\n",
              "      <td>0.000000</td>\n",
              "      <td>3.000000</td>\n",
              "      <td>0.37000</td>\n",
              "      <td>2.000000</td>\n",
              "      <td>0.100000</td>\n",
              "      <td>1.681350</td>\n",
              "      <td>3.400000e+01</td>\n",
              "      <td>0.100000</td>\n",
              "      <td>0.100000</td>\n",
              "      <td>0.000000</td>\n",
              "      <td>0.000000</td>\n",
              "      <td>1.000000</td>\n",
              "    </tr>\n",
              "    <tr>\n",
              "      <th>25%</th>\n",
              "      <td>2004.000000</td>\n",
              "      <td>63.100000</td>\n",
              "      <td>74.000000</td>\n",
              "      <td>0.000000</td>\n",
              "      <td>0.877500</td>\n",
              "      <td>4.685343</td>\n",
              "      <td>77.000000</td>\n",
              "      <td>0.000000</td>\n",
              "      <td>19.300000</td>\n",
              "      <td>0.000000</td>\n",
              "      <td>78.000000</td>\n",
              "      <td>4.26000</td>\n",
              "      <td>78.000000</td>\n",
              "      <td>0.100000</td>\n",
              "      <td>463.935626</td>\n",
              "      <td>1.957932e+05</td>\n",
              "      <td>1.600000</td>\n",
              "      <td>1.500000</td>\n",
              "      <td>0.493000</td>\n",
              "      <td>10.100000</td>\n",
              "      <td>1.000000</td>\n",
              "    </tr>\n",
              "    <tr>\n",
              "      <th>50%</th>\n",
              "      <td>2008.000000</td>\n",
              "      <td>72.100000</td>\n",
              "      <td>144.000000</td>\n",
              "      <td>3.000000</td>\n",
              "      <td>3.755000</td>\n",
              "      <td>64.912906</td>\n",
              "      <td>92.000000</td>\n",
              "      <td>17.000000</td>\n",
              "      <td>43.500000</td>\n",
              "      <td>4.000000</td>\n",
              "      <td>93.000000</td>\n",
              "      <td>5.75500</td>\n",
              "      <td>93.000000</td>\n",
              "      <td>0.100000</td>\n",
              "      <td>1766.947595</td>\n",
              "      <td>1.386542e+06</td>\n",
              "      <td>3.300000</td>\n",
              "      <td>3.300000</td>\n",
              "      <td>0.677000</td>\n",
              "      <td>12.300000</td>\n",
              "      <td>1.000000</td>\n",
              "    </tr>\n",
              "    <tr>\n",
              "      <th>75%</th>\n",
              "      <td>2012.000000</td>\n",
              "      <td>75.700000</td>\n",
              "      <td>228.000000</td>\n",
              "      <td>22.000000</td>\n",
              "      <td>7.702500</td>\n",
              "      <td>441.534144</td>\n",
              "      <td>97.000000</td>\n",
              "      <td>360.250000</td>\n",
              "      <td>56.200000</td>\n",
              "      <td>28.000000</td>\n",
              "      <td>97.000000</td>\n",
              "      <td>7.49250</td>\n",
              "      <td>97.000000</td>\n",
              "      <td>0.800000</td>\n",
              "      <td>5910.806335</td>\n",
              "      <td>7.420359e+06</td>\n",
              "      <td>7.200000</td>\n",
              "      <td>7.200000</td>\n",
              "      <td>0.779000</td>\n",
              "      <td>14.300000</td>\n",
              "      <td>2.000000</td>\n",
              "    </tr>\n",
              "    <tr>\n",
              "      <th>max</th>\n",
              "      <td>2015.000000</td>\n",
              "      <td>89.000000</td>\n",
              "      <td>723.000000</td>\n",
              "      <td>1800.000000</td>\n",
              "      <td>17.870000</td>\n",
              "      <td>19479.911610</td>\n",
              "      <td>99.000000</td>\n",
              "      <td>212183.000000</td>\n",
              "      <td>87.300000</td>\n",
              "      <td>2500.000000</td>\n",
              "      <td>99.000000</td>\n",
              "      <td>17.60000</td>\n",
              "      <td>99.000000</td>\n",
              "      <td>50.600000</td>\n",
              "      <td>119172.741800</td>\n",
              "      <td>1.293859e+09</td>\n",
              "      <td>27.700000</td>\n",
              "      <td>28.600000</td>\n",
              "      <td>0.948000</td>\n",
              "      <td>20.700000</td>\n",
              "      <td>10.000000</td>\n",
              "    </tr>\n",
              "  </tbody>\n",
              "</table>\n",
              "</div>"
            ],
            "text/plain": [
              "              Year  LifeExpectancy  ...    Schooling      NAcount\n",
              "count  2938.000000     2928.000000  ...  2775.000000  2938.000000\n",
              "mean   2007.518720       69.224932  ...    11.992793     1.872362\n",
              "std       4.613841        9.523867  ...     3.358920     1.369339\n",
              "min    2000.000000       36.300000  ...     0.000000     1.000000\n",
              "25%    2004.000000       63.100000  ...    10.100000     1.000000\n",
              "50%    2008.000000       72.100000  ...    12.300000     1.000000\n",
              "75%    2012.000000       75.700000  ...    14.300000     2.000000\n",
              "max    2015.000000       89.000000  ...    20.700000    10.000000\n",
              "\n",
              "[8 rows x 21 columns]"
            ]
          },
          "metadata": {
            "tags": []
          },
          "execution_count": 274
        }
      ]
    },
    {
      "cell_type": "code",
      "metadata": {
        "id": "vu8crjIV_BkF",
        "colab_type": "code",
        "colab": {}
      },
      "source": [
        "# Subset to the rows with max of 3 missing values\n",
        "data= data[data['NAcount'] <= 3]"
      ],
      "execution_count": 0,
      "outputs": []
    },
    {
      "cell_type": "code",
      "metadata": {
        "id": "1qEyBXVOArjN",
        "colab_type": "code",
        "colab": {
          "base_uri": "https://localhost:8080/",
          "height": 34
        },
        "outputId": "93b9133b-b004-45e5-e4da-03fa0023ef3e"
      },
      "source": [
        "# Drop unneeded column \n",
        "data = data.drop(columns='NAcount')\n",
        "data.shape"
      ],
      "execution_count": 276,
      "outputs": [
        {
          "output_type": "execute_result",
          "data": {
            "text/plain": [
              "(2666, 22)"
            ]
          },
          "metadata": {
            "tags": []
          },
          "execution_count": 276
        }
      ]
    },
    {
      "cell_type": "code",
      "metadata": {
        "id": "4bglNgMXBxrE",
        "colab_type": "code",
        "colab": {
          "base_uri": "https://localhost:8080/",
          "height": 391
        },
        "outputId": "ed427568-d41c-43f2-ebc1-f49d5b20cf9f"
      },
      "source": [
        "missing_values_df(data)"
      ],
      "execution_count": 277,
      "outputs": [
        {
          "output_type": "stream",
          "text": [
            "Country | 0.0 | object\n",
            "Year | 0.0 | int64\n",
            "Status | 0.0 | object\n",
            "LifeExpectancy | 0.0 | float64\n",
            "AdultMortality | 0.0 | float64\n",
            "InfantDeaths | 0.0 | int64\n",
            "Alcohol | 0.043567052416609936 | float64\n",
            "Expenditure | 0.0 | float64\n",
            "HepB | 0.1531654186521443 | float64\n",
            "Measles | 0.0 | int64\n",
            "BMI | 0.0 | float64\n",
            "5deaths | 0.0 | int64\n",
            "Polio | 0.0 | float64\n",
            "TExpenditure | 0.045609257998638526 | float64\n",
            "Diphtheria | 0.0 | float64\n",
            "HIV | 0.0 | float64\n",
            "GDP | 0.07964601769911504 | float64\n",
            "Population | 0.14669843430905377 | float64\n",
            "ThinJuvenile | 0.0 | float64\n",
            "ThinChild | 0.0 | float64\n",
            "IncomeComp | 0.0 | float64\n",
            "Schooling | 0.0 | float64\n"
          ],
          "name": "stdout"
        }
      ]
    },
    {
      "cell_type": "markdown",
      "metadata": {
        "id": "pDZNfUvYGJKU",
        "colab_type": "text"
      },
      "source": [
        ""
      ]
    },
    {
      "cell_type": "code",
      "metadata": {
        "id": "JW_Q6LJtCaEo",
        "colab_type": "code",
        "colab": {
          "base_uri": "https://localhost:8080/",
          "height": 419
        },
        "outputId": "249ae267-fc62-4654-8d1e-96baeaac6aba"
      },
      "source": [
        "df2 = data.HepB.isnull().groupby([data['Country']]).sum().astype(int).reset_index(name='HepB_NA')\n",
        "df3= data.GDP.isnull().groupby([data['Country']]).sum().astype(int).reset_index(name='GDPNAcount')\n",
        "df2['NA_GDP'] = df3['GDPNAcount']\n",
        "df2"
      ],
      "execution_count": 278,
      "outputs": [
        {
          "output_type": "execute_result",
          "data": {
            "text/html": [
              "<div>\n",
              "<style scoped>\n",
              "    .dataframe tbody tr th:only-of-type {\n",
              "        vertical-align: middle;\n",
              "    }\n",
              "\n",
              "    .dataframe tbody tr th {\n",
              "        vertical-align: top;\n",
              "    }\n",
              "\n",
              "    .dataframe thead th {\n",
              "        text-align: right;\n",
              "    }\n",
              "</style>\n",
              "<table border=\"1\" class=\"dataframe\">\n",
              "  <thead>\n",
              "    <tr style=\"text-align: right;\">\n",
              "      <th></th>\n",
              "      <th>Country</th>\n",
              "      <th>HepB_NA</th>\n",
              "      <th>NA_GDP</th>\n",
              "    </tr>\n",
              "  </thead>\n",
              "  <tbody>\n",
              "    <tr>\n",
              "      <th>0</th>\n",
              "      <td>Afghanistan</td>\n",
              "      <td>0</td>\n",
              "      <td>0</td>\n",
              "    </tr>\n",
              "    <tr>\n",
              "      <th>1</th>\n",
              "      <td>Albania</td>\n",
              "      <td>0</td>\n",
              "      <td>0</td>\n",
              "    </tr>\n",
              "    <tr>\n",
              "      <th>2</th>\n",
              "      <td>Algeria</td>\n",
              "      <td>4</td>\n",
              "      <td>0</td>\n",
              "    </tr>\n",
              "    <tr>\n",
              "      <th>3</th>\n",
              "      <td>Angola</td>\n",
              "      <td>7</td>\n",
              "      <td>0</td>\n",
              "    </tr>\n",
              "    <tr>\n",
              "      <th>4</th>\n",
              "      <td>Antigua and Barbuda</td>\n",
              "      <td>1</td>\n",
              "      <td>0</td>\n",
              "    </tr>\n",
              "    <tr>\n",
              "      <th>...</th>\n",
              "      <td>...</td>\n",
              "      <td>...</td>\n",
              "      <td>...</td>\n",
              "    </tr>\n",
              "    <tr>\n",
              "      <th>166</th>\n",
              "      <td>Venezuela (Bolivarian Republic of)</td>\n",
              "      <td>0</td>\n",
              "      <td>15</td>\n",
              "    </tr>\n",
              "    <tr>\n",
              "      <th>167</th>\n",
              "      <td>Viet Nam</td>\n",
              "      <td>0</td>\n",
              "      <td>12</td>\n",
              "    </tr>\n",
              "    <tr>\n",
              "      <th>168</th>\n",
              "      <td>Yemen</td>\n",
              "      <td>0</td>\n",
              "      <td>15</td>\n",
              "    </tr>\n",
              "    <tr>\n",
              "      <th>169</th>\n",
              "      <td>Zambia</td>\n",
              "      <td>5</td>\n",
              "      <td>0</td>\n",
              "    </tr>\n",
              "    <tr>\n",
              "      <th>170</th>\n",
              "      <td>Zimbabwe</td>\n",
              "      <td>0</td>\n",
              "      <td>0</td>\n",
              "    </tr>\n",
              "  </tbody>\n",
              "</table>\n",
              "<p>171 rows × 3 columns</p>\n",
              "</div>"
            ],
            "text/plain": [
              "                                Country  HepB_NA  NA_GDP\n",
              "0                           Afghanistan        0       0\n",
              "1                               Albania        0       0\n",
              "2                               Algeria        4       0\n",
              "3                                Angola        7       0\n",
              "4                   Antigua and Barbuda        1       0\n",
              "..                                  ...      ...     ...\n",
              "166  Venezuela (Bolivarian Republic of)        0      15\n",
              "167                            Viet Nam        0      12\n",
              "168                               Yemen        0      15\n",
              "169                              Zambia        5       0\n",
              "170                            Zimbabwe        0       0\n",
              "\n",
              "[171 rows x 3 columns]"
            ]
          },
          "metadata": {
            "tags": []
          },
          "execution_count": 278
        }
      ]
    },
    {
      "cell_type": "markdown",
      "metadata": {
        "id": "BMybghhiBsVf",
        "colab_type": "text"
      },
      "source": [
        "### Correlation Plot"
      ]
    },
    {
      "cell_type": "code",
      "metadata": {
        "id": "8c5m1IJHBsmi",
        "colab_type": "code",
        "colab": {}
      },
      "source": [
        "import matplotlib.pyplot as plt\n",
        "import seaborn as sns"
      ],
      "execution_count": 0,
      "outputs": []
    },
    {
      "cell_type": "code",
      "metadata": {
        "id": "wj4RYrxpB2rR",
        "colab_type": "code",
        "colab": {}
      },
      "source": [
        "cont_vars = list(data.columns)[3:]"
      ],
      "execution_count": 0,
      "outputs": []
    },
    {
      "cell_type": "code",
      "metadata": {
        "id": "MyPS5zheBs0c",
        "colab_type": "code",
        "colab": {
          "base_uri": "https://localhost:8080/",
          "height": 352
        },
        "outputId": "dfbd3ddd-dddf-486d-c155-a27a67f62fb2"
      },
      "source": [
        "sns.heatmap(data[cont_vars].corr(), annot=False, fmt='.2g', vmin=-1, vmax=1, center=0, cmap='coolwarm')"
      ],
      "execution_count": 281,
      "outputs": [
        {
          "output_type": "execute_result",
          "data": {
            "text/plain": [
              "<matplotlib.axes._subplots.AxesSubplot at 0x7f49240f6550>"
            ]
          },
          "metadata": {
            "tags": []
          },
          "execution_count": 281
        },
        {
          "output_type": "display_data",
          "data": {
            "image/png": "[encoded data removed]",
            "text/plain": [
              "<Figure size 432x288 with 2 Axes>"
            ]
          },
          "metadata": {
            "tags": [],
            "needs_background": "light"
          }
        }
      ]
    },
    {
      "cell_type": "code",
      "metadata": {
        "id": "vbAoZbISCIaD",
        "colab_type": "code",
        "colab": {
          "base_uri": "https://localhost:8080/",
          "height": 450
        },
        "outputId": "0c085fcf-72f0-450a-f123-6d144f8e0791"
      },
      "source": [
        "groupby = data.groupby('Country').count()[['LifeExpectancy','GDP', 'Alcohol', 'IncomeComp', 'Schooling']]\n",
        "groupby"
      ],
      "execution_count": 282,
      "outputs": [
        {
          "output_type": "execute_result",
          "data": {
            "text/html": [
              "<div>\n",
              "<style scoped>\n",
              "    .dataframe tbody tr th:only-of-type {\n",
              "        vertical-align: middle;\n",
              "    }\n",
              "\n",
              "    .dataframe tbody tr th {\n",
              "        vertical-align: top;\n",
              "    }\n",
              "\n",
              "    .dataframe thead th {\n",
              "        text-align: right;\n",
              "    }\n",
              "</style>\n",
              "<table border=\"1\" class=\"dataframe\">\n",
              "  <thead>\n",
              "    <tr style=\"text-align: right;\">\n",
              "      <th></th>\n",
              "      <th>LifeExpectancy</th>\n",
              "      <th>GDP</th>\n",
              "      <th>Alcohol</th>\n",
              "      <th>IncomeComp</th>\n",
              "      <th>Schooling</th>\n",
              "    </tr>\n",
              "    <tr>\n",
              "      <th>Country</th>\n",
              "      <th></th>\n",
              "      <th></th>\n",
              "      <th></th>\n",
              "      <th></th>\n",
              "      <th></th>\n",
              "    </tr>\n",
              "  </thead>\n",
              "  <tbody>\n",
              "    <tr>\n",
              "      <th>Afghanistan</th>\n",
              "      <td>16</td>\n",
              "      <td>16</td>\n",
              "      <td>16</td>\n",
              "      <td>16</td>\n",
              "      <td>16</td>\n",
              "    </tr>\n",
              "    <tr>\n",
              "      <th>Albania</th>\n",
              "      <td>16</td>\n",
              "      <td>16</td>\n",
              "      <td>16</td>\n",
              "      <td>16</td>\n",
              "      <td>16</td>\n",
              "    </tr>\n",
              "    <tr>\n",
              "      <th>Algeria</th>\n",
              "      <td>16</td>\n",
              "      <td>16</td>\n",
              "      <td>15</td>\n",
              "      <td>16</td>\n",
              "      <td>16</td>\n",
              "    </tr>\n",
              "    <tr>\n",
              "      <th>Angola</th>\n",
              "      <td>16</td>\n",
              "      <td>16</td>\n",
              "      <td>15</td>\n",
              "      <td>16</td>\n",
              "      <td>16</td>\n",
              "    </tr>\n",
              "    <tr>\n",
              "      <th>Antigua and Barbuda</th>\n",
              "      <td>15</td>\n",
              "      <td>15</td>\n",
              "      <td>15</td>\n",
              "      <td>15</td>\n",
              "      <td>15</td>\n",
              "    </tr>\n",
              "    <tr>\n",
              "      <th>...</th>\n",
              "      <td>...</td>\n",
              "      <td>...</td>\n",
              "      <td>...</td>\n",
              "      <td>...</td>\n",
              "      <td>...</td>\n",
              "    </tr>\n",
              "    <tr>\n",
              "      <th>Venezuela (Bolivarian Republic of)</th>\n",
              "      <td>15</td>\n",
              "      <td>0</td>\n",
              "      <td>15</td>\n",
              "      <td>15</td>\n",
              "      <td>15</td>\n",
              "    </tr>\n",
              "    <tr>\n",
              "      <th>Viet Nam</th>\n",
              "      <td>12</td>\n",
              "      <td>0</td>\n",
              "      <td>12</td>\n",
              "      <td>12</td>\n",
              "      <td>12</td>\n",
              "    </tr>\n",
              "    <tr>\n",
              "      <th>Yemen</th>\n",
              "      <td>15</td>\n",
              "      <td>0</td>\n",
              "      <td>15</td>\n",
              "      <td>15</td>\n",
              "      <td>15</td>\n",
              "    </tr>\n",
              "    <tr>\n",
              "      <th>Zambia</th>\n",
              "      <td>16</td>\n",
              "      <td>16</td>\n",
              "      <td>15</td>\n",
              "      <td>16</td>\n",
              "      <td>16</td>\n",
              "    </tr>\n",
              "    <tr>\n",
              "      <th>Zimbabwe</th>\n",
              "      <td>16</td>\n",
              "      <td>16</td>\n",
              "      <td>15</td>\n",
              "      <td>16</td>\n",
              "      <td>16</td>\n",
              "    </tr>\n",
              "  </tbody>\n",
              "</table>\n",
              "<p>171 rows × 5 columns</p>\n",
              "</div>"
            ],
            "text/plain": [
              "                                    LifeExpectancy  GDP  ...  IncomeComp  Schooling\n",
              "Country                                                  ...                       \n",
              "Afghanistan                                     16   16  ...          16         16\n",
              "Albania                                         16   16  ...          16         16\n",
              "Algeria                                         16   16  ...          16         16\n",
              "Angola                                          16   16  ...          16         16\n",
              "Antigua and Barbuda                             15   15  ...          15         15\n",
              "...                                            ...  ...  ...         ...        ...\n",
              "Venezuela (Bolivarian Republic of)              15    0  ...          15         15\n",
              "Viet Nam                                        12    0  ...          12         12\n",
              "Yemen                                           15    0  ...          15         15\n",
              "Zambia                                          16   16  ...          16         16\n",
              "Zimbabwe                                        16   16  ...          16         16\n",
              "\n",
              "[171 rows x 5 columns]"
            ]
          },
          "metadata": {
            "tags": []
          },
          "execution_count": 282
        }
      ]
    },
    {
      "cell_type": "code",
      "metadata": {
        "id": "XawmSRdkpRHl",
        "colab_type": "code",
        "colab": {}
      },
      "source": [
        "from sklearn.experimental import enable_iterative_imputer\n",
        "from sklearn.impute import IterativeImputer"
      ],
      "execution_count": 0,
      "outputs": []
    },
    {
      "cell_type": "code",
      "metadata": {
        "id": "Fs8oAE19tJDr",
        "colab_type": "code",
        "colab": {}
      },
      "source": [
        "# Initialize the Imputer\n",
        "iimputer = IterativeImputer(max_iter=15, random_state=0)"
      ],
      "execution_count": 0,
      "outputs": []
    },
    {
      "cell_type": "code",
      "metadata": {
        "id": "vrpFx0wtvIUI",
        "colab_type": "code",
        "colab": {}
      },
      "source": [
        "data= data.drop(columns='Country')"
      ],
      "execution_count": 0,
      "outputs": []
    },
    {
      "cell_type": "code",
      "metadata": {
        "id": "JpHKaprTqrKH",
        "colab_type": "code",
        "colab": {}
      },
      "source": [
        "#y = data.LifeExpectancy\n",
        "#y2 = data.Status\n",
        "y = data[['Status', 'LifeExpectancy']]\n",
        "X = data.drop(columns=['Status', 'LifeExpectancy'])"
      ],
      "execution_count": 0,
      "outputs": []
    },
    {
      "cell_type": "code",
      "metadata": {
        "id": "5h3D4wYJuCfO",
        "colab_type": "code",
        "colab": {}
      },
      "source": [
        "#Train-test split \n",
        "from sklearn.model_selection import train_test_split\n",
        "X_train, X_test, y_train, y_test = train_test_split(X, y, test_size = 0.2, random_state=33)"
      ],
      "execution_count": 0,
      "outputs": []
    },
    {
      "cell_type": "code",
      "metadata": {
        "id": "FVJXKvOVuUme",
        "colab_type": "code",
        "colab": {
          "base_uri": "https://localhost:8080/",
          "height": 119
        },
        "outputId": "571cbf30-f864-4ea6-c738-7eda2da7f822"
      },
      "source": [
        "# Fit the Imputer\n",
        "iimputer.fit(X_train)"
      ],
      "execution_count": 288,
      "outputs": [
        {
          "output_type": "execute_result",
          "data": {
            "text/plain": [
              "IterativeImputer(add_indicator=False, estimator=None,\n",
              "                 imputation_order='ascending', initial_strategy='mean',\n",
              "                 max_iter=15, max_value=None, min_value=None,\n",
              "                 missing_values=nan, n_nearest_features=None, random_state=0,\n",
              "                 sample_posterior=False, skip_complete=False, tol=0.001,\n",
              "                 verbose=0)"
            ]
          },
          "metadata": {
            "tags": []
          },
          "execution_count": 288
        }
      ]
    },
    {
      "cell_type": "code",
      "metadata": {
        "id": "9Ab6bzYlvDsK",
        "colab_type": "code",
        "colab": {
          "base_uri": "https://localhost:8080/",
          "height": 34
        },
        "outputId": "dcbb5a38-ca1f-478e-e1b9-6fc67222451f"
      },
      "source": [
        "# Actually change the data\n",
        "X_train = iimputer.transform(X_train)\n",
        "X_train = pd.DataFrame(X_train, columns=X.columns)\n",
        "X_train.shape"
      ],
      "execution_count": 289,
      "outputs": [
        {
          "output_type": "execute_result",
          "data": {
            "text/plain": [
              "(2132, 19)"
            ]
          },
          "metadata": {
            "tags": []
          },
          "execution_count": 289
        }
      ]
    },
    {
      "cell_type": "code",
      "metadata": {
        "id": "K6RYvX7Mwbyn",
        "colab_type": "code",
        "colab": {
          "base_uri": "https://localhost:8080/",
          "height": 34
        },
        "outputId": "f24caabd-39db-47b6-d922-6d3661d06b07"
      },
      "source": [
        "# Fit and transform test data \n",
        "X_test = iimputer.fit_transform(X_test)\n",
        "X_test = pd.DataFrame(X_test, columns=X.columns)\n",
        "X_test.shape"
      ],
      "execution_count": 290,
      "outputs": [
        {
          "output_type": "execute_result",
          "data": {
            "text/plain": [
              "(534, 19)"
            ]
          },
          "metadata": {
            "tags": []
          },
          "execution_count": 290
        }
      ]
    },
    {
      "cell_type": "code",
      "metadata": {
        "id": "1qzPgte1w6j9",
        "colab_type": "code",
        "colab": {
          "base_uri": "https://localhost:8080/",
          "height": 131
        },
        "outputId": "9664e704-a3d2-472f-90ac-2b47d1db884e"
      },
      "source": [
        "X_train.head(2)"
      ],
      "execution_count": 291,
      "outputs": [
        {
          "output_type": "execute_result",
          "data": {
            "text/html": [
              "<div>\n",
              "<style scoped>\n",
              "    .dataframe tbody tr th:only-of-type {\n",
              "        vertical-align: middle;\n",
              "    }\n",
              "\n",
              "    .dataframe tbody tr th {\n",
              "        vertical-align: top;\n",
              "    }\n",
              "\n",
              "    .dataframe thead th {\n",
              "        text-align: right;\n",
              "    }\n",
              "</style>\n",
              "<table border=\"1\" class=\"dataframe\">\n",
              "  <thead>\n",
              "    <tr style=\"text-align: right;\">\n",
              "      <th></th>\n",
              "      <th>Year</th>\n",
              "      <th>AdultMortality</th>\n",
              "      <th>InfantDeaths</th>\n",
              "      <th>Alcohol</th>\n",
              "      <th>Expenditure</th>\n",
              "      <th>HepB</th>\n",
              "      <th>Measles</th>\n",
              "      <th>BMI</th>\n",
              "      <th>5deaths</th>\n",
              "      <th>Polio</th>\n",
              "      <th>TExpenditure</th>\n",
              "      <th>Diphtheria</th>\n",
              "      <th>HIV</th>\n",
              "      <th>GDP</th>\n",
              "      <th>Population</th>\n",
              "      <th>ThinJuvenile</th>\n",
              "      <th>ThinChild</th>\n",
              "      <th>IncomeComp</th>\n",
              "      <th>Schooling</th>\n",
              "    </tr>\n",
              "  </thead>\n",
              "  <tbody>\n",
              "    <tr>\n",
              "      <th>0</th>\n",
              "      <td>2009.0</td>\n",
              "      <td>279.0</td>\n",
              "      <td>1.0</td>\n",
              "      <td>0.490000</td>\n",
              "      <td>177.267161</td>\n",
              "      <td>89.0</td>\n",
              "      <td>48.0</td>\n",
              "      <td>31.7</td>\n",
              "      <td>2.0</td>\n",
              "      <td>89.0</td>\n",
              "      <td>8.370000</td>\n",
              "      <td>89.0</td>\n",
              "      <td>3.2</td>\n",
              "      <td>1253.657431</td>\n",
              "      <td>83684.0</td>\n",
              "      <td>5.7</td>\n",
              "      <td>5.6</td>\n",
              "      <td>0.436</td>\n",
              "      <td>5.3</td>\n",
              "    </tr>\n",
              "    <tr>\n",
              "      <th>1</th>\n",
              "      <td>2015.0</td>\n",
              "      <td>53.0</td>\n",
              "      <td>0.0</td>\n",
              "      <td>5.872254</td>\n",
              "      <td>0.000000</td>\n",
              "      <td>67.0</td>\n",
              "      <td>22.0</td>\n",
              "      <td>59.5</td>\n",
              "      <td>0.0</td>\n",
              "      <td>98.0</td>\n",
              "      <td>6.611577</td>\n",
              "      <td>98.0</td>\n",
              "      <td>0.1</td>\n",
              "      <td>5585.258470</td>\n",
              "      <td>9799186.0</td>\n",
              "      <td>1.5</td>\n",
              "      <td>1.4</td>\n",
              "      <td>0.909</td>\n",
              "      <td>15.9</td>\n",
              "    </tr>\n",
              "  </tbody>\n",
              "</table>\n",
              "</div>"
            ],
            "text/plain": [
              "     Year  AdultMortality  InfantDeaths  ...  ThinChild  IncomeComp  Schooling\n",
              "0  2009.0           279.0           1.0  ...        5.6       0.436        5.3\n",
              "1  2015.0            53.0           0.0  ...        1.4       0.909       15.9\n",
              "\n",
              "[2 rows x 19 columns]"
            ]
          },
          "metadata": {
            "tags": []
          },
          "execution_count": 291
        }
      ]
    },
    {
      "cell_type": "code",
      "metadata": {
        "id": "8evJmVFv46aq",
        "colab_type": "code",
        "colab": {
          "base_uri": "https://localhost:8080/",
          "height": 317
        },
        "outputId": "16c24cc6-bf7e-45fc-b39d-424dbe24be81"
      },
      "source": [
        "X_train.describe()"
      ],
      "execution_count": 292,
      "outputs": [
        {
          "output_type": "execute_result",
          "data": {
            "text/html": [
              "<div>\n",
              "<style scoped>\n",
              "    .dataframe tbody tr th:only-of-type {\n",
              "        vertical-align: middle;\n",
              "    }\n",
              "\n",
              "    .dataframe tbody tr th {\n",
              "        vertical-align: top;\n",
              "    }\n",
              "\n",
              "    .dataframe thead th {\n",
              "        text-align: right;\n",
              "    }\n",
              "</style>\n",
              "<table border=\"1\" class=\"dataframe\">\n",
              "  <thead>\n",
              "    <tr style=\"text-align: right;\">\n",
              "      <th></th>\n",
              "      <th>Year</th>\n",
              "      <th>AdultMortality</th>\n",
              "      <th>InfantDeaths</th>\n",
              "      <th>Alcohol</th>\n",
              "      <th>Expenditure</th>\n",
              "      <th>HepB</th>\n",
              "      <th>Measles</th>\n",
              "      <th>BMI</th>\n",
              "      <th>5deaths</th>\n",
              "      <th>Polio</th>\n",
              "      <th>TExpenditure</th>\n",
              "      <th>Diphtheria</th>\n",
              "      <th>HIV</th>\n",
              "      <th>GDP</th>\n",
              "      <th>Population</th>\n",
              "      <th>ThinJuvenile</th>\n",
              "      <th>ThinChild</th>\n",
              "      <th>IncomeComp</th>\n",
              "      <th>Schooling</th>\n",
              "    </tr>\n",
              "  </thead>\n",
              "  <tbody>\n",
              "    <tr>\n",
              "      <th>count</th>\n",
              "      <td>2132.000000</td>\n",
              "      <td>2132.000000</td>\n",
              "      <td>2132.000000</td>\n",
              "      <td>2132.000000</td>\n",
              "      <td>2132.000000</td>\n",
              "      <td>2132.000000</td>\n",
              "      <td>2132.000000</td>\n",
              "      <td>2132.000000</td>\n",
              "      <td>2132.000000</td>\n",
              "      <td>2132.000000</td>\n",
              "      <td>2132.000000</td>\n",
              "      <td>2132.000000</td>\n",
              "      <td>2132.000000</td>\n",
              "      <td>2132.000000</td>\n",
              "      <td>2.132000e+03</td>\n",
              "      <td>2132.000000</td>\n",
              "      <td>2132.000000</td>\n",
              "      <td>2132.000000</td>\n",
              "      <td>2132.000000</td>\n",
              "    </tr>\n",
              "    <tr>\n",
              "      <th>mean</th>\n",
              "      <td>2007.414165</td>\n",
              "      <td>163.347092</td>\n",
              "      <td>30.196529</td>\n",
              "      <td>4.461315</td>\n",
              "      <td>784.210115</td>\n",
              "      <td>78.694067</td>\n",
              "      <td>2311.764540</td>\n",
              "      <td>38.354690</td>\n",
              "      <td>41.568011</td>\n",
              "      <td>83.156191</td>\n",
              "      <td>5.879050</td>\n",
              "      <td>82.952627</td>\n",
              "      <td>1.804503</td>\n",
              "      <td>6879.022615</td>\n",
              "      <td>1.219773e+07</td>\n",
              "      <td>4.926220</td>\n",
              "      <td>4.971670</td>\n",
              "      <td>0.632057</td>\n",
              "      <td>12.075516</td>\n",
              "    </tr>\n",
              "    <tr>\n",
              "      <th>std</th>\n",
              "      <td>4.574391</td>\n",
              "      <td>121.818139</td>\n",
              "      <td>119.444983</td>\n",
              "      <td>3.920968</td>\n",
              "      <td>1978.667542</td>\n",
              "      <td>24.873200</td>\n",
              "      <td>10679.891206</td>\n",
              "      <td>19.811296</td>\n",
              "      <td>162.734547</td>\n",
              "      <td>22.311339</td>\n",
              "      <td>2.319083</td>\n",
              "      <td>22.887461</td>\n",
              "      <td>5.387250</td>\n",
              "      <td>13343.714081</td>\n",
              "      <td>6.192380e+07</td>\n",
              "      <td>4.530537</td>\n",
              "      <td>4.634997</td>\n",
              "      <td>0.203864</td>\n",
              "      <td>3.197219</td>\n",
              "    </tr>\n",
              "    <tr>\n",
              "      <th>min</th>\n",
              "      <td>2000.000000</td>\n",
              "      <td>1.000000</td>\n",
              "      <td>0.000000</td>\n",
              "      <td>-4.825865</td>\n",
              "      <td>0.000000</td>\n",
              "      <td>2.000000</td>\n",
              "      <td>0.000000</td>\n",
              "      <td>1.400000</td>\n",
              "      <td>0.000000</td>\n",
              "      <td>3.000000</td>\n",
              "      <td>0.370000</td>\n",
              "      <td>2.000000</td>\n",
              "      <td>0.100000</td>\n",
              "      <td>-1691.433233</td>\n",
              "      <td>-1.608070e+07</td>\n",
              "      <td>0.100000</td>\n",
              "      <td>0.100000</td>\n",
              "      <td>0.000000</td>\n",
              "      <td>0.000000</td>\n",
              "    </tr>\n",
              "    <tr>\n",
              "      <th>25%</th>\n",
              "      <td>2003.000000</td>\n",
              "      <td>74.750000</td>\n",
              "      <td>0.000000</td>\n",
              "      <td>0.880000</td>\n",
              "      <td>10.895488</td>\n",
              "      <td>73.000000</td>\n",
              "      <td>0.000000</td>\n",
              "      <td>19.500000</td>\n",
              "      <td>0.000000</td>\n",
              "      <td>78.000000</td>\n",
              "      <td>4.337500</td>\n",
              "      <td>79.000000</td>\n",
              "      <td>0.100000</td>\n",
              "      <td>488.562280</td>\n",
              "      <td>2.545235e+05</td>\n",
              "      <td>1.600000</td>\n",
              "      <td>1.600000</td>\n",
              "      <td>0.501000</td>\n",
              "      <td>10.200000</td>\n",
              "    </tr>\n",
              "    <tr>\n",
              "      <th>50%</th>\n",
              "      <td>2007.000000</td>\n",
              "      <td>144.000000</td>\n",
              "      <td>3.000000</td>\n",
              "      <td>3.695000</td>\n",
              "      <td>86.985445</td>\n",
              "      <td>88.000000</td>\n",
              "      <td>15.500000</td>\n",
              "      <td>43.600000</td>\n",
              "      <td>4.000000</td>\n",
              "      <td>93.000000</td>\n",
              "      <td>5.790000</td>\n",
              "      <td>93.000000</td>\n",
              "      <td>0.100000</td>\n",
              "      <td>1772.961675</td>\n",
              "      <td>1.944258e+06</td>\n",
              "      <td>3.300000</td>\n",
              "      <td>3.300000</td>\n",
              "      <td>0.678000</td>\n",
              "      <td>12.300000</td>\n",
              "    </tr>\n",
              "    <tr>\n",
              "      <th>75%</th>\n",
              "      <td>2011.000000</td>\n",
              "      <td>224.000000</td>\n",
              "      <td>20.000000</td>\n",
              "      <td>7.300000</td>\n",
              "      <td>493.349782</td>\n",
              "      <td>96.000000</td>\n",
              "      <td>362.250000</td>\n",
              "      <td>56.100000</td>\n",
              "      <td>24.000000</td>\n",
              "      <td>97.000000</td>\n",
              "      <td>7.322500</td>\n",
              "      <td>97.000000</td>\n",
              "      <td>0.700000</td>\n",
              "      <td>5239.296855</td>\n",
              "      <td>7.496690e+06</td>\n",
              "      <td>7.300000</td>\n",
              "      <td>7.300000</td>\n",
              "      <td>0.777000</td>\n",
              "      <td>14.200000</td>\n",
              "    </tr>\n",
              "    <tr>\n",
              "      <th>max</th>\n",
              "      <td>2015.000000</td>\n",
              "      <td>717.000000</td>\n",
              "      <td>1800.000000</td>\n",
              "      <td>17.310000</td>\n",
              "      <td>18961.348600</td>\n",
              "      <td>99.000000</td>\n",
              "      <td>212183.000000</td>\n",
              "      <td>77.600000</td>\n",
              "      <td>2500.000000</td>\n",
              "      <td>99.000000</td>\n",
              "      <td>14.390000</td>\n",
              "      <td>99.000000</td>\n",
              "      <td>50.600000</td>\n",
              "      <td>115761.577000</td>\n",
              "      <td>1.293859e+09</td>\n",
              "      <td>27.700000</td>\n",
              "      <td>28.600000</td>\n",
              "      <td>0.948000</td>\n",
              "      <td>20.700000</td>\n",
              "    </tr>\n",
              "  </tbody>\n",
              "</table>\n",
              "</div>"
            ],
            "text/plain": [
              "              Year  AdultMortality  ...   IncomeComp    Schooling\n",
              "count  2132.000000     2132.000000  ...  2132.000000  2132.000000\n",
              "mean   2007.414165      163.347092  ...     0.632057    12.075516\n",
              "std       4.574391      121.818139  ...     0.203864     3.197219\n",
              "min    2000.000000        1.000000  ...     0.000000     0.000000\n",
              "25%    2003.000000       74.750000  ...     0.501000    10.200000\n",
              "50%    2007.000000      144.000000  ...     0.678000    12.300000\n",
              "75%    2011.000000      224.000000  ...     0.777000    14.200000\n",
              "max    2015.000000      717.000000  ...     0.948000    20.700000\n",
              "\n",
              "[8 rows x 19 columns]"
            ]
          },
          "metadata": {
            "tags": []
          },
          "execution_count": 292
        }
      ]
    },
    {
      "cell_type": "code",
      "metadata": {
        "id": "Vfzi7y7hShxM",
        "colab_type": "code",
        "colab": {
          "base_uri": "https://localhost:8080/",
          "height": 34
        },
        "outputId": "5b0157a4-d6b1-4258-9e35-d1a90c5844b4"
      },
      "source": [
        "X_train.shape"
      ],
      "execution_count": 295,
      "outputs": [
        {
          "output_type": "execute_result",
          "data": {
            "text/plain": [
              "(2132, 19)"
            ]
          },
          "metadata": {
            "tags": []
          },
          "execution_count": 295
        }
      ]
    },
    {
      "cell_type": "code",
      "metadata": {
        "id": "21NcYfpbSh0D",
        "colab_type": "code",
        "colab": {
          "base_uri": "https://localhost:8080/",
          "height": 34
        },
        "outputId": "4af9a8b1-478a-4de7-fd84-9b1c01417fd0"
      },
      "source": [
        "X_test.shape"
      ],
      "execution_count": 296,
      "outputs": [
        {
          "output_type": "execute_result",
          "data": {
            "text/plain": [
              "(534, 19)"
            ]
          },
          "metadata": {
            "tags": []
          },
          "execution_count": 296
        }
      ]
    },
    {
      "cell_type": "code",
      "metadata": {
        "id": "AnPsrQ7OSh2U",
        "colab_type": "code",
        "colab": {
          "base_uri": "https://localhost:8080/",
          "height": 34
        },
        "outputId": "3ed0f60a-687e-48ef-fb38-010ca300959f"
      },
      "source": [
        "y_train.shape"
      ],
      "execution_count": 297,
      "outputs": [
        {
          "output_type": "execute_result",
          "data": {
            "text/plain": [
              "(2132, 2)"
            ]
          },
          "metadata": {
            "tags": []
          },
          "execution_count": 297
        }
      ]
    },
    {
      "cell_type": "code",
      "metadata": {
        "id": "sbbQzr4CSh5N",
        "colab_type": "code",
        "colab": {
          "base_uri": "https://localhost:8080/",
          "height": 34
        },
        "outputId": "c2f8e788-16cd-46ea-862c-401ab7125220"
      },
      "source": [
        "y_test.shape"
      ],
      "execution_count": 298,
      "outputs": [
        {
          "output_type": "execute_result",
          "data": {
            "text/plain": [
              "(534, 2)"
            ]
          },
          "metadata": {
            "tags": []
          },
          "execution_count": 298
        }
      ]
    },
    {
      "cell_type": "code",
      "metadata": {
        "id": "OzZdkg7SSp9K",
        "colab_type": "code",
        "colab": {
          "base_uri": "https://localhost:8080/",
          "height": 34
        },
        "outputId": "cbc216d6-90d5-4a5b-ebcf-47fd8b638197"
      },
      "source": [
        "train = pd.concat([X_train,y_train.reindex(X_train.index)], axis=1)\n",
        "train.shape"
      ],
      "execution_count": 305,
      "outputs": [
        {
          "output_type": "execute_result",
          "data": {
            "text/plain": [
              "(2132, 21)"
            ]
          },
          "metadata": {
            "tags": []
          },
          "execution_count": 305
        }
      ]
    },
    {
      "cell_type": "code",
      "metadata": {
        "id": "-1alj5qiS0AY",
        "colab_type": "code",
        "colab": {
          "base_uri": "https://localhost:8080/",
          "height": 34
        },
        "outputId": "e4dd0e45-0929-454a-8972-9a789182c1ca"
      },
      "source": [
        "test = pd.concat([X_test,y_test.reindex(X_test.index)], axis=1)\n",
        "test.shape"
      ],
      "execution_count": 306,
      "outputs": [
        {
          "output_type": "execute_result",
          "data": {
            "text/plain": [
              "(534, 21)"
            ]
          },
          "metadata": {
            "tags": []
          },
          "execution_count": 306
        }
      ]
    },
    {
      "cell_type": "code",
      "metadata": {
        "id": "nLL0dipBUkr5",
        "colab_type": "code",
        "colab": {}
      },
      "source": [
        "test.to_csv(r'test.csv', index = None, header=True)"
      ],
      "execution_count": 0,
      "outputs": []
    },
    {
      "cell_type": "code",
      "metadata": {
        "id": "ZpOD4AVSU2as",
        "colab_type": "code",
        "colab": {}
      },
      "source": [
        "train.to_csv(r'train.csv', index = None, header=True)"
      ],
      "execution_count": 0,
      "outputs": []
    }
  ]
}